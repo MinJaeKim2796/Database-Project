{
  "nbformat": 4,
  "nbformat_minor": 0,
  "metadata": {
    "colab": {
      "name": "데이터베이스 0515 ver - Player",
      "provenance": [],
      "collapsed_sections": []
    },
    "kernelspec": {
      "display_name": "Python 3",
      "name": "python3"
    }
  },
  "cells": [
    {
      "cell_type": "markdown",
      "metadata": {
        "id": "vVCsIWWeizGd"
      },
      "source": [
        "# KBO 선수 크롤링\n",
        "https://www.koreabaseball.com/Player/Search.aspx"
      ]
    },
    {
      "cell_type": "code",
      "metadata": {
        "id": "p3R0CC6BZCU7",
        "colab": {
          "base_uri": "https://localhost:8080/"
        },
        "outputId": "4e3ebd25-7705-42b5-c8b3-f1e760227097"
      },
      "source": [
        "!pip install selenium\n",
        "from selenium import webdriver\n",
        "from bs4 import BeautifulSoup\n",
        "import re\n",
        "import time\n",
        "import pandas as pd\n",
        "import numpy as np\n",
        "import requests"
      ],
      "execution_count": 2,
      "outputs": [
        {
          "output_type": "stream",
          "text": [
            "Collecting selenium\n",
            "\u001b[?25l  Downloading https://files.pythonhosted.org/packages/80/d6/4294f0b4bce4de0abf13e17190289f9d0613b0a44e5dd6a7f5ca98459853/selenium-3.141.0-py2.py3-none-any.whl (904kB)\n",
            "\r\u001b[K     |▍                               | 10kB 17.5MB/s eta 0:00:01\r\u001b[K     |▊                               | 20kB 19.9MB/s eta 0:00:01\r\u001b[K     |█                               | 30kB 23.0MB/s eta 0:00:01\r\u001b[K     |█▌                              | 40kB 25.6MB/s eta 0:00:01\r\u001b[K     |█▉                              | 51kB 27.8MB/s eta 0:00:01\r\u001b[K     |██▏                             | 61kB 28.2MB/s eta 0:00:01\r\u001b[K     |██▌                             | 71kB 28.9MB/s eta 0:00:01\r\u001b[K     |███                             | 81kB 29.5MB/s eta 0:00:01\r\u001b[K     |███▎                            | 92kB 29.9MB/s eta 0:00:01\r\u001b[K     |███▋                            | 102kB 31.6MB/s eta 0:00:01\r\u001b[K     |████                            | 112kB 31.6MB/s eta 0:00:01\r\u001b[K     |████▍                           | 122kB 31.6MB/s eta 0:00:01\r\u001b[K     |████▊                           | 133kB 31.6MB/s eta 0:00:01\r\u001b[K     |█████                           | 143kB 31.6MB/s eta 0:00:01\r\u001b[K     |█████▍                          | 153kB 31.6MB/s eta 0:00:01\r\u001b[K     |█████▉                          | 163kB 31.6MB/s eta 0:00:01\r\u001b[K     |██████▏                         | 174kB 31.6MB/s eta 0:00:01\r\u001b[K     |██████▌                         | 184kB 31.6MB/s eta 0:00:01\r\u001b[K     |██████▉                         | 194kB 31.6MB/s eta 0:00:01\r\u001b[K     |███████▎                        | 204kB 31.6MB/s eta 0:00:01\r\u001b[K     |███████▋                        | 215kB 31.6MB/s eta 0:00:01\r\u001b[K     |████████                        | 225kB 31.6MB/s eta 0:00:01\r\u001b[K     |████████▎                       | 235kB 31.6MB/s eta 0:00:01\r\u001b[K     |████████▊                       | 245kB 31.6MB/s eta 0:00:01\r\u001b[K     |█████████                       | 256kB 31.6MB/s eta 0:00:01\r\u001b[K     |█████████▍                      | 266kB 31.6MB/s eta 0:00:01\r\u001b[K     |█████████▉                      | 276kB 31.6MB/s eta 0:00:01\r\u001b[K     |██████████▏                     | 286kB 31.6MB/s eta 0:00:01\r\u001b[K     |██████████▌                     | 296kB 31.6MB/s eta 0:00:01\r\u001b[K     |██████████▉                     | 307kB 31.6MB/s eta 0:00:01\r\u001b[K     |███████████▎                    | 317kB 31.6MB/s eta 0:00:01\r\u001b[K     |███████████▋                    | 327kB 31.6MB/s eta 0:00:01\r\u001b[K     |████████████                    | 337kB 31.6MB/s eta 0:00:01\r\u001b[K     |████████████▎                   | 348kB 31.6MB/s eta 0:00:01\r\u001b[K     |████████████▊                   | 358kB 31.6MB/s eta 0:00:01\r\u001b[K     |█████████████                   | 368kB 31.6MB/s eta 0:00:01\r\u001b[K     |█████████████▍                  | 378kB 31.6MB/s eta 0:00:01\r\u001b[K     |█████████████▊                  | 389kB 31.6MB/s eta 0:00:01\r\u001b[K     |██████████████▏                 | 399kB 31.6MB/s eta 0:00:01\r\u001b[K     |██████████████▌                 | 409kB 31.6MB/s eta 0:00:01\r\u001b[K     |██████████████▉                 | 419kB 31.6MB/s eta 0:00:01\r\u001b[K     |███████████████▏                | 430kB 31.6MB/s eta 0:00:01\r\u001b[K     |███████████████▋                | 440kB 31.6MB/s eta 0:00:01\r\u001b[K     |████████████████                | 450kB 31.6MB/s eta 0:00:01\r\u001b[K     |████████████████▎               | 460kB 31.6MB/s eta 0:00:01\r\u001b[K     |████████████████▋               | 471kB 31.6MB/s eta 0:00:01\r\u001b[K     |█████████████████               | 481kB 31.6MB/s eta 0:00:01\r\u001b[K     |█████████████████▍              | 491kB 31.6MB/s eta 0:00:01\r\u001b[K     |█████████████████▊              | 501kB 31.6MB/s eta 0:00:01\r\u001b[K     |██████████████████▏             | 512kB 31.6MB/s eta 0:00:01\r\u001b[K     |██████████████████▌             | 522kB 31.6MB/s eta 0:00:01\r\u001b[K     |██████████████████▉             | 532kB 31.6MB/s eta 0:00:01\r\u001b[K     |███████████████████▏            | 542kB 31.6MB/s eta 0:00:01\r\u001b[K     |███████████████████▋            | 552kB 31.6MB/s eta 0:00:01\r\u001b[K     |████████████████████            | 563kB 31.6MB/s eta 0:00:01\r\u001b[K     |████████████████████▎           | 573kB 31.6MB/s eta 0:00:01\r\u001b[K     |████████████████████▋           | 583kB 31.6MB/s eta 0:00:01\r\u001b[K     |█████████████████████           | 593kB 31.6MB/s eta 0:00:01\r\u001b[K     |█████████████████████▍          | 604kB 31.6MB/s eta 0:00:01\r\u001b[K     |█████████████████████▊          | 614kB 31.6MB/s eta 0:00:01\r\u001b[K     |██████████████████████          | 624kB 31.6MB/s eta 0:00:01\r\u001b[K     |██████████████████████▌         | 634kB 31.6MB/s eta 0:00:01\r\u001b[K     |██████████████████████▉         | 645kB 31.6MB/s eta 0:00:01\r\u001b[K     |███████████████████████▏        | 655kB 31.6MB/s eta 0:00:01\r\u001b[K     |███████████████████████▌        | 665kB 31.6MB/s eta 0:00:01\r\u001b[K     |████████████████████████        | 675kB 31.6MB/s eta 0:00:01\r\u001b[K     |████████████████████████▎       | 686kB 31.6MB/s eta 0:00:01\r\u001b[K     |████████████████████████▋       | 696kB 31.6MB/s eta 0:00:01\r\u001b[K     |█████████████████████████       | 706kB 31.6MB/s eta 0:00:01\r\u001b[K     |█████████████████████████▍      | 716kB 31.6MB/s eta 0:00:01\r\u001b[K     |█████████████████████████▊      | 727kB 31.6MB/s eta 0:00:01\r\u001b[K     |██████████████████████████      | 737kB 31.6MB/s eta 0:00:01\r\u001b[K     |██████████████████████████▍     | 747kB 31.6MB/s eta 0:00:01\r\u001b[K     |██████████████████████████▉     | 757kB 31.6MB/s eta 0:00:01\r\u001b[K     |███████████████████████████▏    | 768kB 31.6MB/s eta 0:00:01\r\u001b[K     |███████████████████████████▌    | 778kB 31.6MB/s eta 0:00:01\r\u001b[K     |████████████████████████████    | 788kB 31.6MB/s eta 0:00:01\r\u001b[K     |████████████████████████████▎   | 798kB 31.6MB/s eta 0:00:01\r\u001b[K     |████████████████████████████▋   | 808kB 31.6MB/s eta 0:00:01\r\u001b[K     |█████████████████████████████   | 819kB 31.6MB/s eta 0:00:01\r\u001b[K     |█████████████████████████████▍  | 829kB 31.6MB/s eta 0:00:01\r\u001b[K     |█████████████████████████████▊  | 839kB 31.6MB/s eta 0:00:01\r\u001b[K     |██████████████████████████████  | 849kB 31.6MB/s eta 0:00:01\r\u001b[K     |██████████████████████████████▍ | 860kB 31.6MB/s eta 0:00:01\r\u001b[K     |██████████████████████████████▉ | 870kB 31.6MB/s eta 0:00:01\r\u001b[K     |███████████████████████████████▏| 880kB 31.6MB/s eta 0:00:01\r\u001b[K     |███████████████████████████████▌| 890kB 31.6MB/s eta 0:00:01\r\u001b[K     |███████████████████████████████▉| 901kB 31.6MB/s eta 0:00:01\r\u001b[K     |████████████████████████████████| 911kB 31.6MB/s \n",
            "\u001b[?25hRequirement already satisfied: urllib3 in /usr/local/lib/python3.7/dist-packages (from selenium) (1.24.3)\n",
            "Installing collected packages: selenium\n",
            "Successfully installed selenium-3.141.0\n"
          ],
          "name": "stdout"
        }
      ]
    },
    {
      "cell_type": "code",
      "metadata": {
        "colab": {
          "base_uri": "https://localhost:8080/"
        },
        "id": "BZZ84zFFTMdW",
        "outputId": "97e588eb-4d40-4694-df0f-b6bdae66ea65"
      },
      "source": [
        "!apt-get update\n",
        "!apt install chromium-chromedriver\n",
        "!cp /usr/lib/chromium-browser/chromedriver /usr/bin"
      ],
      "execution_count": 3,
      "outputs": [
        {
          "output_type": "stream",
          "text": [
            "\r0% [Working]\r            \rGet:1 http://security.ubuntu.com/ubuntu bionic-security InRelease [88.7 kB]\n",
            "Ign:2 https://developer.download.nvidia.com/compute/cuda/repos/ubuntu1804/x86_64  InRelease\n",
            "Hit:3 http://archive.ubuntu.com/ubuntu bionic InRelease\n",
            "Get:4 http://ppa.launchpad.net/c2d4u.team/c2d4u4.0+/ubuntu bionic InRelease [15.9 kB]\n",
            "Ign:5 https://developer.download.nvidia.com/compute/machine-learning/repos/ubuntu1804/x86_64  InRelease\n",
            "Get:6 https://developer.download.nvidia.com/compute/cuda/repos/ubuntu1804/x86_64  Release [697 B]\n",
            "Hit:7 https://developer.download.nvidia.com/compute/machine-learning/repos/ubuntu1804/x86_64  Release\n",
            "Get:8 https://developer.download.nvidia.com/compute/cuda/repos/ubuntu1804/x86_64  Release.gpg [836 B]\n",
            "Get:9 http://archive.ubuntu.com/ubuntu bionic-updates InRelease [88.7 kB]\n",
            "Get:10 https://cloud.r-project.org/bin/linux/ubuntu bionic-cran40/ InRelease [3,626 B]\n",
            "Hit:11 http://ppa.launchpad.net/cran/libgit2/ubuntu bionic InRelease\n",
            "Get:12 http://security.ubuntu.com/ubuntu bionic-security/restricted amd64 Packages [423 kB]\n",
            "Get:13 http://archive.ubuntu.com/ubuntu bionic-backports InRelease [74.6 kB]\n",
            "Hit:14 http://ppa.launchpad.net/deadsnakes/ppa/ubuntu bionic InRelease\n",
            "Get:15 http://security.ubuntu.com/ubuntu bionic-security/main amd64 Packages [2,150 kB]\n",
            "Get:16 http://security.ubuntu.com/ubuntu bionic-security/universe amd64 Packages [1,411 kB]\n",
            "Get:17 http://ppa.launchpad.net/graphics-drivers/ppa/ubuntu bionic InRelease [21.3 kB]\n",
            "Ign:19 https://developer.download.nvidia.com/compute/cuda/repos/ubuntu1804/x86_64  Packages\n",
            "Get:19 https://developer.download.nvidia.com/compute/cuda/repos/ubuntu1804/x86_64  Packages [772 kB]\n",
            "Get:20 http://ppa.launchpad.net/c2d4u.team/c2d4u4.0+/ubuntu bionic/main Sources [1,761 kB]\n",
            "Get:21 https://cloud.r-project.org/bin/linux/ubuntu bionic-cran40/ Packages [56.8 kB]\n",
            "Get:22 http://archive.ubuntu.com/ubuntu bionic-updates/restricted amd64 Packages [452 kB]\n",
            "Get:23 http://ppa.launchpad.net/c2d4u.team/c2d4u4.0+/ubuntu bionic/main amd64 Packages [901 kB]\n",
            "Get:24 http://archive.ubuntu.com/ubuntu bionic-updates/main amd64 Packages [2,582 kB]\n",
            "Get:25 http://archive.ubuntu.com/ubuntu bionic-updates/universe amd64 Packages [2,183 kB]\n",
            "Get:26 http://ppa.launchpad.net/graphics-drivers/ppa/ubuntu bionic/main amd64 Packages [41.5 kB]\n",
            "Fetched 13.0 MB in 3s (3,828 kB/s)\n",
            "Reading package lists... Done\n",
            "Reading package lists... Done\n",
            "Building dependency tree       \n",
            "Reading state information... Done\n",
            "The following package was automatically installed and is no longer required:\n",
            "  libnvidia-common-460\n",
            "Use 'apt autoremove' to remove it.\n",
            "The following additional packages will be installed:\n",
            "  chromium-browser chromium-browser-l10n chromium-codecs-ffmpeg-extra\n",
            "Suggested packages:\n",
            "  webaccounts-chromium-extension unity-chromium-extension\n",
            "The following NEW packages will be installed:\n",
            "  chromium-browser chromium-browser-l10n chromium-chromedriver\n",
            "  chromium-codecs-ffmpeg-extra\n",
            "0 upgraded, 4 newly installed, 0 to remove and 62 not upgraded.\n",
            "Need to get 86.6 MB of archives.\n",
            "After this operation, 300 MB of additional disk space will be used.\n",
            "Get:1 http://archive.ubuntu.com/ubuntu bionic-updates/universe amd64 chromium-codecs-ffmpeg-extra amd64 90.0.4430.93-0ubuntu0.18.04.1 [1,128 kB]\n",
            "Get:2 http://archive.ubuntu.com/ubuntu bionic-updates/universe amd64 chromium-browser amd64 90.0.4430.93-0ubuntu0.18.04.1 [76.9 MB]\n",
            "Get:3 http://archive.ubuntu.com/ubuntu bionic-updates/universe amd64 chromium-browser-l10n all 90.0.4430.93-0ubuntu0.18.04.1 [3,853 kB]\n",
            "Get:4 http://archive.ubuntu.com/ubuntu bionic-updates/universe amd64 chromium-chromedriver amd64 90.0.4430.93-0ubuntu0.18.04.1 [4,743 kB]\n",
            "Fetched 86.6 MB in 3s (27.4 MB/s)\n",
            "Selecting previously unselected package chromium-codecs-ffmpeg-extra.\n",
            "(Reading database ... 160706 files and directories currently installed.)\n",
            "Preparing to unpack .../chromium-codecs-ffmpeg-extra_90.0.4430.93-0ubuntu0.18.04.1_amd64.deb ...\n",
            "Unpacking chromium-codecs-ffmpeg-extra (90.0.4430.93-0ubuntu0.18.04.1) ...\n",
            "Selecting previously unselected package chromium-browser.\n",
            "Preparing to unpack .../chromium-browser_90.0.4430.93-0ubuntu0.18.04.1_amd64.deb ...\n",
            "Unpacking chromium-browser (90.0.4430.93-0ubuntu0.18.04.1) ...\n",
            "Selecting previously unselected package chromium-browser-l10n.\n",
            "Preparing to unpack .../chromium-browser-l10n_90.0.4430.93-0ubuntu0.18.04.1_all.deb ...\n",
            "Unpacking chromium-browser-l10n (90.0.4430.93-0ubuntu0.18.04.1) ...\n",
            "Selecting previously unselected package chromium-chromedriver.\n",
            "Preparing to unpack .../chromium-chromedriver_90.0.4430.93-0ubuntu0.18.04.1_amd64.deb ...\n",
            "Unpacking chromium-chromedriver (90.0.4430.93-0ubuntu0.18.04.1) ...\n",
            "Setting up chromium-codecs-ffmpeg-extra (90.0.4430.93-0ubuntu0.18.04.1) ...\n",
            "Setting up chromium-browser (90.0.4430.93-0ubuntu0.18.04.1) ...\n",
            "update-alternatives: using /usr/bin/chromium-browser to provide /usr/bin/x-www-browser (x-www-browser) in auto mode\n",
            "update-alternatives: using /usr/bin/chromium-browser to provide /usr/bin/gnome-www-browser (gnome-www-browser) in auto mode\n",
            "Setting up chromium-chromedriver (90.0.4430.93-0ubuntu0.18.04.1) ...\n",
            "Setting up chromium-browser-l10n (90.0.4430.93-0ubuntu0.18.04.1) ...\n",
            "Processing triggers for man-db (2.8.3-2ubuntu0.1) ...\n",
            "Processing triggers for hicolor-icon-theme (0.17-2) ...\n",
            "Processing triggers for mime-support (3.60ubuntu1) ...\n",
            "Processing triggers for libc-bin (2.27-3ubuntu1.2) ...\n",
            "/sbin/ldconfig.real: /usr/local/lib/python3.7/dist-packages/ideep4py/lib/libmkldnn.so.0 is not a symbolic link\n",
            "\n",
            "cp: '/usr/lib/chromium-browser/chromedriver' and '/usr/bin/chromedriver' are the same file\n"
          ],
          "name": "stdout"
        }
      ]
    },
    {
      "cell_type": "code",
      "metadata": {
        "id": "KrPK57AyZCZS"
      },
      "source": [
        "chrome_options = webdriver.ChromeOptions()\n",
        "chrome_options.add_argument('--headless') #내부 창을 띄울 수 없으므로 설정\n",
        "chrome_options.add_argument('--no-sandbox')\n",
        "chrome_options.add_argument('--disable-dev-shm-usage')\n",
        "driver = webdriver.Chrome('chromedriver',options=chrome_options)"
      ],
      "execution_count": 4,
      "outputs": []
    },
    {
      "cell_type": "code",
      "metadata": {
        "id": "9NfXnNCDZCcw"
      },
      "source": [
        "column = []\n",
        "def Player(team):\n",
        "    players = []\n",
        "    remove = []\n",
        "    temp_list = []\n",
        "    temp_url = [] \n",
        "    time.sleep(1.5)\n",
        "    url = driver.get('https://www.koreabaseball.com/Player/Search.aspx')        # Player 전체 URL\n",
        "    time.sleep(1.5)\n",
        "    driver.find_element_by_class_name('select02').click()\n",
        "    time.sleep(1.5)\n",
        "    xpath_format='//option[@value=\"'+team+'\"]'\n",
        "    driver.find_element_by_xpath(xpath_format).click()\n",
        "    time.sleep(1.5)\n",
        "    driver.find_element_by_id(f'cphContents_cphContents_cphContents_ucPager_btnNo{1}').click()\n",
        "    time.sleep(1.5)\n",
        "    team_player = driver.find_element_by_class_name('point').text               # 팀별 선수 수\n",
        "    time.sleep(1.5)\n",
        "    count = int(team_player)\n",
        "    page = (count-1) // 20 + 1\n",
        "    print(count)\n",
        "    for j in range(1, page + 1):\n",
        "        time.sleep(2.5)\n",
        "        driver.find_element_by_id(f'cphContents_cphContents_cphContents_ucPager_btnNo{j}').click()\n",
        "        time.sleep(2.5)\n",
        "        temp_list = [x.split(' ') for x in driver.find_element_by_tag_name('table').text.split('\\n')]\n",
        "        column = temp_list[0]\n",
        "        temp_list.pop(0)\n",
        "        temp_list =  [item for item in temp_list if item[0].isdigit()]\n",
        "        print(temp_list)\n",
        "        for k in range(len(temp_list)):\n",
        "            temp_url = driver.find_element_by_link_text(temp_list[k][1]).get_attribute(\"href\")\n",
        "            time.sleep(2.5)\n",
        "            temp_list[k].append(temp_url)\n",
        "        players += temp_list\n",
        "    return players"
      ],
      "execution_count": 5,
      "outputs": []
    },
    {
      "cell_type": "code",
      "metadata": {
        "id": "qvf7neV3bSp_"
      },
      "source": [
        "def URL(player):\n",
        "    URL = []\n",
        "    for i in range(len(player)):\n",
        "        URL.append(player[i][-1])\n",
        "    return URL"
      ],
      "execution_count": 6,
      "outputs": []
    },
    {
      "cell_type": "code",
      "metadata": {
        "id": "EhgwrMvjbetO"
      },
      "source": [
        "def player_info(player):\n",
        "    player_info = []\n",
        "    for i in range(len(player)):\n",
        "        if 'Futures' in player[i]:\n",
        "            league = 2\n",
        "        else : \n",
        "            league = 1\n",
        "        url = player[i]\n",
        "        html = requests.get(url)\n",
        "        bs_html = BeautifulSoup(html.content,\"html.parser\")\n",
        "        if league == 1:\n",
        "            tuta_type = (bs_html.find(\"span\",{\"id\":\"cphContents_cphContents_cphContents_playerProfile_lblPosition\"})).text\n",
        "            tuta_type = tuta_type[-5:-1]\n",
        "            payment= (bs_html.find(\"span\", {\"id\":\"cphContents_cphContents_cphContents_playerProfile_lblPayment\"})).text\n",
        "            salary = (bs_html.find(\"span\", {\"id\":\"cphContents_cphContents_cphContents_playerProfile_lblSalary\"})).text\n",
        "            debut = (bs_html.find(\"span\", {\"id\":\"cphContents_cphContents_cphContents_playerProfile_lblJoinInfo\"})).text\n",
        "        else :\n",
        "            tuta_type = bs_html.find(\"span\",{\"id\":\"cphContents_cphContents_cphContents_ucPlayerProfile_lblPosition\"}).text\n",
        "            tuta_type = tuta_type[-5:-1]\n",
        "\n",
        "            payment= (bs_html.find(\"span\", {\"id\":\"cphContents_cphContents_cphContents_ucPlayerProfile_lblPayment\"})).text\n",
        "            salary = (bs_html.find(\"span\", {\"id\":\"cphContents_cphContents_cphContents_ucPlayerProfile_lblSalary\"})).text\n",
        "            debut = (bs_html.find(\"span\", {\"id\":\"cphContents_cphContents_cphContents_ucPlayerProfile_lblJoinInfo\"})).text\n",
        "        player_info.append([url, league, tuta_type, payment, salary, debut])\n",
        "    return player_info"
      ],
      "execution_count": 7,
      "outputs": []
    },
    {
      "cell_type": "code",
      "metadata": {
        "id": "Vgn8JT8rapQD"
      },
      "source": [
        "def to_DF(player, info):\n",
        "    player = pd.DataFrame(player)\n",
        "    info = pd.DataFrame(info)\n",
        "    player = player.iloc[:,0:7]\n",
        "    player.columns = [\"number\", \"이름\", \"팀\",\"pos\",\"birth\",\"key\",\"weight\"]\n",
        "    info.columns = [\"url\", \"league\", \"tuta_type\",\"payment\",\"salary\",\"debut\"]\n",
        "    return pd.concat([player,info], axis=1, join='inner')"
      ],
      "execution_count": 33,
      "outputs": []
    },
    {
      "cell_type": "code",
      "metadata": {
        "id": "OlBNrgGCSFm9",
        "colab": {
          "base_uri": "https://localhost:8080/"
        },
        "outputId": "8d2ec0e7-314e-4d29-a532-307fac32c29a"
      },
      "source": [
        "NC_player = Player(\"NC\")\n",
        "NC_URL = URL(NC_player)\n",
        "NC_info = player_info(NC_URL)\n",
        "NC = to_DF(NC_player, NC_info)"
      ],
      "execution_count": 45,
      "outputs": [
        {
          "output_type": "stream",
          "text": [
            "83\n",
            "[['21', '강동연', 'NC', '투수', '1992-12-18', '195cm,', '94kg', '진북초-덕수중-유신고-두산-상무-두산'], ['68', '강윤구', 'NC', '투수', '1990-07-10', '183cm,', '89kg', '서울이수초-서울경원중-장충고-히어로즈-넥센-상무-넥센'], ['49', '강진성', 'NC', '내야수', '1993-10-19', '180cm,', '81kg', '가동초-잠신중-경기고-NC-경찰'], ['78', '강태경', 'NC', '투수', '2001-07-26', '188cm,', '95kg', '양덕초-잠실중-배명고'], ['59', '구창모', 'NC', '투수', '1997-02-17', '183cm,', '85kg', '천안남산초-덕수중-울산공고'], ['65', '권법수', 'NC', '외야수', '1997-04-05', '183cm,', '82kg', '선학초-재능중-제물포고'], ['36', '권희동', 'NC', '외야수', '1990-12-30', '177cm,', '85kg', '동천초-경주중-경주고-경남대-NC-상무'], ['24', '김건태', 'NC', '투수', '1991-10-02', '185cm,', '85kg', '광주수창초-무등중-진흥고-넥센-상무-넥센'], ['8', '김기환', 'NC', '외야수', '1995-08-25', '182cm,', '74kg', '관산초-대송중-소래고-삼성'], ['5', '김민수', 'NC', '내야수', '1998-07-16', '180cm,', '83kg', '김해삼성초-개성중-부산고'], ['69', '김범준', 'NC', '외야수', '2000-04-20', '183cm,', '90kg', '울산대현초-제일중-대구고'], ['58', '김영규', 'NC', '투수', '2000-02-10', '188cm,', '86kg', '광주서석초-무등중-광주제일고'], ['57', '김영중', 'NC', '투수', '1998-07-02', '182cm,', '86kg', '군산남초-군산중-군산상고'], ['103', '김재중', 'NC', '외야수', '2002-06-26', '173cm,', '73kg', '효제초-청량중-서울고'], ['102', '김정호', 'NC', '포수', '1998-07-13', '172cm,', '84kg', '대구옥산초-경복중-포항제철고-성균관대'], ['7', '김주원', 'NC', '내야수', '2002-07-30', '185cm,', '83kg', '삼일초(군포시리틀)-안산중앙중-유신고'], ['100', '김준상', 'NC', '내야수', '2002-03-16', '179cm,', '80kg', '도신초-성남중-성남고'], ['1', '김준완', 'NC', '외야수', '1991-01-20', '174cm,', '75kg', '길동초-건대부중-장충고-고려대-NC-상무'], ['55', '김진성', 'NC', '투수', '1985-03-07', '186cm,', '92kg', '인헌초-성남중-성남서고-SK'], ['104', '김진우', 'NC', '투수', '2002-10-28', '176cm,', '77kg', '진북초-전라중-군산상고']]\n",
            "[['61', '김진호', 'NC', '투수', '1998-06-07', '183cm,', '90kg', '의왕부곡초-성일중-광주동성고-NC-경찰'], ['6', '김찬형', 'NC', '내야수', '1997-12-29', '182cm,', '80kg', '양정초-경남중-경남고'], ['3', '김철호', 'NC', '내야수', '1998-02-06', '182cm,', '87kg', '서화초-재능중-율곡고'], ['60', '김태경', 'NC', '투수', '2001-04-07', '188cm,', '95kg', '김해삼성초-내동중-용마고'], ['42', '김태군', 'NC', '포수', '1989-12-30', '182cm,', '92kg', '양정초-대동중-부산고-LG-NC-경찰'], ['29', '김태현', 'NC', '투수', '1998-03-21', '188cm,', '95kg', '김해삼성초-내동중-김해고-NC-경찰'], ['47', '나성범', 'NC', '외야수', '1989-10-03', '183cm,', '100kg', '광주대성초-진흥중-진흥고-연세대'], ['63', '노시훈', 'NC', '투수', '1998-08-04', '188cm,', '95kg', '부산수영초-마산중-용마고'], ['52', '노진혁', 'NC', '내야수', '1989-07-15', '184cm,', '80kg', '광주대성초-광주동성중-광주동성고-성균관대-NC-상무'], ['15', '도태훈', 'NC', '내야수', '1993-03-18', '184cm,', '85kg', '양정초-개성중-부산고-동의대-NC-상무'], ['40', '루친스키', 'NC', '투수', '1988-12-30', '188cm,', '91kg', '미국', 'Tulsa', 'Union(고)-미국', 'The', 'Ohio', 'State(대)'], ['41', '류진욱', 'NC', '투수', '1996-10-10', '189cm,', '88kg', '양정초-개성중-부산고'], ['16', '모창민', 'NC', '내야수', '1985-05-08', '188cm,', '89kg', '광주화정초-충장중-광주제일고-성균관대-SK-상무-SK'], ['56', '문경찬', 'NC', '투수', '1992-07-08', '186cm,', '85kg', '부천북초-동인천중-인천고-건국대-KIA-상무-KIA'], ['26', '박대온', 'NC', '포수', '1995-08-28', '182cm,', '85kg', '서울도곡초-서울이수중-휘문고'], ['2', '박민우', 'NC', '내야수', '1993-02-06', '185cm,', '80kg', '마포초(용산구리틀)-선린중-휘문고'], ['18', '박석민', 'NC', '내야수', '1985-06-22', '178cm,', '88kg', '율하초-경복중-대구고-삼성-상무-삼성'], ['43', '박시원', 'NC', '외야수', '2001-05-30', '185cm,', '85kg', '광주서림초-광주동성중-광주제일고'], ['39', '박정수', 'NC', '투수', '1996-01-29', '178cm,', '74kg', '서울청구초-서울이수중-야탑고-KIA-경찰-KIA'], ['13', '박준영', 'NC', '내야수', '1997-08-05', '181cm,', '75kg', '서울도곡초(남양주리틀)-잠신중-경기고']]\n",
            "[['99', '박지한', 'NC', '투수', '2000-10-21', '185cm,', '90kg', '동일중앙초-부산중-개성고'], ['30', '박진우', 'NC', '투수', '1990-02-12', '180cm,', '83kg', '남부민초-대신중-부경고-건국대-NC-두산-경찰'], ['44', '배민서', 'NC', '투수', '1999-11-18', '184cm,', '81kg', '대구수창초-경운중-대구상원고'], ['50', '소이현', 'NC', '투수', '1999-02-09', '185cm,', '93kg', '서울이수초-서울이수중-서울디자인고'], ['14', '손정욱', 'NC', '투수', '1990-12-24', '182cm,', '84kg', '서울도곡초-홍은중-덕수고-경희대'], ['62', '송명기', 'NC', '투수', '2000-08-09', '191cm,', '93kg', '양남초(하남시리틀)-건대부중-장충고'], ['53', '신민혁', 'NC', '투수', '1999-02-04', '184cm,', '95kg', '염강초(강서리틀)-매향중-야탑고'], ['31', '안인산', 'NC', '투수', '2001-02-27', '181cm,', '95kg', '군포오금초(안양시리틀)-평촌중-야탑고'], ['23', '알테어', 'NC', '외야수', '1991-01-14', '196cm,', '97kg', '미국', 'Agua', 'Fria(고)'], ['25', '양의지', 'NC', '포수', '1987-06-05', '179cm,', '85kg', '송정동초-무등중-진흥고-두산-경찰-두산'], ['91', '오장한', 'NC', '외야수', '2002-05-20', '185cm,', '90kg', '희망대초-매향중-장안고'], ['96', '오태양', 'NC', '내야수', '2002-04-25', '178cm,', '67kg', '방배초-대치중-청원고'], ['46', '원종현', 'NC', '투수', '1987-07-31', '182cm,', '83kg', '군산중앙초-군산중-군산상고-LG-경찰'], ['37', '윤수강', 'NC', '포수', '1990-02-22', '181cm,', '96kg', '군산중앙초-충장중-광주제일고-성균관대-롯데-경찰-롯데-KT-LG'], ['28', '윤형준', 'NC', '내야수', '1994-01-31', '186cm,', '97kg', '광주서림초-무등중-진흥고-NC-LG-경찰-LG'], ['34', '이도현', 'NC', '투수', '1995-04-11', '184cm,', '90kg', '서울도곡초-영동중-구리인창고-인하대-NC-상무'], ['33', '이명기', 'NC', '외야수', '1987-12-26', '183cm,', '87kg', '서화초-상인천중-인천고-SK-KIA'], ['54', '이승헌', 'NC', '투수', '1995-12-20', '180cm,', '93kg', '성동초-잠신중-신일고-고려대'], ['48', '이용준', 'NC', '투수', '2002-05-08', '180cm,', '95kg', '중대초-양천중-서울디자인고'], ['32', '이원재', 'NC', '내야수', '1989-05-20', '186cm,', '86kg', '수유초-서울이수중-청원고-호원대']]\n",
            "[['84', '이재용', 'NC', '포수', '1999-02-28', '182cm,', '86kg', '장자초(구리리틀)-자양중-배재고'], ['17', '이재율', 'NC', '외야수', '1993-05-02', '185cm,', '75kg', '본리초-포항제철중-포철공고-영남대-NC-상무'], ['51', '이재학', 'NC', '투수', '1990-10-04', '181cm,', '84kg', '대구옥산초-경복중-대구고-두산'], ['90', '이종준', 'NC', '투수', '2001-03-09', '191cm,', '93kg', '군산중앙초-군산남중-군산상고'], ['11', '이호중', 'NC', '투수', '1992-10-13', '183cm,', '91kg', '서울이수초-서울이수중-배명고-경희대'], ['38', '임정호', 'NC', '투수', '1990-04-16', '188cm,', '90kg', '성동초-잠신중-신일고-성균관대-NC-상무'], ['45', '임창민', 'NC', '투수', '1985-08-25', '183cm,', '85kg', '광주대성초-광주동성중-광주동성고-연세대-우리-히어로즈-경찰-넥센'], ['92', '임형원', 'NC', '투수', '2001-09-15', '183cm,', '73kg', '시흥계수초(소사리틀)-동산중-인천고'], ['35', '전민수', 'NC', '외야수', '1989-03-18', '177cm,', '76kg', '사당초-서울이수중-덕수고-우리-히어로즈-경찰-넥센-KT-LG'], ['95', '정구범', 'NC', '투수', '2000-06-16', '183cm,', '71kg', '경동초(성동구리틀)-건대부중-덕수고'], ['20', '정범모', 'NC', '포수', '1987-03-26', '184cm,', '94kg', '내덕초-청주중-청주기공고-한화-상무-한화'], ['101', '조성현', 'NC', '투수', '2002-08-06', '187cm,', '105kg', '고잔초(인천남동구리틀)-인천신흥중-인천고'], ['10', '지석훈', 'NC', '내야수', '1984-03-17', '181cm,', '74kg', '가동초-휘문중-휘문고-현대-우리-상무-넥센'], ['00', '천재환', 'NC', '외야수', '1994-04-01', '181cm,', '83kg', '대전신흥초-공주중-화순고-고려대'], ['66', '최금강', 'NC', '투수', '1989-04-26', '195cm,', '95kg', '서흥초-동산중-인천고-인하대'], ['4', '최보성', 'NC', '내야수', '1998-10-16', '181cm,', '88kg', '진해장복초(진해리틀)-외포중-개성고'], ['105', '최상인', 'NC', '외야수', '1997-04-11', '186cm,', '90kg', '광주수창초-진흥중-진흥고'], ['9', '최승민', 'NC', '외야수', '1996-07-01', '181cm,', '73kg', '서울학동초-대치중-신일고-NC-상무'], ['64', '최정원', 'NC', '내야수', '2000-06-24', '176cm,', '70kg', '서원초-청주중-청주고'], ['67', '파슨스', 'NC', '투수', '1992-09-06', '196cm,', '93kg', '미국', 'Clarksville(고)-미국', 'Jackson', 'State(대)']]\n",
            "[['94', '한재승', 'NC', '투수', '2001-11-21', '180cm,', '90kg', '동막초-상인천중-인천고'], ['85', '한재환', 'NC', '내야수', '2001-10-19', '177cm,', '89kg', '(기장리틀)-대신중-개성고'], ['19', '홍성민', 'NC', '투수', '1989-07-15', '191cm,', '82kg', '노암초-경포중-강릉고-한양대-KIA-롯데-경찰-롯데']]\n"
          ],
          "name": "stdout"
        }
      ]
    },
    {
      "cell_type": "code",
      "metadata": {
        "id": "Wt4uLEqAZCem",
        "colab": {
          "base_uri": "https://localhost:8080/"
        },
        "outputId": "a7c8bb32-e92a-4ef6-a468-ad976706cd69"
      },
      "source": [
        "OB_player = Player(\"OB\")\n",
        "OB_URL = URL(OB_player)\n",
        "OB_info = player_info(OB_URL)\n",
        "OB = to_DF(OB_player, OB_info)"
      ],
      "execution_count": 12,
      "outputs": [
        {
          "output_type": "stream",
          "text": [
            "80\n",
            "[['25', '강승호', '두산', '내야수', '1994-02-09', '178cm,', '88kg', '순천북초-천안북중-북일고-LG-경찰-LG-SK'], ['97', '강원진', '두산', '투수', '2002-03-13', '190cm,', '104kg', '연현초-원당중-백송고'], ['69', '강현구', '두산', '외야수', '2002-06-16', '186cm,', '98kg', '서울도림초(인천남동구리틀)-동산중-인천고'], ['58', '고봉재', '두산', '투수', '1993-05-14', '185cm,', '86kg', '감천초-대동중-경남고-호원대'], ['47', '곽빈', '두산', '투수', '1999-05-28', '187cm,', '95kg', '서울학동초-자양중-배명고'], ['15', '국해성', '두산', '외야수', '1989-10-08', '180cm,', '94kg', '군산중앙초-동인천중-인천고'], ['7', '권민석', '두산', '내야수', '1999-02-20', '184cm,', '74kg', '영랑초(수원영통리틀)-설악중-강릉고'], ['38', '권휘', '두산', '투수', '2000-12-07', '181cm,', '87kg', '서울대림초-강남중-덕수고'], ['27', '김강률', '두산', '투수', '1988-08-28', '187cm,', '95kg', '문촌초(일산리틀)-장성중-경기고-두산-상무'], ['92', '김도경', '두산', '외야수', '1997-07-19', '178cm,', '93kg', '율하초-경상중-대구상원고-한양대'], ['94', '김도윤', '두산', '투수', '2002-06-28', '181cm,', '83kg', '신도초(계룡시리틀)-현도중-청주고'], ['30', '김동주', '두산', '투수', '2002-02-14', '190cm,', '90kg', '갈산초-양천중-선린인터넷고'], ['46', '김명신', '두산', '투수', '1993-11-29', '178cm,', '90kg', '남도초-대구중-경북고-경성대'], ['33', '김문수', '두산', '내야수', '1997-08-10', '185cm,', '95kg', '어방초(김해엔젤스리틀)-대신중-대구고-강릉영동대'], ['19', '김민규', '두산', '투수', '1999-05-07', '183cm,', '90kg', '장평초(광진구리틀)-잠신중-휘문고'], ['20', '김민혁', '두산', '내야수', '1996-05-03', '188cm,', '100kg', '광주대성초-광주동성중-광주동성고'], ['39', '김인태', '두산', '외야수', '1994-07-03', '178cm,', '78kg', '포항제철서초-천안북중-북일고-두산-경찰'], ['52', '김재호', '두산', '내야수', '1985-03-21', '181cm,', '75kg', '남정초-중앙중-중앙고-두산-상무'], ['32', '김재환', '두산', '외야수', '1988-09-22', '183cm,', '90kg', '영랑초-상인천중-인천고-두산-상무'], ['99', '김주완', '두산', '투수', '1999-10-07', '180cm,', '77kg', '송정동초-무등중-청담고-동강대']]\n",
            "[['11', '남호', '두산', '투수', '2000-07-20', '185cm,', '86kg', '연천초-수원북중-유신고-LG'], ['34', '로켓', '두산', '투수', '1994-05-03', '196cm,', '102kg', '미국', 'Providence(고)'], ['59', '문대원', '두산', '투수', '1998-08-22', '187cm,', '91kg', '사당초-휘문중-강릉고'], ['57', '미란다', '두산', '투수', '1989-01-10', '188cm,', '86kg', '쿠바'], ['37', '박건우', '두산', '외야수', '1990-09-08', '184cm,', '80kg', '역삼초-서울이수중-서울고-두산-경찰'], ['14', '박계범', '두산', '내야수', '1996-01-11', '177cm,', '84kg', '순천북초-순천이수중-효천고-삼성-상무-삼성'], ['26', '박성모', '두산', '투수', '1995-02-22', '186cm,', '86kg', '군산남초-군산남중-군산상고-인하대-두산-상무'], ['98', '박성재', '두산', '포수', '2002-11-18', '186cm,', '115kg', '가산초-개성중-부산고'], ['10', '박세혁', '두산', '포수', '1990-01-09', '181cm,', '86kg', '수유초-신일중-신일고-고려대-두산-상무'], ['77', '박웅', '두산', '투수', '1997-11-12', '192cm,', '103kg', '북정초-원동중-경남고-강릉영동대'], ['18', '박종기', '두산', '투수', '1995-01-21', '177cm,', '68kg', '청주우암초-청주중-청주고'], ['2', '박지훈', '두산', '내야수', '2000-09-07', '183cm,', '80kg', '김해삼성초-경남중-마산고'], ['1', '박치국', '두산', '투수', '1998-03-10', '177cm,', '78kg', '인천숭의초-인천신흥중-제물포고'], ['49', '백동훈', '두산', '외야수', '1990-09-16', '184cm,', '98kg', '서울학동초-강남중-성남고-중앙대-롯데'], ['65', '백민규', '두산', '내야수', '1998-01-22', '196cm,', '130kg', '도산초-현일중-장안고'], ['104', '백종수', '두산', '포수', '1998-08-24', '181cm,', '95kg', '부천북초-부천중-청주고-원광대'], ['16', '서예일', '두산', '내야수', '1993-06-19', '178cm,', '83kg', '동천초-경주중-성남고-동국대-두산-경찰'], ['5', '신성현', '두산', '내야수', '1990-10-19', '183cm,', '92kg', '가동초-덕수중-일본', '교토고쿠사이고-한화'], ['93', '신창희', '두산', '포수', '1996-04-10', '187cm,', '96kg', '개신초(청주상당구리틀)-청주중-대구고'], ['23', '안권수', '두산', '외야수', '1993-04-19', '175cm,', '80kg', '일본', '타카사초-일본', '키시중-일본', '와세다실업고-일본', '와세다대']]\n",
            "[['3', '안재석', '두산', '내야수', '2002-02-15', '185cm,', '75kg', '성내초-배재중-서울고'], ['101', '안찬호', '두산', '투수', '1993-10-06', '180cm,', '90kg', '앤도솔초-로랜스중-청주고-경희대'], ['53', '양석환', '두산', '내야수', '1991-07-15', '185cm,', '90kg', '백운초-신일중-신일고-동국대-LG-상무-LG'], ['100', '양현진', '두산', '외야수', '2002-01-03', '191cm,', '86kg', '길주초(안동시리틀)-포항중-영문고'], ['6', '오명진', '두산', '내야수', '2001-09-04', '179cm,', '79kg', '대전신흥초-한밭중-세광고'], ['103', '오세훈', '두산', '투수', '1999-09-28', '181cm,', '85kg', '진북초-전라중-영선고'], ['24', '오재원', '두산', '내야수', '1985-02-09', '185cm,', '75kg', '서울학동초-서울경원중-야탑고-경희대'], ['43', '유재유', '두산', '투수', '1997-03-03', '181cm,', '86kg', '갈산초-양천중-충암고-LG'], ['29', '유희관', '두산', '투수', '1986-06-01', '180cm,', '88kg', '방배초-서울이수중-장충고-중앙대-두산-상무'], ['42', '윤명준', '두산', '투수', '1989-06-18', '178cm,', '78kg', '광주서석초-광주동성중-광주동성고-고려대-두산-상무'], ['4', '이교훈', '두산', '투수', '2000-05-29', '181cm,', '83kg', '구리초(남양주리틀)-청원중-서울고'], ['56', '이동원', '두산', '투수', '1993-12-15', '190cm,', '105kg', '포항초-수원중-유신고'], ['62', '이민혁', '두산', '투수', '1998-04-13', '185cm,', '94kg', '부천초(부천원미리틀)-서울신월중-장충고-인천재능대'], ['96', '이상연', '두산', '투수', '2001-08-10', '195cm,', '103kg', '해원초(수영구리틀)-대천중-부산고'], ['55', '이승진', '두산', '투수', '1995-01-07', '186cm,', '86kg', '수원신곡초-매송중-야탑고-SK-상무-SK'], ['50', '이영하', '두산', '투수', '1997-11-01', '192cm,', '91kg', '서울영일초-강남중-선린인터넷고'], ['107', '이주엽', '두산', '투수', '2001-03-26', '188cm,', '90kg', '서울이수초-성남중-성남고'], ['48', '이현승', '두산', '투수', '1983-10-11', '179cm,', '87kg', '서화초-대헌중-동산고-인하대-현대-우리-히어로즈-두산-상무'], ['68', '이형범', '두산', '투수', '1994-02-27', '181cm,', '80kg', '화순초-화순중-화순고-NC-경찰-NC'], ['95', '임태윤', '두산', '내야수', '2002-08-12', '180cm,', '80kg', '영랑초-설악중-경동고']]\n",
            "[['44', '장규빈', '두산', '포수', '2001-04-21', '186cm,', '98kg', '갈산초-서울신월중-경기고'], ['102', '장빈', '두산', '투수', '1999-07-10', '183cm,', '90kg', '백마초-충암중-충암고-강릉영동대'], ['22', '장승현', '두산', '포수', '1994-03-07', '184cm,', '86kg', '인천서림초-동산중-제물포고-두산-경찰'], ['28', '장원준', '두산', '투수', '1985-07-31', '184cm,', '85kg', '부산수영초-대동중-부산고-(영남사이버대)-롯데-경찰-롯데'], ['31', '정수빈', '두산', '외야수', '1990-10-07', '175cm,', '70kg', '신곡초-수원북중-유신고-두산-경찰'], ['63', '정우석', '두산', '투수', '1999-10-05', '188cm,', '90kg', '서울이수초-휘문중-신일고'], ['102', '정은재', '두산', '투수', '1991-12-31', '192cm,', '92kg', '화곡초-덕수중-선린인터넷고'], ['51', '조수행', '두산', '외야수', '1993-08-30', '178cm,', '73kg', '노암초-경포중-강릉고-건국대-두산-상무'], ['67', '조제영', '두산', '투수', '2001-02-12', '182cm,', '89kg', '양덕초-마산중-용마고'], ['60', '지윤', '두산', '투수', '1997-10-30', '187cm,', '113kg', '수유초-청원중-제물포고'], ['66', '최세창', '두산', '투수', '2001-06-01', '187cm,', '95kg', '부산예원초-사직중-개성고'], ['64', '최승용', '두산', '투수', '2001-05-11', '190cm,', '87kg', '양오초-모가중-소래고'], ['12', '최용제', '두산', '포수', '1991-07-12', '182cm,', '90kg', '서울도곡초-서울이수중-진흥고-홍익대-두산-상무'], ['61', '최원준', '두산', '투수', '1994-12-21', '182cm,', '91kg', '수유초-신일중-신일고-동국대'], ['35', '최종인', '두산', '투수', '2001-05-01', '185cm,', '84kg', '해강초-센텀중-부산고'], ['9', '페르난데스', '두산', '내야수', '1988-04-27', '178cm,', '83kg', '쿠바'], ['13', '허경민', '두산', '내야수', '1990-08-26', '176cm,', '69kg', '송정동초-충장중-광주제일고-두산-경찰'], ['40', '현도훈', '두산', '투수', '1993-01-13', '188cm,', '95kg', '풍양초-신일중-일본', '교토고쿠사이고-일본', '큐슈교리츠대'], ['17', '홍건희', '두산', '투수', '1992-09-29', '187cm,', '97kg', '화순초-화순중-화순고-KIA-상무-KIA'], ['8', '황경태', '두산', '내야수', '1996-08-17', '181cm,', '77kg', '대구옥산초-경운중-대구상원고']]\n"
          ],
          "name": "stdout"
        }
      ]
    },
    {
      "cell_type": "code",
      "metadata": {
        "id": "CQgVsrjiSlTL",
        "colab": {
          "base_uri": "https://localhost:8080/"
        },
        "outputId": "a853c99f-6278-40c1-ad5f-e939803128e0"
      },
      "source": [
        "KT_player = Player(\"KT\")\n",
        "KT_URL = URL(KT_player)\n",
        "KT_info = player_info(KT_URL)\n",
        "KT = to_DF(KT_player, KT_info)"
      ],
      "execution_count": 20,
      "outputs": [
        {
          "output_type": "stream",
          "text": [
            "86\n",
            "[['7', '강민국', 'KT', '내야수', '1992-01-10', '176cm,', '80kg', '송정동초-충장중-광주제일고-동국대-NC-상무-NC'], ['64', '강민성', 'KT', '내야수', '1999-12-08', '180cm,', '85kg', '대구옥산초-경상중-경북고'], ['50', '강백호', 'KT', '내야수', '1999-07-29', '184cm,', '98kg', '부천북초-서울이수중-서울고'], ['93', '강승훈', 'KT', '내야수', '1994-01-03', '172cm,', '76kg', '수원신곡초-수원북중-유신고-연세대'], ['66', '강현우', 'KT', '포수', '2001-04-13', '180cm,', '90kg', '원종초(부천시리틀)-부천중-유신고'], ['110', '고영찬', 'KT', '투수', '1999-08-14', '183cm,', '78kg', '상인천초-동인천중-인천고-강릉영동대'], ['1', '고영표', 'KT', '투수', '1991-09-16', '187cm,', '88kg', '광주대성초-광주동성중-화순고-동국대'], ['3', '권동진', 'KT', '내야수', '1998-09-12', '182cm,', '86kg', '제주신광초-세광중-세광고-원광대'], ['0', '김건형', 'KT', '외야수', '1996-07-12', '182cm,', '83kg', '먼우금초-Lesbois(중)-Timberline(고)-Boise', 'State(대)'], ['112', '김대현', 'KT', '내야수', '1998-01-13', '183cm,', '86kg', '서울이수초-서울이수중-장충고-홍익대'], ['37', '김도현', 'KT', '외야수', '1992-10-23', '181cm,', '98kg', '광주서석초-광주동성중-진흥고-넥센-SK-경찰-SK-두산'], ['44', '김만수', 'KT', '포수', '1996-04-18', '180cm,', '80kg', '순천북초-순천이수중-효천고'], ['108', '김민서', 'KT', '외야수', '2002-03-13', '182cm,', '90kg', '신도초-율곡중-율곡고'], ['26', '김민수', 'KT', '투수', '1992-07-24', '188cm,', '80kg', '청원초-청원중-청원고-성균관대-KT-상무'], ['53', '김민혁', 'KT', '외야수', '1995-11-21', '181cm,', '71kg', '광주서석초-배재중-배재고-KT-상무'], ['14', '김병희', 'KT', '내야수', '1990-12-06', '180cm,', '82kg', '창영초-신흥중-동산고-동국대'], ['103', '김성균', 'KT', '내야수', '2001-07-06', '185cm,', '93kg', '고명초-자양중-신일고'], ['98', '김성훈', 'KT', '투수', '1996-02-25', '181cm,', '82kg', '문화초(고양시리틀)-양천중-경동고-원광대'], ['97', '김영현', 'KT', '투수', '2002-08-18', '178cm,', '81kg', '광주화정초-광주동성중-광주동성고'], ['62', '김재윤', 'KT', '투수', '1990-09-16', '185cm,', '91kg', '서울도곡초-휘문중-휘문고']]\n",
            "[['99', '김종성', 'KT', '외야수', '1994-06-24', '180cm,', '90kg', '양정초-개성중-경남고-경성대'], ['45', '김태훈', 'KT', '외야수', '1996-03-31', '177cm,', '78kg', '진흥초(안산리틀)-평촌중-유신고'], ['40', '데스파이네', 'KT', '투수', '1987-04-04', '182cm,', '92kg', '미국', 'Hermanos', 'Martinez', 'Tamayo(고)'], ['29', '류희운', 'KT', '투수', '1995-06-19', '191cm,', '103kg', '천안남산초-천안북중-북일고'], ['33', '문상인', 'KT', '포수', '1998-01-31', '185cm,', '79kg', '김해삼성초-개성중-경남고'], ['107', '문상준', 'KT', '내야수', '2001-03-14', '183cm,', '80kg', '가동초-휘문중-휘문고'], ['25', '문상철', 'KT', '외야수', '1991-04-06', '184cm,', '85kg', '중대초-잠신중-배명고-고려대-KT-상무'], ['6', '박경수', 'KT', '내야수', '1984-03-31', '178cm,', '80kg', '미성초-성남중-성남고-LG'], ['95', '박규민', 'KT', '투수', '1995-03-14', '185cm,', '79kg', '학강초-광주동성중-광주동성고-SK-경찰'], ['16', '박승욱', 'KT', '내야수', '1992-12-04', '184cm,', '85kg', '칠성초-경복중-대구상원고-SK'], ['46', '박시영', 'KT', '투수', '1989-03-10', '180cm,', '88kg', '축현초-인천신흥중-제물포고-(영남사이버대)-롯데'], ['67', '박시윤', 'KT', '투수', '1999-03-08', '185cm,', '90kg', '울산대현초-마산제일중-용마고'], ['96', '박준호', 'KT', '투수', '2000-01-19', '183cm,', '80kg', '남부민초-사직중-제주고'], ['27', '배정대', 'KT', '외야수', '1995-06-12', '185cm,', '80kg', '도신초-성남중-성남고-(디지털문예대)-LG-KT-경찰'], ['19', '배제성', 'KT', '투수', '1996-09-29', '189cm,', '85kg', '백마초-성남중-성남고-롯데'], ['94', '백선기', 'KT', '외야수', '1998-08-27', '186cm,', '70kg', '남도초-경상중-대구상원고'], ['30', '소형준', 'KT', '투수', '2001-09-16', '189cm,', '92kg', '호암초(의정부리틀)-구리인창중-유신고'], ['12', '송민섭', 'KT', '외야수', '1991-08-02', '177cm,', '80kg', '청파초(안산리틀)-선린중-선린인터넷고-단국대-KT-상무'], ['57', '신범준', 'KT', '투수', '2002-06-01', '189cm,', '78kg', '원일초(영통구리틀)-매향중-장안고']]\n",
            "[['56', '신병률', 'KT', '투수', '1996-01-30', '175cm,', '83kg', '둔촌초-잠신중-휘문고-단국대'], ['5', '신본기', 'KT', '내야수', '1989-03-21', '179cm,', '88kg', '감천초-경남중-경남고-동아대-롯데-경찰-롯데'], ['2', '심우준', 'KT', '내야수', '1995-04-28', '183cm,', '75kg', '송정동초-언북중-경기고'], ['34', '심재민', 'KT', '투수', '1994-02-18', '182cm,', '92kg', '장유초(김해엔젤스리틀)-개성중-개성고-(전남과학대)'], ['9', '안승한', 'KT', '포수', '1992-01-25', '177cm,', '89kg', '남정초-선린중-충암고-동아대'], ['48', '안영명', 'KT', '투수', '1984-11-19', '183cm,', '90kg', '천안남산초-천안북중-북일고-(대전대)-한화-KIA-한화'], ['49', '안현준', 'KT', '투수', '1995-03-23', '187cm,', '85kg', '내덕초-청주중-세광고'], ['4', '알몬테', 'KT', '외야수', '1989-06-10', '183cm,', '92kg', '도미니카', 'Cenapec(고)'], ['55', '유원상', 'KT', '투수', '1986-06-17', '187cm,', '93kg', '둔촌초-잠신중-북일고-한화-LG-NC'], ['13', '유준규', 'KT', '내야수', '2002-08-16', '176cm,', '69kg', '군산신풍초-군산중-군산상고'], ['61', '유한준', 'KT', '외야수', '1981-07-01', '186cm,', '97kg', '부천신흥초-부천중-유신고-동국대-현대-우리-상무-넥센'], ['104', '윤세훈', 'KT', '투수', '2001-12-05', '182cm,', '85kg', '(화성시리틀)-대원중-야탑고'], ['114', '윤종휘', 'KT', '내야수', '1996-10-29', '168cm,', '70kg', '동막초-재능중-장안고-홍익대'], ['68', '윤준혁', 'KT', '내야수', '2001-07-26', '186cm,', '86kg', '역촌초(은평구리틀)-충암중-충암고'], ['36', '이강준', 'KT', '투수', '2001-12-14', '184cm,', '80kg', '서당초-설악중-설악고'], ['11', '이대은', 'KT', '투수', '1989-03-23', '189cm,', '90kg', '역삼초-서울경원중-신일고-경찰'], ['47', '이보근', 'KT', '투수', '1986-04-30', '187cm,', '90kg', '봉천초-강남중-서울고-(방송통신대)-현대-우리-히어로즈-넥센-키움'], ['15', '이상동', 'KT', '투수', '1995-11-24', '181cm,', '88kg', '대구옥산초-경복중-경북고-영남대'], ['51', '이정현', 'KT', '투수', '1997-12-05', '188cm,', '93kg', '무학초-마산동중-용마고']]\n",
            "[['113', '이종혁', 'KT', '투수', '1997-05-29', '190cm,', '86kg', '대구옥산초-경복중-대구고'], ['21', '이창재', 'KT', '투수', '1992-12-29', '178cm,', '71kg', '축현초-신흥중-제물포고-단국대'], ['35', '이홍구', 'KT', '포수', '1990-12-11', '180cm,', '95kg', '장안초-건대부중-장충고-단국대-KIA-SK'], ['102', '임도혁', 'KT', '투수', '1997-10-09', '184cm,', '74kg', '효제초-신흥중-제물포고'], ['22', '장성우', 'KT', '포수', '1990-01-17', '187cm,', '100kg', '감천초-경남중-경남고-롯데-경찰-롯데'], ['31', '전유수', 'KT', '투수', '1986-11-29', '185cm,', '95kg', '여고초-사직중-경남상고-현대-우리-히어로즈-경찰-넥센-SK'], ['109', '전진영', 'KT', '외야수', '1998-04-30', '177cm,', '77kg', '영일초-영남중-성남고-경희대'], ['106', '정주원', 'KT', '투수', '1998-08-08', '181cm,', '86kg', '현암초(서울중부리틀)-배명중-경동고-영남대'], ['52', '정주후', 'KT', '내야수', '1995-06-26', '180cm,', '67kg', '광주서석초-충장중-광주제일고'], ['42', '조대현', 'KT', '포수', '1999-08-06', '183cm,', '81kg', '길동초-매송중-유신고'], ['39', '조병욱', 'KT', '투수', '1998-06-08', '185cm,', '95kg', '동양초(화성시리틀)-매향중-장안고-KT-경찰'], ['23', '조용호', 'KT', '외야수', '1989-09-09', '170cm,', '75kg', '성동초-잠신중-야탑고-단국대-SK'], ['20', '조한욱', 'KT', '투수', '1996-12-19', '186cm,', '77kg', '인헌초-선린중-충암고-SK-경찰-SK'], ['59', '조현우', 'KT', '투수', '1994-03-30', '182cm,', '79kg', '군산중앙초-군산중-군산상고-(전남과학대)-KT-롯데'], ['38', '주권', 'KT', '투수', '1995-05-31', '181cm,', '82kg', '청주우암초-청주중-청주고'], ['60', '지명성', 'KT', '투수', '2002-02-15', '173cm,', '65kg', '의정부청룡초(의정부리틀)-배명중-신일고'], ['54', '천성호', 'KT', '내야수', '1997-10-30', '183cm,', '85kg', '광주화정초-충장중-진흥고-단국대'], ['101', '최성민', 'KT', '외야수', '2002-07-05', '179cm,', '84kg', '송정동초-무등중-광주동성고'], ['111', '최태성', 'KT', '외야수', '1997-02-12', '182cm,', '82kg', '희망대초-모가중-야탑고-홍익대'], ['32', '쿠에바스', 'KT', '투수', '1990-10-14', '188cm,', '98kg', '베네수엘라', 'Universidad', 'De', 'Carabobo(대)']]\n",
            "[['28', '하준호', 'KT', '투수', '1989-04-29', '174cm,', '78kg', '하단초-대동중-경남고-롯데'], ['18', '한승지', 'KT', '투수', '1997-05-19', '184cm,', '85kg', '수유초-선린중-포철고-KT-경찰'], ['58', '한차현', 'KT', '투수', '1998-11-30', '180cm,', '80kg', '사능초(남양주리틀)-청원중-포항제철고-성균관대'], ['17', '허도환', 'KT', '포수', '1984-07-31', '176cm,', '87kg', '서울학동초-서울이수중-서울고-단국대-두산-넥센-한화-SK'], ['8', '홍현빈', 'KT', '외야수', '1997-08-29', '174cm,', '70kg', '수원신곡초-매송중-유신고-KT-상무'], ['10', '황재균', 'KT', '내야수', '1987-07-28', '183cm,', '96kg', '사당초-서울이수중-경기고-현대-우리-히어로즈-넥센-롯데']]\n"
          ],
          "name": "stdout"
        }
      ]
    },
    {
      "cell_type": "code",
      "metadata": {
        "id": "TVWL44XRSlW4",
        "colab": {
          "base_uri": "https://localhost:8080/"
        },
        "outputId": "32c4253f-434e-4a57-d68f-f455e83031d2"
      },
      "source": [
        "LG_player = Player(\"LG\")\n",
        "LG_URL = URL(LG_player)\n",
        "LG_info = player_info(LG_URL)\n",
        "LG = to_DF(LG_player, LG_info)"
      ],
      "execution_count": 23,
      "outputs": [
        {
          "output_type": "stream",
          "text": [
            "82\n",
            "[['105', '강민', 'LG', '투수', '2001-04-20', '188cm,', '88kg', '수유초-홍은중-서울고'], ['43', '강효종', 'LG', '투수', '2002-10-14', '184cm,', '86kg', '저동초(일산서구리틀)-충암중-충암고'], ['19', '고우석', 'LG', '투수', '1998-08-06', '182cm,', '90kg', '갈산초-양천중-충암고'], ['15', '고효준', 'LG', '투수', '1983-02-08', '179cm,', '74kg', '서원초-세광중-세광고-롯데-SK-KIA-롯데'], ['2', '구본혁', 'LG', '내야수', '1997-01-11', '177cm,', '75kg', '중대초-잠신중-장충고-동국대'], ['122', '김기연', 'LG', '포수', '1997-09-07', '178cm,', '95kg', '광주수창초-진흥중-진흥고'], ['69', '김대유', 'LG', '투수', '1991-05-08', '187cm,', '92kg', '부산중앙초-부산중-부산고-넥센-SK-KT'], ['45', '김대현', 'LG', '투수', '1997-03-08', '188cm,', '100kg', '홍연초(마포구리틀)-홍은중-선린인터넷고'], ['109', '김대현', 'LG', '투수', '2001-01-05', '188cm,', '96kg', '서화초-석남중-성지고'], ['16', '김민성', 'LG', '내야수', '1988-12-17', '181cm,', '94kg', '고명초-잠신중-덕수정보고-(영남사이버대)-롯데-넥센-키움'], ['5', '김용의', 'LG', '내야수', '1985-08-20', '187cm,', '74kg', '사당초-선린중-선린인터넷고-고려대-두산'], ['106', '김유민', 'LG', '내야수', '2003-01-18', '183cm,', '80kg', '화곡초-영남중-덕수고'], ['57', '김윤식', 'LG', '투수', '2000-04-03', '181cm,', '83kg', '광주서석초-무등중-진흥고'], ['12', '김재성', 'LG', '포수', '1996-10-30', '185cm,', '85kg', '신광초-성남중-덕수고-LG-경찰'], ['62', '김주성', 'LG', '내야수', '1998-01-30', '180cm,', '81kg', '수원신곡초-덕수중-휘문고'], ['104', '김지용', 'LG', '투수', '2002-10-07', '180cm,', '75kg', '구리초(구리리틀)-구리인창중-라온고'], ['48', '김지용', 'LG', '투수', '1988-02-20', '177cm,', '81kg', '이문초(노원구리틀)-청량중-중앙고-강릉영동대'], ['54', '김진수', 'LG', '투수', '1998-08-31', '179cm,', '82kg', '이세초-군산중-군산상고-중앙대'], ['65', '김태형', 'LG', '투수', '1998-09-17', '190cm,', '98kg', '솔빛초(수지리틀)-대치중-선린인터넷고'], ['22', '김현수', 'LG', '외야수', '1988-01-12', '188cm,', '100kg', '쌍문초-신일중-신일고-두산']]\n",
            "[['103', '김형욱', 'LG', '내야수', '2002-01-29', '187cm,', '90kg', '동일중앙초-부산중-부산고'], ['34', '김호은', 'LG', '내야수', '1992-01-03', '181cm,', '87kg', '대구옥산초-경상중-대구고-연세대'], ['44', '라모스', 'LG', '내야수', '1994-12-28', '193cm,', '115kg', '멕시코', 'Canyons(대)'], ['28', '류원석', 'LG', '투수', '1989-11-18', '188cm,', '90kg', '신원초-양천중-서울고-인하대'], ['35', '문보경', 'LG', '내야수', '2000-07-19', '182cm,', '89kg', '송중초(동대문구리틀)-덕수중-신일고'], ['123', '문성주', 'LG', '외야수', '1997-02-20', '175cm,', '78kg', '포항서초-포항제철중-경북고-강릉영동대'], ['112', '박민호', 'LG', '포수', '1998-04-06', '177cm,', '80kg', '대구본리초-대구경상중-대구상원고-경남대'], ['42', '박재욱', 'LG', '포수', '1995-12-06', '180cm,', '78kg', '부산수영초-부산중-개성고-LG-경찰'], ['66', '배재준', 'LG', '투수', '1994-11-24', '188cm,', '80kg', '본리초-경상중-대구상원고'], ['61', '백승현', 'LG', '투수', '1995-05-26', '183cm,', '78kg', '소래초-상인천중-인천고'], ['29', '손주영', 'LG', '투수', '1998-12-02', '191cm,', '95kg', '울산대현초-개성중-경남고'], ['50', '손호영', 'LG', '내야수', '1994-08-23', '182cm,', '88kg', '의왕부곡초-평촌중-충훈고'], ['111', '송승기', 'LG', '투수', '2002-04-10', '181cm,', '90kg', '삼일초-매향중-야탑고'], ['46', '송은범', 'LG', '투수', '1984-03-17', '182cm,', '93kg', '서흥초-동산중-동산고-SK-KIA-한화'], ['113', '송찬의', 'LG', '내야수', '1999-02-20', '182cm,', '77kg', '화곡초-선린중-선린인터넷고'], ['36', '수아레즈', 'LG', '투수', '1992-09-11', '185cm,', '88kg', '미국', 'Miami(대)'], ['14', '신민재', 'LG', '내야수', '1996-01-21', '171cm,', '67kg', '서흥초-동인천중-인천고'], ['121', '안익훈', 'LG', '외야수', '1996-02-12', '176cm,', '70kg', '대전신흥초-충남중-대전고'], ['64', '오석주', 'LG', '투수', '1998-04-14', '181cm,', '74kg', '양정초-대천중-제주고'], ['10', '오지환', 'LG', '내야수', '1990-03-12', '186cm,', '80kg', '군산초-자양중-경기고']]\n",
            "[['27', '유강남', 'LG', '포수', '1992-07-15', '182cm,', '88kg', '청원초-휘문중-서울고-LG-상무'], ['117', '이동규', 'LG', '내야수', '1997-05-08', '180cm,', '87kg', '서울학동초-홍은중-성남고'], ['26', '이민호', 'LG', '투수', '2001-08-30', '189cm,', '93kg', '서울학동초-대치중-휘문고'], ['101', '이믿음', 'LG', '투수', '2000-07-18', '188cm,', '80kg', '노암초-경포중-강릉고-강릉영동대'], ['60', '이상규', 'LG', '투수', '1996-10-20', '185cm,', '77kg', '흥인초-청원중-청원고'], ['30', '이상영', 'LG', '투수', '2000-12-03', '193cm,', '88kg', '부산수영초-개성중-부산고'], ['25', '이상호', 'LG', '내야수', '1989-02-05', '180cm,', '82kg', '대구옥산초-경운중-대구상원고-강릉영동대-NC-상무-NC'], ['4', '이성우', 'LG', '포수', '1981-09-01', '180cm,', '91kg', '백운초-청원중-성남서고-상무-SK-KIA-SK'], ['0', '이영빈', 'LG', '내야수', '2002-06-17', '182cm,', '82kg', '대전동산초(대전중구리틀)-충남중-세광고'], ['37', '이우찬', 'LG', '투수', '1992-08-04', '183cm,', '88kg', '온양온천초-온양중-북일고-LG-경찰'], ['52', '이재원', 'LG', '외야수', '1999-07-17', '192cm,', '100kg', '청주석교초-서울경원중-서울고'], ['31', '이정용', 'LG', '투수', '1996-03-26', '186cm,', '85kg', '영일초-성남중-성남고-동아대'], ['110', '이정우', 'LG', '외야수', '2001-02-28', '182cm,', '84kg', '부산수영초-경남중-경남고'], ['8', '이주형', 'LG', '내야수', '2001-04-02', '183cm,', '80kg', '송수초(해운대리틀)-센텀중-경남고'], ['39', '이찬혁', 'LG', '투수', '1998-08-19', '187cm,', '90kg', '도신초-강남중-서울고'], ['24', '이천웅', 'LG', '외야수', '1988-10-20', '182cm,', '90kg', '군산남초-성일중-성남서고-고려대-LG-경찰'], ['13', '이형종', 'LG', '외야수', '1989-06-07', '183cm,', '80kg', '화곡초-양천중-서울고'], ['20', '임정우', 'LG', '투수', '1991-04-02', '183cm,', '77kg', '서울도곡초-영동중-서울고-SK'], ['59', '임준형', 'LG', '투수', '2000-11-16', '180cm,', '82kg', '광주서석초-진흥중-진흥고'], ['120', '임지섭', 'LG', '투수', '1995-09-06', '189cm,', '100kg', '포철서초-창원신월중-제주고-LG-상무']]\n",
            "[['1', '임찬규', 'LG', '투수', '1992-11-20', '185cm,', '80kg', '가동초-청원중-휘문고-LG-경찰'], ['32', '장준원', 'LG', '내야수', '1995-11-21', '183cm,', '77kg', '경운초(김해리틀)-개성중-경남고'], ['18', '정우영', 'LG', '투수', '1999-08-19', '193cm,', '85kg', '가평초-강남중-서울고'], ['7', '정주현', 'LG', '내야수', '1990-10-13', '176cm,', '76kg', '대현초-경상중-대구고-LG-상무'], ['11', '정찬헌', 'LG', '투수', '1990-01-26', '187cm,', '94kg', '송정동초-충장중-광주제일고'], ['63', '조건희', 'LG', '투수', '2002-03-26', '184cm,', '84kg', '계상초(노원구리틀)-상명중-서울고'], ['114', '조용근', 'LG', '투수', '1996-01-01', '187cm,', '100kg', '공주중동초-공주중-공주고-중앙대'], ['21', '진해수', 'LG', '투수', '1986-06-26', '187cm,', '85kg', '동삼초-경남중-부경고-KIA-상무-KIA-SK'], ['23', '차우찬', 'LG', '투수', '1987-05-31', '185cm,', '80kg', '군산초-군산남중-군산상고-(대구사이버대)-삼성'], ['55', '채은성', 'LG', '외야수', '1990-02-06', '186cm,', '92kg', '순천북초-순천이수중-효천고'], ['67', '채지선', 'LG', '투수', '1995-07-11', '180cm,', '70kg', '학강초-광주동성중-광주제일고-두산'], ['17', '최동환', 'LG', '투수', '1989-09-19', '184cm,', '83kg', '인헌초-선린중-경동고'], ['38', '최민창', 'LG', '외야수', '1996-04-16', '179cm,', '76kg', '강남초-선린중-신일고'], ['56', '최성훈', 'LG', '투수', '1989-10-11', '178cm,', '75kg', '가동초-잠신중-경기고-경희대'], ['100', '최우혁', 'LG', '포수', '1995-07-19', '180cm,', '86kg', '백원초-자양중-서울고-홍익대'], ['3', '켈리', 'LG', '투수', '1989-10-04', '191cm,', '98kg', '미국', 'Sarasota(고)'], ['107', '하영진', 'LG', '투수', '2001-02-28', '182cm,', '80kg', '안산상록초-원주중-원주고'], ['58', '한석현', 'LG', '외야수', '1994-05-17', '181cm,', '73kg', '후암초-대천중-경남고'], ['40', '한선태', 'LG', '투수', '1994-06-14', '183cm,', '79kg', '부천양지초-부천동중-부천공고'], ['53', '함덕주', 'LG', '투수', '1995-01-13', '181cm,', '78kg', '일산초-원주중-원주고-두산']]\n",
            "[['108', '함창건', 'LG', '외야수', '2001-08-18', '176cm,', '83kg', '백운초-충암중-충암고'], ['51', '홍창기', 'LG', '외야수', '1993-11-21', '189cm,', '94kg', '대일초-매송중-안산공고-건국대-LG-경찰']]\n"
          ],
          "name": "stdout"
        }
      ]
    },
    {
      "cell_type": "code",
      "metadata": {
        "id": "e-iZckUOSlbE",
        "colab": {
          "base_uri": "https://localhost:8080/"
        },
        "outputId": "de75084f-7c1f-4a94-8662-077191afc451"
      },
      "source": [
        "WO_player = Player(\"WO\")\n",
        "WO_URL = URL(WO_player)\n",
        "WO_info = player_info(WO_URL)\n",
        "WO = to_DF(WO_player, WO_info)"
      ],
      "execution_count": 32,
      "outputs": [
        {
          "output_type": "stream",
          "text": [
            "78\n",
            "[['65', '김동욱', '고양', '투수', '1997-05-16', '178cm,', '89kg', '(용산구리틀)-경원중-휘문고-홍익대'], ['98', '김동은', '고양', '투수', '2000-10-16', '186cm,', '100kg', '광주수창초-충장중-광주동성고'], ['60', '김동혁', '키움', '투수', '2001-12-27', '183cm,', '83kg', '(강남구리틀)-영동중-덕수고'], ['4', '김병휘', '키움', '내야수', '2001-02-16', '177cm,', '79kg', '효제초-홍은중-장충고'], ['49', '김선기', '키움', '투수', '1991-09-01', '187cm,', '94kg', '석교초-세광중-세광고-상무-넥센'], ['21', '김성민', '키움', '투수', '1994-04-26', '181cm,', '90kg', '대구옥산초-경복중-대구상원고-일본경제대-SK-넥센'], ['34', '김성진', '키움', '투수', '1997-11-14', '182cm,', '78kg', '율하초-포항제철중-부산정보고-계명대'], ['46', '김수환', '키움', '내야수', '1998-03-20', '180cm,', '100kg', '부일초(부평구리틀)-재능중-제물포고-넥센'], ['03', '김시앙', '고양', '포수', '2001-10-31', '176cm,', '83kg', '광주대성초-광주동성중-광주동성고'], ['58', '김신회', '키움', '외야수', '1999-07-14', '177cm,', '75kg', '둔촌초-배재중-제물포고'], ['1', '김웅빈', '키움', '내야수', '1996-02-09', '181cm,', '84kg', '서라벌초-제일중-울산공고-넥센-상무'], ['37', '김은성', '키움', '내야수', '1993-03-07', '179cm,', '83kg', '금평초-자양중-전주고-원광대'], ['67', '김인범', '고양', '투수', '2000-01-12', '187cm,', '97kg', '하남동부초(하남시리틀)-전라중-전주고'], ['28', '김재웅', '키움', '투수', '1998-10-22', '173cm,', '88kg', '금교초(남양주리틀)-자양중-덕수고'], ['32', '김재현', '키움', '포수', '1993-03-18', '178cm,', '85kg', '진북초-전라중-대전고-넥센-상무'], ['61', '김정인', '키움', '투수', '1996-06-03', '183cm,', '70kg', '광주화정초-무등중-화순고-넥센-상무'], ['26', '김정후', '키움', '투수', '1988-09-26', '178cm,', '95kg', '고명초-건대부중-경동고-단국대-상무-SK-두산-LG'], ['6', '김주형', '키움', '내야수', '1996-03-05', '176cm,', '80kg', '양정초-경남중-경남고-홍익대'], ['93', '김준형', '고양', '투수', '2002-07-12', '181cm,', '85kg', '서울이수초-성남중-성남고'], ['17', '김태훈', '키움', '투수', '1992-03-02', '185cm,', '95kg', '남부민초-대신중-부경고-넥센-경찰-넥센']]\n",
            "[['04', '김현우', '고양', '외야수', '2001-07-02', '177cm,', '84kg', 'Campsie', 'Public(초)-신정중-개성고'], ['3', '김혜성', '키움', '내야수', '1999-01-27', '179cm,', '78kg', '문촌초(고양시리틀)-동산중-동산고-넥센'], ['44', '김휘집', '키움', '내야수', '2002-01-01', '180cm,', '88kg', '양목초(히어로즈리틀)-대치중-신일고'], ['10', '문성현', '키움', '투수', '1991-11-09', '180cm,', '87kg', '남정초-선린중-충암고-넥센-상무-넥센'], ['22', '문찬종', '키움', '내야수', '1991-03-23', '183cm,', '83kg', '서울도림초(용산구리틀)-선린중-충암고'], ['97', '박관진', '키움', '투수', '1997-03-26', '186cm,', '90kg', '소양초-춘천중-강릉고-인하대'], ['27', '박동원', '키움', '포수', '1990-04-07', '179cm,', '92kg', '양정초-개성중-개성고-히어로즈-넥센-상무-넥센'], ['92', '박동혁', '고양', '외야수', '2000-03-25', '186cm,', '95kg', '군산남초-언북중-화순고'], ['52', '박병호', '키움', '내야수', '1986-07-10', '185cm,', '107kg', '영일초(광명리틀)-영남중-성남고-LG-상무-LG-넥센'], ['08', '박성우', '고양', '포수', '1998-09-01', '180cm,', '85kg', '좌동초(해운대리틀)-대천중-부산정보고-호원대'], ['12', '박승주', '키움', '투수', '1994-02-12', '179cm,', '93kg', '화계초-언북중-경기고-동국대-넥센'], ['9', '박정음', '키움', '외야수', '1989-04-15', '175cm,', '77kg', '금평초-전라중-전주고-성균관대-넥센-상무-넥센'], ['42', '박주성', '키움', '투수', '2000-11-09', '181cm,', '95kg', '경동초(성동구리틀)-건대부중-경기고'], ['45', '박주현', '키움', '투수', '1996-06-19', '184cm,', '110kg', '강남초-덕수중-장충고-넥센'], ['57', '박주홍', '키움', '외야수', '2001-04-16', '188cm,', '92kg', '(하남시리틀)-건대부중-장충고'], ['23', '박준태', '키움', '외야수', '1991-07-26', '181cm,', '75kg', '부산대연초-부산중-개성고-인하대-KIA-경찰-KIA'], ['25', '박준형', '고양', '포수', '1999-03-07', '177cm,', '89kg', '화순초-무등중-광주제일고'], ['2', '변상권', '키움', '외야수', '1997-04-04', '180cm,', '80kg', '인천서림초-상인천중-제물포고-인천재능대-넥센'], ['8', '브리검', '키움', '투수', '1988-02-10', '190cm,', '90kg', '미국', 'Central', 'Florida', 'Christian', 'Academy-넥센'], ['14', '서건창', '키움', '내야수', '1989-08-22', '176cm,', '84kg', '송정동초-충장중-광주제일고-LG-넥센']]\n",
            "[['53', '송우현', '키움', '외야수', '1996-12-27', '181cm,', '78kg', '대전신흥초-온양중-북일고-넥센-경찰'], ['5', '신준우', '키움', '내야수', '2001-06-21', '176cm,', '83kg', '대구수창초-경운중-대구고'], ['41', '안우진', '키움', '투수', '1999-08-30', '191cm,', '90kg', '강남초-서울이수중-휘문고-넥센'], ['05', '양경식', '고양', '내야수', '2001-02-03', '171cm,', '70kg', '(인천남동구리틀)-동산중-제물포고'], ['55', '양기현', '키움', '투수', '1998-12-16', '182cm,', '115kg', '서울청구초-홍은중-장충고'], ['39', '양현', '키움', '투수', '1992-08-23', '188cm,', '70kg', '영랑초-한밭중-대전고-두산-상무-넥센'], ['40', '오윤성', '키움', '투수', '1998-12-10', '182cm,', '77kg', '인천서림초-신흥중-인천고-넥센'], ['15', '오주원', '키움', '투수', '1985-03-31', '184cm,', '95kg', '청원초-청원중-청원고-현대-상무-히어로즈-넥센'], ['43', '요키시', '키움', '투수', '1989-07-29', '188cm,', '93kg', '미국', 'Northwestern(대)'], ['99', '윤정현', '키움', '투수', '1993-05-17', '187cm,', '110kg', '서원초-세광중-세광고'], ['66', '이명기', '고양', '내야수', '2000-01-03', '186cm,', '103kg', '광주대성초-충장중-광주동성고'], ['36', '이병규', '고양', '내야수', '1994-10-05', '175cm,', '74kg', '광주서석초-배재중-배재고-송원대-넥센'], ['33', '이승호', '키움', '투수', '1999-02-08', '187cm,', '95kg', '김해삼성초-개성중-경남고-KIA-넥센'], ['64', '이영준', '키움', '투수', '1991-10-10', '184cm,', '100kg', '영일초-영남중-덕수고-단국대-KT-넥센'], ['19', '이용규', '키움', '외야수', '1985-08-26', '175cm,', '70kg', '성동초-잠신중-덕수정보고-LG-KIA-한화'], ['07', '이재홍', '고양', '내야수', '1998-12-17', '170cm,', '72kg', '광주대성초-광주동성중-광주동성고-고려대'], ['51', '이정후', '키움', '외야수', '1998-08-20', '185cm,', '78kg', '광주서석초-휘문중-휘문고-넥센'], ['54', '이종민', '키움', '투수', '2001-06-04', '185cm,', '100kg', '성동초-덕수중-성남고'], ['02', '이주형', '고양', '외야수', '2002-07-05', '184cm,', '100kg', '이매초-매송중-야탑고']]\n",
            "[['56', '이지영', '키움', '포수', '1986-02-27', '178cm,', '85kg', '서화초-신흥중-제물포고-경성대-삼성-상무-삼성'], ['47', '임규빈', '키움', '투수', '1991-09-12', '184cm,', '101kg', '천안남산초-태안중-북일고-동국대'], ['29', '임지열', '키움', '외야수', '1995-08-22', '180cm,', '90kg', '대전신흥초-건대부중-덕수고-넥센-경찰'], ['59', '장재영', '키움', '투수', '2002-05-10', '188cm,', '88kg', '갈산초-신월중-덕수고'], ['62', '전병우', '키움', '내야수', '1992-10-24', '182cm,', '90kg', '동삼초-경남중-개성고-동아대-롯데'], ['06', '정연제', '고양', '투수', '1998-08-14', '186cm,', '100kg', '인천서림초-원주중-세광고-한일장신대'], ['94', '정재원', '고양', '외야수', '2001-06-14', '183cm,', '96kg', '역북초-덕수중-서울고'], ['91', '조범준', '고양', '투수', '1997-09-18', '178cm,', '85kg', '동막초-동산중-동산고-인천재능대'], ['11', '조상우', '키움', '투수', '1994-09-04', '186cm,', '97kg', '서화초-상인천중-대전고-넥센'], ['13', '조성운', '키움', '투수', '1989-10-02', '185cm,', '88kg', '영중초-신일중-신일고-한양대-넥센'], ['35', '조영건', '키움', '투수', '1999-02-04', '180cm,', '85kg', '대전신흥초-충남중-백송고'], ['30', '차재용', '키움', '투수', '1996-08-20', '184cm,', '88kg', '소래초-동산중-부천고-롯데'], ['48', '최규보', '고양', '투수', '1997-09-16', '187cm,', '85kg', '진주교대부설초-마산동중-마산고-넥센'], ['20', '최원태', '키움', '투수', '1997-01-07', '184cm,', '93kg', '인헌초(용산구리틀)-서울경원중-서울고-넥센'], ['24', '프레이타스', '키움', '내야수', '1989-03-18', '188cm,', '115kg', '미국', 'Elk', 'Growth(고)'], ['63', '한현희', '키움', '투수', '1993-06-25', '182cm,', '95kg', '동삼초-경남중-경남고-넥센'], ['31', '허정협', '키움', '외야수', '1990-02-17', '184cm,', '92kg', '부천북초-부천중-인천고-서울문화예술대-넥센']]\n"
          ],
          "name": "stdout"
        }
      ]
    },
    {
      "cell_type": "code",
      "metadata": {
        "id": "SRKUG5GxSldJ",
        "colab": {
          "base_uri": "https://localhost:8080/"
        },
        "outputId": "ab8e1d1d-e911-4bdd-ca7d-687f68395277"
      },
      "source": [
        "HT_player = Player(\"HT\")\n",
        "HT_URL = URL(HT_player)\n",
        "HT_info = player_info(HT_URL)\n",
        "HT = to_DF(HT_player, HT_info)"
      ],
      "execution_count": 35,
      "outputs": [
        {
          "output_type": "stream",
          "text": [
            "81\n",
            "[['60', '고영창', 'KIA', '투수', '1989-02-24', '189cm,', '100kg', '광주서림초-진흥중-진흥고-연세대'], ['40', '권혁경', 'KIA', '포수', '2002-01-23', '187cm,', '94kg', '중대초-잠신중-신일고'], ['14', '김규성', 'KIA', '내야수', '1997-03-08', '183cm,', '73kg', '갈산초-선린중-선린인터넷고'], ['47', '김명찬', 'KIA', '투수', '1992-10-24', '187cm,', '106kg', '백마초-덕수중-선린고-연세대-KIA-경찰'], ['24', '김민식', 'KIA', '포수', '1989-06-28', '180cm,', '80kg', '양덕초-마산중-마산고-원광대-SK-상무-SK'], ['3', '김선빈', 'KIA', '내야수', '1989-12-18', '165cm,', '77kg', '화순초-화순중-화순고-KIA-상무'], ['044', '김선우', 'KIA', '포수', '2001-01-18', '178cm,', '80kg', '상인천초-상인천중-강릉고'], ['013', '김양수', 'KIA', '투수', '2001-01-23', '184cm,', '80kg', '천안남산초-천안북중-북일고'], ['07', '김연준', 'KIA', '외야수', '1996-12-20', '180cm,', '90kg', '중대초-잠신중-경기고-중앙대'], ['64', '김영환', 'KIA', '내야수', '1993-01-31', '178cm,', '74kg', '남도초-자양중-신일고-(서울사이버대)-KT-경찰-KT'], ['66', '김원경', 'KIA', '내야수', '2001-05-01', '182cm,', '83kg', '사파초-마산중-비봉고'], ['49', '김유신', 'KIA', '투수', '1999-06-14', '187cm,', '100kg', '화순초-청주중-세광고-KIA-상무'], ['28', '김윤동', 'KIA', '투수', '1993-04-01', '186cm,', '97kg', '남도초-경상중-경북고-KIA-상무'], ['61', '김재열', 'KIA', '투수', '1996-01-02', '183cm,', '97kg', '양정초-개성중-부산고'], ['5', '김태진', 'KIA', '내야수', '1995-10-07', '170cm,', '75kg', '수유초-신일중-신일고-NC-경찰-NC'], ['56', '김현수', 'KIA', '투수', '2000-07-10', '185cm,', '90kg', '효제초-홍은중-장충고-롯데'], ['38', '김현준', 'KIA', '투수', '1997-06-05', '182cm,', '78kg', '광주화정초-무등중-광주제일고'], ['53', '김호령', 'KIA', '외야수', '1992-04-30', '178cm,', '85kg', '관산초-안산중앙중-군산상고-동국대-KIA-경찰'], ['6', '나주환', 'KIA', '내야수', '1984-06-14', '180cm,', '84kg', '성동초(월드리틀)-휘문중-북일고-두산-SK'], ['29', '나지완', 'KIA', '외야수', '1985-05-19', '182cm,', '105kg', '수유초-신일중-신일고-단국대']]\n",
            "[['26', '남재현', 'KIA', '투수', '1996-09-13', '182cm,', '78kg', '원봉초-세광중-세광고-KIA-상무'], ['8', '류지혁', 'KIA', '내야수', '1994-01-13', '181cm,', '75kg', '청원초-선린중-충암고-두산-상무-두산'], ['15', '멩덴', 'KIA', '투수', '1993-02-19', '185cm,', '93kg', '미국', 'Texas', 'A&M(대)'], ['27', '문선재', 'KIA', '외야수', '1990-05-20', '185cm,', '91kg', '광주서림초-광주동성중-광주동성고-LG-상무-LG'], ['45', '박건우', 'KIA', '투수', '1998-06-03', '193cm,', '97kg', '다솜초-언북중-덕수고-고려대'], ['019', '박대명', 'KIA', '투수', '2002-04-22', '186cm,', '86kg', '광주대성초-광주동성중-광주동성고'], ['57', '박민', 'KIA', '내야수', '2001-06-05', '184cm,', '84kg', '갈산초-성남중-야탑고'], ['0', '박정우', 'KIA', '외야수', '1998-02-01', '175cm,', '68kg', '역삼초-언북중-덕수고'], ['31', '박준표', 'KIA', '투수', '1992-06-26', '181cm,', '93kg', '송정동초-진흥중-중앙고-동강대-KIA-경찰'], ['46', '박진태', 'KIA', '투수', '1994-10-19', '180cm,', '83kg', '미성초-성남중-성남고-건국대-KIA-상무'], ['25', '박찬호', 'KIA', '내야수', '1995-06-05', '178cm,', '72kg', '신답초-건대부중-장충고'], ['017', '백미카엘', 'KIA', '투수', '1999-07-16', '185cm,', '85kg', '역삼초-잠신중-덕수고'], ['12', '백용환', 'KIA', '포수', '1989-03-20', '180cm,', '95kg', '서울영중초-양천중-장충고-KIA-경찰'], ['02', '백현종', 'KIA', '포수', '1999-06-10', '184cm,', '94kg', '활천초-대신중-경주고-동강대'], ['63', '변시원', 'KIA', '투수', '1993-04-01', '178cm,', '78kg', '사파초-충암중-충암고-두산-경찰-두산'], ['36', '브룩스', 'KIA', '투수', '1990-04-27', '193cm,', '104kg', '미국', 'Cajon(고)-미국', 'California', 'State(대)'], ['55', '서덕원', 'KIA', '투수', '1993-07-12', '183cm,', '89kg', '개운초-청량중-장충고-건국대'], ['01', '송후섭', 'KIA', '투수', '1997-06-18', '190cm,', '95kg', '양덕초-거제외포중-개성고'], ['1', '심동섭', 'KIA', '투수', '1991-09-20', '185cm,', '93kg', '광주화정초-충장중-광주제일고-(호남대)'], ['045', '양승철', 'KIA', '투수', '1992-07-15', '193cm,', '108kg', '광주화정초-충장중-진흥고-원광대']]\n",
            "[['022', '오규석', 'KIA', '투수', '2001-12-04', '187cm,', '97kg', '희망대초-휘문중-휘문고'], ['59', '오선우', 'KIA', '외야수', '1996-12-13', '186cm,', '95kg', '성동초-자양중-배명고-인하대'], ['30', '유민상', 'KIA', '내야수', '1989-04-13', '186cm,', '101kg', '미국', '윌리캐넌초-잠신중-서울고-연세대-두산-경찰-두산-KT'], ['19', '윤중현', 'KIA', '투수', '1995-04-25', '180cm,', '84kg', '광주서석초-무등중-광주제일고-성균관대'], ['105', '이동건', 'KIA', '포수', '1993-09-23', '171cm,', '78kg', '광주대성초-진흥중-광주제일고-인하대'], ['11', '이민우', 'KIA', '투수', '1993-02-09', '185cm,', '97kg', '순천북초-순천이수중-효천고-경성대'], ['68', '이승재', 'KIA', '투수', '2000-10-04', '182cm,', '82kg', '잠신초(강남구리틀)-강남중-휘문고-강릉영동대'], ['027', '이영재', 'KIA', '외야수', '2002-01-11', '184cm,', '96kg', '연현초-평촌중-유신고'], ['37', '이우성', 'KIA', '외야수', '1994-07-17', '182cm,', '95kg', '대전유천초-한밭중-대전고-두산-상무-두산-NC'], ['48', '이의리', 'KIA', '투수', '2002-06-16', '185cm,', '90kg', '광주수창초-충장중-광주제일고'], ['08', '이인한', 'KIA', '외야수', '1998-12-24', '183cm,', '100kg', '광주대성초-심석중-강릉고-강릉영동대'], ['32', '이정훈', 'KIA', '포수', '1994-12-07', '185cm,', '90kg', '교문초-배재중-휘문고-경희대-KIA-상무'], ['011', '이준범', 'KIA', '내야수', '2002-07-16', '184cm,', '85kg', '광주대성초-광주동성중-광주동성고'], ['20', '이준영', 'KIA', '투수', '1992-08-10', '177cm,', '85kg', '군산남초-군산중-군산상고-중앙대-KIA-상무'], ['012', '이준형', 'KIA', '투수', '1993-06-03', '186cm,', '82kg', '수주초-양천중-서울고-(대구사이버대)-삼성-KT-LG'], ['10', '이진영', 'KIA', '외야수', '1997-07-21', '183cm,', '82kg', '둔촌초-선린중-선린인터넷고-KIA-경찰'], ['13', '이창진', 'KIA', '외야수', '1991-03-04', '173cm,', '85kg', '신도초-동인천중-인천고-건국대-롯데-KT-상무-KT'], ['17', '임기영', 'KIA', '투수', '1993-04-16', '184cm,', '86kg', '대구수창초-경운중-경북고-한화-KIA-상무'], ['65', '장민기', 'KIA', '투수', '2001-12-30', '182cm,', '88kg', '사파초-내동중-용마고'], ['04', '장시현', 'KIA', '내야수', '2001-12-21', '178cm,', '75kg', '서울도곡초-언북중-충암고']]\n",
            "[['33', '장영석', 'KIA', '내야수', '1990-05-14', '186cm,', '100kg', '신도초-성남중-부천고-(방송통신대)-히어로즈-넥센-경찰-넥센-키움'], ['040', '장재혁', 'KIA', '투수', '2001-08-02', '180cm,', '86kg', '부산금강초-대신중-경남고'], ['50', '장현식', 'KIA', '투수', '1995-02-24', '181cm,', '91kg', '신도초-서울이수중-서울고-NC-경찰-NC'], ['51', '전상현', 'KIA', '투수', '1996-04-18', '182cm,', '84kg', '남도초-경복중-대구상원고-KIA-상무'], ['62', '정해영', 'KIA', '투수', '2001-08-23', '189cm,', '98kg', '광주대성초-광주동성중-광주제일고'], ['58', '차명진', 'KIA', '투수', '1995-03-03', '188cm,', '104kg', '순천북초-순천이수중-효천고'], ['05', '최승주', 'KIA', '내야수', '1998-07-22', '178cm,', '85kg', '인창초-구리인창중-야탑고'], ['050', '최용준', 'KIA', '투수', '2001-12-19', '193cm,', '97kg', '양산신양초-경남중-부산공고'], ['16', '최원준', 'KIA', '외야수', '1997-03-23', '178cm,', '85kg', '연현초-서울경원중-서울고'], ['23', '최정민', 'KIA', '내야수', '1989-06-02', '177cm,', '72kg', '배영초-마산중-마산고-동아대-SK-상무-SK'], ['41', '최정용', 'KIA', '내야수', '1996-10-24', '178cm,', '75kg', '서원초-세광중-세광고-삼성-SK-KIA-상무'], ['34', '최형우', 'KIA', '외야수', '1983-12-16', '180cm,', '106kg', '진북초-전주동중-전주고-삼성-경찰-삼성'], ['22', '터커', 'KIA', '내야수', '1990-07-06', '183cm,', '95kg', '미국', 'Florida(대)'], ['39', '하준영', 'KIA', '투수', '1999-09-06', '182cm,', '79kg', '서울이수초-성남중-성남고'], ['42', '한승택', 'KIA', '포수', '1994-06-21', '174cm,', '83kg', '잠전초(남양주리틀)-잠신중-덕수고-한화-경찰'], ['09', '한준수', 'KIA', '포수', '1999-02-13', '184cm,', '95kg', '광주서석초-광주동성중-광주동성고'], ['21', '홍상삼', 'KIA', '투수', '1990-02-13', '188cm,', '85kg', '영일초-충암중-충암고-두산-경찰-두산'], ['43', '홍원빈', 'KIA', '투수', '2000-10-16', '195cm,', '101kg', '안말초-강남중-덕수고'], ['52', '황대인', 'KIA', '내야수', '1996-02-10', '178cm,', '100kg', '군산신풍초-자양중-경기고-KIA-상무'], ['2', '황윤호', 'KIA', '내야수', '1993-09-22', '177cm,', '78kg', '수주초-신월중-장충고-NC-경찰-NC']]\n",
            "[['35', '황인준', 'KIA', '투수', '1991-07-23', '184cm,', '94kg', '동광초-충남중-대전고-한양대']]\n"
          ],
          "name": "stdout"
        }
      ]
    },
    {
      "cell_type": "code",
      "metadata": {
        "id": "PGGVnuCMSle9",
        "colab": {
          "base_uri": "https://localhost:8080/"
        },
        "outputId": "6d4fbe21-a998-4250-a2ee-853cce203945"
      },
      "source": [
        "LT_player = Player(\"LT\")\n",
        "LT_URL = URL(LT_player)\n",
        "LT_info = player_info(LT_URL)\n",
        "LT = to_DF(LT_player, LT_info)"
      ],
      "execution_count": 37,
      "outputs": [
        {
          "output_type": "stream",
          "text": [
            "73\n",
            "[['66', '강동호', '롯데', '투수', '1994-04-21', '189cm,', '118kg', '신원초-영남중-배재고-원광대-롯데-상무'], ['1', '강로한', '롯데', '외야수', '1992-05-13', '181cm,', '78kg', '울산삼신초-경남중-부경고-경남대'], ['27', '강태율', '롯데', '포수', '1996-11-01', '180cm,', '88kg', '부산수영초-대천중-부경고'], ['22', '구승민', '롯데', '투수', '1990-06-12', '181cm,', '80kg', '동일초(도봉구리틀)-청원중-청원고-홍익대-롯데-상무'], ['97', '권동현', '롯데', '투수', '2001-08-12', '192cm,', '88kg', '부산연서초-센텀중-부경고'], ['24', '김강현', '롯데', '포수', '1995-02-27', '177cm,', '80kg', '고명초-청원중-청원고-(세계사이버대)'], ['42', '김건국', '롯데', '투수', '1988-02-02', '179cm,', '85kg', '한서초(서부리틀)-청량중-덕수정보고-두산-KT'], ['41', '김대우', '롯데', '투수', '1984-07-26', '189cm,', '95kg', '광주대성초-무등중-광주제일고-상무'], ['23', '김도규', '롯데', '투수', '1998-07-11', '190cm,', '98kg', '고봉초-충암중-안산공고'], ['37', '김동규', '롯데', '투수', '1999-04-08', '185cm,', '85kg', '안일초(안양시리틀)-현도중-포철고'], ['57', '김동우', '롯데', '투수', '1995-10-01', '184cm,', '76kg', '서당초-매송중-야탑고-연세대'], ['5', '김민수', '롯데', '내야수', '1998-03-18', '182cm,', '96kg', '서화초-동산중-제물포고-롯데-경찰'], ['34', '김원중', '롯데', '투수', '1993-06-14', '192cm,', '91kg', '학강초-광주동성중-광주동성고'], ['55', '김유영', '롯데', '투수', '1994-05-02', '180cm,', '80kg', '양정초-개성중-경남고-롯데-상무'], ['12', '김재유', '롯데', '외야수', '1992-08-07', '181cm,', '85kg', '장산초-경남중-부경고-(영남사이버대)-롯데-상무'], ['96', '김정주', '롯데', '투수', '2001-08-15', '180cm,', '75kg', '경기상마초(부천소사리틀)-재능중-제물포고'], ['50', '김주현', '롯데', '내야수', '1993-12-21', '188cm,', '103kg', '성동초-잠신중-북일고-경희대-한화-경찰-한화'], ['44', '김준태', '롯데', '포수', '1994-07-31', '175cm,', '91kg', '양정초-개성중-경남고-(영남사이버대)-롯데-상무'], ['16', '김진욱', '롯데', '투수', '2002-07-05', '185cm,', '90kg', '수원신곡초-춘천중-강릉고'], ['86', '김창훈', '롯데', '투수', '2001-11-09', '185cm,', '98kg', '사파초-창원신월중-경남고']]\n",
            "[['43', '나균안', '롯데', '투수', '1998-03-16', '185cm,', '99kg', '무학초-창원신월중-용마고'], ['51', '나승엽', '롯데', '내야수', '2002-02-15', '190cm,', '82kg', '남정초-선린중-덕수고'], ['52', '나원탁', '롯데', '외야수', '1994-08-20', '183cm,', '93kg', '석교초-세광중-세광고-홍익대-삼성'], ['38', '노경은', '롯데', '투수', '1984-03-11', '186cm,', '90kg', '화곡초-성남중-성남고-두산'], ['6', '마차도', '롯데', '내야수', '1992-02-22', '185cm,', '91kg', '베네수엘라', 'Miguel', 'De', 'Cervantes(고)'], ['3', '민병헌', '롯데', '외야수', '1987-03-10', '178cm,', '87kg', '화곡초-잠신중-덕수고-두산-경찰-두산'], ['61', '박명현', '롯데', '투수', '2001-06-16', '185cm,', '80kg', '부천북초-대원중-야탑고'], ['32', '박세웅', '롯데', '투수', '1995-11-30', '181cm,', '78kg', '대구경운초-경운중-경북고-KT'], ['65', '박영완', '롯데', '투수', '2000-07-22', '183cm,', '85kg', '양덕초-마산동중-대구고'], ['63', '박재민', '롯데', '투수', '2001-08-27', '186cm,', '88kg', '군산중앙초-청원중-전주고'], ['30', '박종무', '롯데', '투수', '1997-07-12', '188cm,', '85kg', '용마초(마산리틀)-창원신월중-부산고'], ['90', '박진', '롯데', '투수', '1999-04-02', '181cm,', '99kg', '대연초-부산중-부산고'], ['40', '박진형', '롯데', '투수', '1994-06-10', '181cm,', '77kg', '영랑초-경포중-강릉고'], ['2', '배성근', '롯데', '내야수', '1995-04-27', '182cm,', '90kg', '본리초-경상중-울산공고'], ['39', '서준원', '롯데', '투수', '2000-11-05', '187cm,', '95kg', '신금초(부산북구리틀)-개성중-경남고'], ['28', '손성빈', '롯데', '포수', '2002-01-14', '186cm,', '92kg', '희망대초-신흥중-장안고'], ['31', '손아섭', '롯데', '외야수', '1988-03-18', '174cm,', '84kg', '양정초-개성중-부산고'], ['21', '송승준', '롯데', '투수', '1980-06-29', '184cm,', '106kg', '하단초-경남중-경남고-(퍼시픽대)'], ['94', '송재영', '롯데', '투수', '2002-06-20', '187cm,', '88kg', '수원잠원초(수원영통구리틀)-매향중-라온고'], ['58', '스트레일리', '롯데', '투수', '1988-12-01', '189cm,', '100kg', '미국', 'Turston(고)-미국', 'Marshall(대)']]\n",
            "[['68', '신용수', '롯데', '외야수', '1996-01-05', '178cm,', '78kg', '무학초-마산중-마산고-동의대'], ['13', '안치홍', '롯데', '내야수', '1990-07-02', '178cm,', '88kg', '구지초(구리리틀)-대치중-서울고-KIA-경찰-KIA'], ['59', '엄태호', '롯데', '외야수', '2001-01-03', '186cm,', '84kg', '도신초-영남중-장충고'], ['4', '오윤석', '롯데', '내야수', '1992-02-24', '180cm,', '87kg', '화중초-자양중-경기고-연세대-롯데-상무'], ['15', '오현택', '롯데', '투수', '1985-07-17', '180cm,', '73kg', '서울이수초-서울이수중-장충고-원광대-두산-상무-두산'], ['26', '우강훈', '롯데', '투수', '2002-10-03', '183cm,', '88kg', '희망대초-매송중-야탑고'], ['69', '윤성빈', '롯데', '투수', '1999-02-26', '197cm,', '90kg', '동일중앙초-경남중-부산고'], ['10', '이대호', '롯데', '내야수', '1982-06-21', '194cm,', '130kg', '부산수영초-대동중-경남고-(영남사이버대)'], ['7', '이병규', '롯데', '내야수', '1983-10-09', '178cm,', '90kg', '율하초-경상중-경북고-한양대-LG'], ['92', '이병준', '롯데', '투수', '2002-05-28', '185cm,', '95kg', '부산청동초(영도구리틀)-경남중-개성고'], ['47', '이승헌', '롯데', '투수', '1998-12-19', '196cm,', '97kg', '무학초-마산동중-용마고'], ['35', '이인복', '롯데', '투수', '1991-06-18', '187cm,', '94kg', '희망대초-성일중-서울고-연세대-롯데-경찰'], ['60', '이주찬', '롯데', '내야수', '1998-09-21', '181cm,', '86kg', '송수초(해운대리틀)-센텀중-경남고-동의대'], ['19', '이호연', '롯데', '내야수', '1995-06-03', '177cm,', '84kg', '광주수창초-진흥중-광주제일고-성균관대'], ['49', '장두성', '롯데', '외야수', '1999-09-16', '176cm,', '67kg', '축현초-재능중-동산고'], ['8', '전준우', '롯데', '내야수', '1986-02-25', '184cm,', '97kg', '흥무초-경주중-경주고-건국대-롯데-경찰'], ['62', '정보근', '롯데', '포수', '1999-08-31', '175cm,', '88kg', '부산수영초-경남중-경남고'], ['46', '정우준', '롯데', '투수', '2000-03-17', '183cm,', '86kg', '태랑초(남양주리틀)-청원중-서울고-강릉영동대'], ['14', '정태승', '롯데', '투수', '1988-03-17', '178cm,', '96kg', '길동초-춘천중-유신고-성균관대'], ['9', '정훈', '롯데', '내야수', '1987-07-18', '180cm,', '85kg', '양덕초-마산동중-용마고']]\n",
            "[['33', '지시완', '롯데', '포수', '1994-04-10', '180cm,', '92kg', '청주우암초-청주중-청주고-한화'], ['48', '진명호', '롯데', '투수', '1989-03-20', '192cm,', '98kg', '진북초-전라중-효천고-(영남사이버대)-롯데-상무'], ['53', '최민재', '롯데', '외야수', '1994-01-08', '180cm,', '84kg', '대전신흥초-공주중-화순고-SK'], ['45', '최영환', '롯데', '투수', '1992-02-20', '179cm,', '92kg', '감천초-대동중-개성고-동아대-(영남사이버대)-한화'], ['64', '최우인', '롯데', '투수', '2002-08-09', '191cm,', '91kg', '가동초-대치중-서울고'], ['74', '최종은', '롯데', '내야수', '1998-10-12', '178cm,', '82kg', '고골초(하남시리틀)-청량중-장충고-중앙대'], ['56', '최준용', '롯데', '투수', '2001-10-10', '185cm,', '85kg', '부산수영초-대천중-경남고'], ['36', '추재현', '롯데', '외야수', '1999-02-22', '179cm,', '89kg', '경수초(성동구리틀)-건대부중-신일고-넥센-키움'], ['67', '프랑코', '롯데', '투수', '1992-12-29', '189cm,', '108kg', '베네수엘라', 'Escuela', '23', 'de', 'Enero(중)'], ['25', '한동희', '롯데', '내야수', '1999-06-01', '181cm,', '99kg', '부산대연초-경남중-경남고'], ['29', '한승혁', '롯데', '투수', '1996-05-20', '189cm,', '83kg', '순천남산초-순천금당중-효천고-롯데-경찰'], ['18', '홍민기', '롯데', '투수', '2001-07-20', '185cm,', '85kg', '법동초-한밭중-대전고'], ['54', '홍지훈', '롯데', '내야수', '1998-05-17', '174cm,', '80kg', '대구수창초-경복중-용마고']]\n"
          ],
          "name": "stdout"
        }
      ]
    },
    {
      "cell_type": "code",
      "metadata": {
        "id": "sniGJeRbSlgz",
        "colab": {
          "base_uri": "https://localhost:8080/"
        },
        "outputId": "87dbb93c-122f-45b2-ca5e-8d512f5ebd44"
      },
      "source": [
        "SS_player = Player(\"SS\")\n",
        "SS_URL = URL(SS_player)\n",
        "SS_info = player_info(SS_URL)\n",
        "SS = to_DF(SS_player, SS_info)"
      ],
      "execution_count": 39,
      "outputs": [
        {
          "output_type": "stream",
          "text": [
            "81\n",
            "[['47', '강민호', '삼성', '포수', '1985-08-18', '185cm,', '100kg', '제주신광초-포철중-포철공고-(국제디지털대)-롯데'], ['6', '강한울', '삼성', '내야수', '1991-09-12', '181cm,', '66kg', '사당초-중앙중-안산공고-원광대-KIA-삼성-상무'], ['5', '구자욱', '삼성', '외야수', '1993-02-12', '189cm,', '75kg', '본리초-경복중-대구고-삼성-상무'], ['19', '구준범', '삼성', '투수', '1995-03-18', '175cm,', '68kg', '서울학동초-대치중-배명고'], ['48', '권정웅', '삼성', '포수', '1992-11-15', '180cm,', '88kg', '서울이수초-영동중-덕수고-한양대-삼성-상무'], ['102', '김결의', '삼성', '포수', '1994-01-03', '179cm,', '90kg', '노암초-경포중-강릉고-성균관대'], ['105', '김경민', '삼성', '내야수', '1997-08-01', '183cm,', '100kg', '진북초-전라중-포철고-성균관대'], ['17', '김대우', '삼성', '투수', '1988-11-21', '183cm,', '85kg', '역삼초-대치중-서울고-홍익대-넥센-상무-넥센'], ['42', '김도환', '삼성', '포수', '2000-04-14', '178cm,', '90kg', '언북초(의정부리틀)-영동중-신일고'], ['38', '김동엽', '삼성', '외야수', '1990-07-24', '186cm,', '101kg', '천안남산초-천안북중-북일고-SK'], ['103', '김동진', '삼성', '내야수', '1996-12-18', '184cm,', '84kg', '영랑초-설악중-설악고'], ['106', '김동찬', '삼성', '투수', '1999-04-12', '179cm,', '92kg', '대룡초(동구리틀)-청량중-덕수고'], ['12', '김민수', '삼성', '포수', '1991-03-02', '177cm,', '80kg', '대구옥산초-경복중-대구상원고-영남대-한화-삼성-상무'], ['7', '김상수', '삼성', '내야수', '1990-03-23', '175cm,', '68kg', '대구옥산초-경복중-경북고'], ['67', '김성윤', '삼성', '외야수', '1999-02-02', '163cm,', '62kg', '창신초(부산진구리틀)-원동중-포항제철고'], ['9', '김성표', '삼성', '내야수', '1994-03-17', '179cm,', '65kg', '포이초(서초구리틀)-대치중-휘문고'], ['109', '김세민', '삼성', '포수', '2002-03-24', '180cm,', '94kg', '광주서석초-창원신월중-청담고'], ['25', '김윤수', '삼성', '투수', '1999-12-08', '183cm,', '94kg', '온양온천초-온양중-북일고'], ['27', '김응민', '삼성', '포수', '1991-10-22', '178cm,', '90kg', '서울이수초-건대부중-중앙고-두산-삼성-상무'], ['0', '김재현', '삼성', '내야수', '1991-08-30', '176cm,', '73kg', '홍파초(도봉구리틀)-건대부중-배명고-한양대-삼성-경찰']]\n",
            "[['104', '김준우', '삼성', '투수', '1999-05-31', '185cm,', '92kg', '칠성초-대구중-경북고'], ['58', '김지찬', '삼성', '내야수', '2001-03-08', '163cm,', '64kg', '백사초(이천시리틀)-모가중-라온고'], ['115', '김태수', '삼성', '내야수', '1994-08-17', '177cm,', '71kg', '내당초-경상중-대구상원고-한양대'], ['34', '김헌곤', '삼성', '외야수', '1988-11-09', '174cm,', '81kg', '회원초-경복중-제주관광고-영남대-삼성-상무'], ['117', '김현준', '삼성', '외야수', '2002-10-11', '178cm,', '78kg', '가산초(부산진구리틀)-센텀중-개성고'], ['8', '김호재', '삼성', '내야수', '1995-05-31', '178cm,', '72kg', '서울도곡초-서울이수중-장충고'], ['37', '노성호', '삼성', '투수', '1989-10-22', '182cm,', '100kg', '서흥초-상인천중-화순고-동국대-NC-상무-NC'], ['39', '라이블리', '삼성', '투수', '1992-03-05', '193cm,', '86kg', '미국', 'Central', 'Florida(대)'], ['50', '박세웅', '삼성', '투수', '1996-05-10', '180cm,', '87kg', '대해초-포항중-청주고-SK'], ['65', '박승규', '삼성', '외야수', '2000-09-02', '178cm,', '78kg', '일산초-덕수중-경기고'], ['101', '박주혁', '삼성', '투수', '2001-05-18', '182cm,', '82kg', '남정초-덕수중-휘문고'], ['13', '박해민', '삼성', '외야수', '1990-02-24', '180cm,', '75kg', '영중초-양천중-신일고-한양대'], ['24', '백승민', '삼성', '내야수', '1990-07-09', '184cm,', '78kg', '남도초-경상중-대구상원고-영남대'], ['29', '백정현', '삼성', '투수', '1987-07-13', '184cm,', '80kg', '대구옥산초-대구중-대구상원고'], ['41', '봉민호', '삼성', '투수', '1996-06-26', '184cm,', '90kg', '청주우암초-자양중-경기고-SK'], ['4', '뷰캐넌', '삼성', '투수', '1989-05-11', '190cm,', '90kg', '미국', 'Georgia', 'State(대)'], ['52', '송준석', '삼성', '외야수', '1994-05-04', '176cm,', '78kg', '서울청구초-배명중-장충고'], ['18', '심창민', '삼성', '투수', '1993-02-01', '185cm,', '86kg', '동삼초-경남중-경남고-(대구사이버대)-삼성-상무'], ['14', '안주형', '삼성', '내야수', '1993-08-14', '176cm,', '68kg', '부산중앙초-부산중-부경고-영남대'], ['31', '양우현', '삼성', '내야수', '2000-04-13', '175cm,', '82kg', '남정초-충암중-충암고']]\n",
            "[['15', '양창섭', '삼성', '투수', '1999-09-22', '182cm,', '85kg', '녹천초(노원구리틀)-청량중-덕수고'], ['21', '오승환', '삼성', '투수', '1982-07-15', '178cm,', '93kg', '도신초-우신중-경기고-단국대'], ['44', '오재일', '삼성', '내야수', '1986-10-29', '187cm,', '95kg', '인창초(구리리틀)-구리인창중-야탑고-현대-상무-히어로즈-넥센-두산'], ['66', '오현석', '삼성', '내야수', '2001-03-05', '183cm,', '99kg', '고명초-홍은중-안산공고'], ['2', '우규민', '삼성', '투수', '1985-01-21', '184cm,', '75kg', '성동초-휘문중-휘문고-LG-경찰-LG'], ['46', '원태인', '삼성', '투수', '2000-04-06', '183cm,', '92kg', '율하초(중구리틀)-경복중-경북고'], ['111', '이기용', '삼성', '투수', '2001-01-03', '178cm,', '88kg', '양덕초-마산동중-용마고'], ['59', '이상민', '삼성', '투수', '1990-11-04', '180cm,', '85kg', '남도초(수성리틀)-대구중-경북고-동의대-NC-넥센-경찰-넥센-키움'], ['55', '이성곤', '삼성', '외야수', '1992-03-25', '186cm,', '93kg', '성동초-잠실중-경기고-연세대-두산-경찰-두산'], ['26', '이성규', '삼성', '내야수', '1993-08-03', '178cm,', '82kg', '광주대성초-광주동성중-광주동성고-인하대-삼성-경찰'], ['100', '이수민', '삼성', '투수', '1995-09-11', '180cm,', '94kg', '도산초-구미중-대구상원고-삼성-상무'], ['64', '이승민', '삼성', '투수', '2000-08-26', '174cm,', '79kg', '본리초-경상중-대구고'], ['54', '이승현', '삼성', '투수', '2002-05-19', '183cm,', '102kg', '남도초-경복중-대구상원고'], ['20', '이승현', '삼성', '투수', '1991-11-20', '181cm,', '92kg', '화순초-진흥중-화순고-LG'], ['16', '이원석', '삼성', '내야수', '1986-10-21', '182cm,', '82kg', '학강초-광주동성중-광주동성고-(세민디지털대)-롯데-두산-상무-두산'], ['45', '이재익', '삼성', '투수', '1994-03-18', '180cm,', '76kg', '삼일초-중앙중-유신고'], ['60', '이재희', '삼성', '투수', '2001-10-11', '187cm,', '88kg', '대전신흥초-한밭중-대전고'], ['107', '이창용', '삼성', '내야수', '1999-06-03', '184cm,', '89kg', '을지초(노원구리틀)-청량중-신흥고-강릉영동대'], ['35', '이태훈', '삼성', '외야수', '1995-04-03', '183cm,', '95kg', '광주수창초-광주동성중-광주동성고-홍익대'], ['53', '이학주', '삼성', '내야수', '1990-11-04', '187cm,', '87kg', '하안북초-양천중-충암고']]\n",
            "[['116', '이해승', '삼성', '내야수', '2000-08-01', '180cm,', '86kg', '인천서림초-신흥중-인천고'], ['3', '이현동', '삼성', '외야수', '1993-03-27', '183cm,', '83kg', '광주화정초-충장중-광주제일고-삼성-경찰'], ['28', '임대한', '삼성', '투수', '1993-08-13', '178cm,', '85kg', '고명초-건대부중-청원고-송원대-삼성-경찰'], ['57', '임현준', '삼성', '투수', '1988-12-21', '185cm,', '88kg', '본리초-대구중-대구고-경성대-삼성-상무'], ['43', '장지훈', '삼성', '투수', '1997-03-31', '190cm,', '92kg', '동천초-경주중-경주고'], ['23', '장필준', '삼성', '투수', '1988-04-08', '190cm,', '90kg', '온양온천초-온양중-북일고-상무'], ['119', '조경원', '삼성', '투수', '2001-03-15', '183cm,', '92kg', '태전초(경기광주시리틀)-모가중-비봉고'], ['68', '주한울', '삼성', '외야수', '2002-06-08', '183cm,', '83kg', '성동초-건대부중-배명고'], ['00', '최선호', '삼성', '외야수', '1991-12-12', '179cm,', '70kg', '사근초(동부리틀)-건대부중-장충고-동의대'], ['32', '최영진', '삼성', '내야수', '1988-05-10', '185cm,', '87kg', '영랑초-설악중-속초상고-한일장신대-LG-두산'], ['40', '최지광', '삼성', '투수', '1998-03-13', '173cm,', '85kg', '감천초-대신중-부산고'], ['56', '최채흥', '삼성', '투수', '1995-01-22', '186cm,', '97kg', '동천초-포항중-대구상원고-한양대'], ['51', '최충연', '삼성', '투수', '1997-03-05', '190cm,', '85kg', '대구수창초-대구중-경북고'], ['63', '피렐라', '삼성', '외야수', '1989-11-21', '183cm,', '99kg', '베네수엘라', 'Manuel', 'Segundo', 'Sanchez(고)'], ['112', '한연욱', '삼성', '투수', '2001-02-11', '188cm,', '84kg', '대구수창초-대구중-대구고'], ['49', '허윤동', '삼성', '투수', '2001-06-19', '181cm,', '90kg', '(덕양구리틀)-금릉중-유신고'], ['62', '홍무원', '삼성', '투수', '2002-01-11', '188cm,', '92kg', '신남초(인천시리틀)-신월중-경기고'], ['108', '홍승원', '삼성', '투수', '2001-12-06', '185cm,', '93kg', '소래초-양천중-성남고'], ['30', '홍원표', '삼성', '투수', '2001-03-27', '183cm,', '86kg', '신도초-부천중-부천고'], ['11', '홍정우', '삼성', '투수', '1996-03-16', '182cm,', '85kg', '도신초-강남중-충암고-경찰']]\n",
            "[['61', '황동재', '삼성', '투수', '2001-11-03', '191cm,', '97kg', '율하초-경운중-경북고']]\n"
          ],
          "name": "stdout"
        }
      ]
    },
    {
      "cell_type": "code",
      "metadata": {
        "id": "EdjgfXRYS4cp",
        "colab": {
          "base_uri": "https://localhost:8080/"
        },
        "outputId": "b94e89f9-a3a0-4154-f366-30aaf78aa8b5"
      },
      "source": [
        "SK_player = Player(\"SK\")\n",
        "SK_URL = URL(SK_player)\n",
        "SK_info = player_info(SK_URL)\n",
        "SK = to_DF(SK_player, SK_info)"
      ],
      "execution_count": 41,
      "outputs": [
        {
          "output_type": "stream",
          "text": [
            "82\n",
            "[['99', '강지광', 'SSG', '투수', '1990-10-23', '181cm,', '100kg', '진북초-상인천중-인천고-LG-넥센-SK'], ['68', '고명준', 'SSG', '내야수', '2002-07-08', '185cm,', '94kg', '서원초-세광중-세광고-SK'], ['38', '고종욱', 'SSG', '외야수', '1989-01-11', '184cm,', '83kg', '역삼초-대치중-경기고-한양대-넥센-상무-넥센-SK'], ['07', '권혁찬', 'SSG', '내야수', '1998-08-02', '189cm,', '97kg', '팔곡초(안산리틀)-소래중-인천고-홍익대-SK'], ['61', '길지석', 'SSG', '투수', '2001-11-02', '190cm,', '110kg', '(미추홀구리틀)-매송중-야탑고-SK'], ['0', '김강민', 'SSG', '외야수', '1982-09-13', '182cm,', '87kg', '본리초-대구중-경북고-SK'], ['67', '김건우', 'SSG', '투수', '2002-07-12', '185cm,', '88kg', '가현초(인천서구리틀)-동산중-제물포고-SK'], ['56', '김경호', 'SSG', '외야수', '1995-07-31', '180cm,', '68kg', '희망대초-매송중-야탑고-두산-SK'], ['49', '김민재', 'SSG', '외야수', '1996-04-04', '191cm,', '95kg', '연현초-양천중-안산공고-SK'], ['31', '김상수', 'SSG', '투수', '1988-01-02', '180cm,', '88kg', '신자초(자이언츠리틀)-자양중-신일고-(방송통신대)-삼성-넥센-상무-넥센-키'], ['5', '김성민', 'SSG', '내야수', '2001-04-30', '184cm,', '88kg', '서울학동초-자양중-경기고-SK'], ['16', '김성현', 'SSG', '내야수', '1987-03-09', '172cm,', '72kg', '송정동초-충장중-광주제일고-SK-상무-SK'], ['33', '김세현', 'SSG', '투수', '1987-08-07', '188cm,', '104kg', '도신초-우신중-덕수정보고-현대-우리-히어로즈-넥센-KIA-SK'], ['21', '김정빈', 'SSG', '투수', '1994-06-08', '182cm,', '90kg', '광주화정초-무등중-화순고-SK-상무-SK'], ['57', '김주온', 'SSG', '투수', '1996-12-08', '187cm,', '89kg', '대현초-구미중-울산공고-SK'], ['9', '김찬호', 'SSG', '투수', '1997-03-10', '179cm,', '76kg', '창영초-동산중-동산고-SK-상무-SK'], ['32', '김창평', 'SSG', '외야수', '2000-06-14', '183cm,', '78kg', '학강초-무등중-광주제일고-SK'], ['51', '김태훈', 'SSG', '투수', '1990-05-19', '176cm,', '88kg', '동구초(구리리틀)-구리인창중-구리인창고-SK-상무-SK'], ['43', '김택형', 'SSG', '투수', '1996-10-10', '185cm,', '90kg', '창영초-재능중-동산고-넥센-SK'], ['40', '김표승', 'SSG', '투수', '1997-05-15', '186cm,', '86kg', '동방초-경주중-경주고-SK']]\n",
            "[['52', '남태혁', 'SSG', '내야수', '1991-03-13', '187cm,', '107kg', '서화초-대헌중-제물포고-KT-SK'], ['27', '로맥', 'SSG', '내야수', '1985-09-30', '188cm,', '100kg', '캐나다', 'Lucas', 'Secondary(고)-SK'], ['69', '류효승', 'SSG', '외야수', '1996-07-16', '190cm,', '100kg', '칠성초-경상중-대구상원고-성균관대-SK'], ['34', '르위키', 'SSG', '투수', '1992-04-08', '190cm,', '88kg', '미국', 'Saint', 'Joseph', 'Regional(고)-미국', 'Virginia(대)-SK'], ['42', '문승원', 'SSG', '투수', '1989-11-28', '180cm,', '88kg', '가동초-배명중-배명고-고려대-SK-상무-SK'], ['41', '박민호', 'SSG', '투수', '1992-02-25', '185cm,', '95kg', '동막초-동인천중-인천고-인하대-SK-상무-SK'], ['2', '박성한', 'SSG', '내야수', '1998-03-30', '180cm,', '77kg', '여수초-여수중-효천고-SK-상무-SK'], ['64', '박시후', 'SSG', '투수', '2001-05-10', '182cm,', '88kg', '상인천초-상인천중-인천고-SK'], ['60', '박정빈', 'SSG', '외야수', '2002-06-14', '182cm,', '80kg', '효제초-청량중-경기고-SK'], ['05', '박제범', 'SSG', '포수', '2001-03-12', '172cm,', '81kg', '강진북초-전라중-인상고-SK'], ['50', '박종훈', 'SSG', '투수', '1991-08-13', '186cm,', '90kg', '군산중앙초-군산중-군산상고-SK-상무-SK'], ['03', '박형준', 'SSG', '외야수', '2001-06-28', '184cm,', '105kg', '신매초(경산시리틀)-대구중-대구고-SK'], ['37', '서동민', 'SSG', '투수', '1994-03-07', '186cm,', '90kg', '율하초(동구리틀)-경복중-대구고-SK'], ['22', '서진용', 'SSG', '투수', '1992-10-02', '184cm,', '88kg', '남부민초-대동중-경남고-상무-SK'], ['45', '신동민', 'SSG', '투수', '1996-04-29', '188cm,', '97kg', '고명초-덕수중-휘문고-SK'], ['11', '신재웅', 'SSG', '투수', '1982-03-28', '181cm,', '85kg', '사파초-창원신월중-마산고-동의대-LG-두산-LG-SK'], ['46', '양선률', 'SSG', '투수', '1997-04-15', '186cm,', '91kg', '학강초-화순중-화순고-동아대-SK'], ['47', '오원석', 'SSG', '투수', '2001-04-23', '182cm,', '80kg', '수진초-매송중-야탑고-SK'], ['39', '오준혁', 'SSG', '외야수', '1992-03-11', '187cm,', '80kg', '순천북초-천안북중-북일고-한화-경찰-한화-KIA-KT-SK'], ['24', '오태곤', 'SSG', '외야수', '1991-11-18', '186cm,', '88kg', '쌍문초-신월중-청원고-롯데-경찰-롯데-KT-SK']]\n",
            "[['7', '유서준', 'SSG', '외야수', '1995-12-04', '180cm,', '80kg', '사우초(김포리틀)-양천중-성남고-SK'], ['01', '유호식', 'SSG', '투수', '1999-05-11', '190cm,', '104kg', '서울청구초-덕수중-성남고-SK'], ['23', '이건욱', 'SSG', '투수', '1995-02-13', '182cm,', '85kg', '신도초-동산중-동산고-SK'], ['8', '이재록', 'SSG', '외야수', '1994-04-13', '170cm,', '65kg', '서울청구초-홍은중-장충고-연세대-SK'], ['115', '이재성', 'SSG', '투수', '2001-03-15', '185cm,', '80kg', '(화성시리틀)-서울청담중-라온고-SK'], ['20', '이재원', 'SSG', '포수', '1988-02-24', '185cm,', '98kg', '인천숭의초-상인천중-인천고-SK-상무-SK'], ['58', '이정범', 'SSG', '외야수', '1998-04-10', '178cm,', '88kg', '인천숭의초-동인천중-인천고-SK'], ['59', '이채호', 'SSG', '투수', '1998-11-23', '185cm,', '85kg', '동광초(김해리틀)-원동중-용마고-SK'], ['15', '이태양', 'SSG', '투수', '1990-07-03', '192cm,', '97kg', '여수서초-여수중-효천고-한화-SK'], ['25', '이현석', 'SSG', '포수', '1992-06-07', '175cm,', '90kg', '노암초-대헌중-제물포고-동국대-SK-경찰-SK'], ['55', '이흥련', 'SSG', '포수', '1989-05-16', '183cm,', '91kg', '상탑초-매송중-야탑고-홍익대-삼성-두산-경찰-두산-SK'], ['00', '임석진', 'SSG', '내야수', '1997-10-10', '180cm,', '98kg', '군산신풍초-서울이수중-서울고-SK'], ['04', '장우준', 'SSG', '투수', '2002-09-22', '187cm,', '94kg', '광일초(부산서구리틀)-대동중-개성고-SK'], ['95', '장지훈', 'SSG', '투수', '1998-12-06', '177cm,', '78kg', '김해삼성초-내동중-김해고-동의대-SK'], ['96', '전의산', 'SSG', '내야수', '2000-11-25', '188cm,', '98kg', '부산수영초-개성중-경남고-SK'], ['62', '정동윤', 'SSG', '투수', '1997-10-22', '193cm,', '103kg', '덕성초(안산리틀)-중앙중-야탑고-SK-상무-SK'], ['28', '정상호', 'SSG', '포수', '1982-12-24', '187cm,', '100kg', '석천초-동인천중-동산고-SK-상무-SK-LG-두산'], ['36', '정수민', 'SSG', '투수', '1990-04-01', '188cm,', '92kg', '김해한림초(김해엔젤스리틀)-부산중-부산고-NC-SK'], ['18', '정영일', 'SSG', '투수', '1988-11-16', '188cm,', '98kg', '광주화정초-충장중-진흥고-SK-상무-SK'], ['10', '정의윤', 'SSG', '외야수', '1986-07-25', '185cm,', '90kg', '신곡초(부산마린스리틀)-대천중-부산고-LG-상무-LG-SK']]\n",
            "[['19', '정진기', 'SSG', '외야수', '1992-10-10', '185cm,', '92kg', '화순초-화순중-화순고-SK'], ['6', '정현', 'SSG', '내야수', '1994-06-01', '181cm,', '88kg', '부산수영초-대천중-부산고-삼성-KT-상무-KT-SK'], ['97', '조병현', 'SSG', '투수', '2002-05-08', '182cm,', '83kg', '온양온천초-세광중-세광고-SK'], ['48', '조성훈', 'SSG', '투수', '1999-03-22', '188cm,', '85kg', '응봉초(성동구리틀)-건대부중-청원고-SK-상무-SK'], ['1', '조영우', 'SSG', '투수', '1995-06-27', '185cm,', '95kg', '송정동초-배재중-제주고-한화-SK-상무-SK'], ['09', '조요한', 'SSG', '투수', '2000-01-06', '191cm,', '101kg', '광주화정초-충장중-광주제일고-동강대-SK'], ['65', '조형우', 'SSG', '포수', '2002-04-04', '187cm,', '95kg', '송정동초-무등중-광주제일고-SK'], ['94', '채현우', 'SSG', '외야수', '1995-11-21', '182cm,', '80kg', '칠성초-경복중-대구상원고-송원대-SK'], ['44', '최경태', 'SSG', '투수', '1998-03-05', '184cm,', '84kg', '양정초-경남중-포항제철고-SK'], ['30', '최민준', 'SSG', '투수', '1999-06-11', '178cm,', '83kg', '부산수영초-경남중-경남고-SK-상무-SK'], ['12', '최수빈', 'SSG', '내야수', '1997-04-08', '177cm,', '78kg', '갈산초-양천중-성남고-SK'], ['14', '최정', 'SSG', '내야수', '1987-02-28', '180cm,', '90kg', '대일초-평촌중-유신고-SK'], ['53', '최주환', 'SSG', '내야수', '1988-02-28', '178cm,', '73kg', '학강초-광주동성중-광주동성고-두산-상무-두산-SK'], ['54', '최지훈', 'SSG', '외야수', '1997-07-23', '178cm,', '82kg', '광주수창초-무등중-광주제일고-동국대-SK'], ['4', '최항', 'SSG', '내야수', '1994-01-03', '183cm,', '88kg', '대일초-매송중-유신고-SK'], ['17', '추신수', 'SSG', '외야수', '1982-07-13', '180cm,', '95kg', '부산수영초-부산중-부산고-SK'], ['63', '폰트', 'SSG', '투수', '1990-05-24', '193cm,', '113kg', '베네수엘라', 'E.B.Guaracaru', 'mbo(중)-베네수엘라', 'Lic.Armando', 'Reveron(고)-SK'], ['13', '하재훈', 'SSG', '투수', '1990-10-29', '182cm,', '90kg', '양덕초-마산동중-용마고-SK'], ['35', '한유섬', 'SSG', '외야수', '1989-08-09', '190cm,', '105kg', '중앙초(해운대리틀)-대천중-경남고-경성대-SK-상무-SK'], ['113', '허민혁', 'SSG', '투수', '1999-08-20', '188cm,', '90kg', '서당초-매향중-공주고-SK']]\n",
            "[['66', '허웅', 'SSG', '투수', '1996-05-26', '187cm,', '85kg', '율하초-대구중-경북고-SK'], ['3', '현원회', 'SSG', '포수', '2001-07-08', '180cm,', '95kg', '가동초-경상중-대구고-SK']]\n"
          ],
          "name": "stdout"
        }
      ]
    },
    {
      "cell_type": "code",
      "metadata": {
        "id": "Pd4pQcGwS4en",
        "colab": {
          "base_uri": "https://localhost:8080/"
        },
        "outputId": "352eb44a-c668-467a-910f-33a1f1ad0cc3"
      },
      "source": [
        "HH_player = Player(\"HH\")\n",
        "HH_URL = URL(HH_player)\n",
        "HH_info = player_info(HH_URL)\n",
        "HH = to_DF(HH_player, HH_info)"
      ],
      "execution_count": 43,
      "outputs": [
        {
          "output_type": "stream",
          "text": [
            "79\n",
            "[['7', '강경학', '한화', '내야수', '1992-08-11', '180cm,', '72kg', '광주대성초-광주동성중-광주동성고'], ['19', '강상원', '한화', '외야수', '1997-05-05', '172cm,', '64kg', '온양온천초-온양중-북일고'], ['55', '강재민', '한화', '투수', '1997-04-03', '180cm,', '86kg', '양덕초-마산중-용마고-단국대'], ['65', '권용우', '한화', '투수', '1993-03-17', '183cm,', '80kg', '도신초-성남중-성남고-동의대'], ['03', '김규연', '한화', '투수', '2002-08-23', '183cm,', '83kg', '동수원초(수원영통리틀)-매향중-공주고'], ['15', '김기중', '한화', '투수', '2002-11-16', '186cm,', '94kg', '의왕부곡초-매송중-유신고'], ['29', '김기탁', '한화', '투수', '1998-09-30', '182cm,', '82kg', '분성초(장유리틀)-내동중-김해고'], ['53', '김민우', '한화', '투수', '1995-07-25', '189cm,', '105kg', '사파초-마산중-용마고'], ['39', '김민하', '한화', '외야수', '1989-02-25', '181cm,', '88kg', '승학초-대신중-경남고-중앙대-롯데-상무-롯데'], ['47', '김범수', '한화', '투수', '1995-10-03', '182cm,', '81kg', '온양온천초-온양중-북일고'], ['94', '김승일', '한화', '투수', '2001-07-07', '183cm,', '85kg', '해강초(해운대리틀)-센텀중-경남고'], ['45', '김이환', '한화', '투수', '2000-09-15', '183cm,', '87kg', '길원초(동대문구리틀)-잠신중-신일고'], ['1', '김종수', '한화', '투수', '1994-06-03', '180cm,', '80kg', '성동초-덕수중-울산공고'], ['69', '김지수', '한화', '외야수', '1996-10-29', '178cm,', '78kg', '소래초-평촌중-유신고-롯데'], ['37', '김진영', '한화', '투수', '1992-04-16', '180cm,', '89kg', '경희초(도봉구리틀)-홍은중-덕수고'], ['32', '김진욱', '한화', '투수', '2000-01-13', '176cm,', '79kg', '망원초(마포구리틀)-신일중-유신고'], ['91', '김태욱', '한화', '투수', '1998-04-15', '187cm,', '88kg', '온양초-온양중-북일고'], ['12', '김현민', '한화', '내야수', '2000-02-23', '183cm,', '82kg', '양정초-개성중-경남고'], ['10', '남지민', '한화', '투수', '2001-02-12', '181cm,', '95kg', '양정초-개성중-부산정보고'], ['17', '노수광', '한화', '외야수', '1990-08-06', '180cm,', '80kg', '대전유천초-청주중-청주고-건국대-한화-KIA-SK']]\n",
            "[['8', '노시환', '한화', '내야수', '2000-12-03', '185cm,', '96kg', '부산수영초-경남중-경남고'], ['2', '노태형', '한화', '내야수', '1995-02-08', '182cm,', '74kg', '천안남산초-천안북중-북일고'], ['38', '문동욱', '한화', '투수', '1992-01-07', '187cm,', '90kg', '광주수창초-광주동성중-광주동성고-건국대-롯데'], ['05', '문승진', '한화', '투수', '2002-04-02', '185cm,', '91kg', '서울청구초-홍은중-서울고'], ['42', '박상언', '한화', '포수', '1997-03-03', '185cm,', '75kg', '무원초-영남중-유신고-한화-상무'], ['9', '박정현', '한화', '내야수', '2001-07-27', '183cm,', '85kg', '부천북초-부천중-유신고'], ['41', '박주홍', '한화', '투수', '1999-08-20', '178cm,', '109kg', '광주서석초-충장중-광주제일고'], ['95', '박준범', '한화', '포수', '1996-01-19', '177cm,', '79kg', '양정초-경남중-경북고'], ['63', '박한결', '한화', '내야수', '1994-12-24', '183cm,', '76kg', '백문초(구리시립리틀)-청원중-경동고'], ['61', '배동현', '한화', '투수', '1998-03-16', '183cm,', '83kg', '판곡초(양평리틀)-언북중-경기고-한일장신대'], ['54', '서균', '한화', '투수', '1992-01-11', '185cm,', '81kg', '화곡초-영동중-청원고-원광대'], ['56', '송윤준', '한화', '투수', '1992-07-16', '186cm,', '78kg', '천안남산초-공주중-북일고-LG-경찰-LG'], ['67', '송호정', '한화', '내야수', '2002-03-10', '185cm,', '78kg', '수유초-자양중-서울고'], ['31', '신정락', '한화', '투수', '1987-05-13', '177cm,', '78kg', '천안남산초-천안북중-북일고-고려대-LG'], ['40', '신지후', '한화', '투수', '2001-06-12', '198cm,', '105kg', '대전유천초-충남중-북일고'], ['04', '안진', '한화', '포수', '2002-11-26', '183cm,', '90kg', '인헌초-영남중-경기상고'], ['07', '안창호', '한화', '외야수', '1999-07-07', '173cm,', '80kg', '둔촌초-배재중-배재고-강릉영동대'], ['58', '오동욱', '한화', '투수', '2001-02-04', '185cm,', '80kg', '광주서림초-진흥중-진흥고'], ['6', '오선진', '한화', '내야수', '1989-07-07', '178cm,', '80kg', '화곡초-성남중-성남고-한화-상무'], ['68', '유장혁', '한화', '외야수', '2000-05-30', '186cm,', '86kg', '광주서림초-충장중-광주제일고']]\n",
            "[['5', '윤대경', '한화', '투수', '1994-04-09', '179cm,', '75kg', '인천서림초-동인천중-인천고-삼성'], ['18', '윤호솔', '한화', '투수', '1994-07-15', '183cm,', '99kg', '온양온천초-온양중-북일고-NC'], ['14', '이도윤', '한화', '내야수', '1996-10-07', '173cm,', '71kg', '고명초-배재중-북일고'], ['51', '이동훈', '한화', '외야수', '1996-07-24', '178cm,', '72kg', '본리초-경운중-대구상원고'], ['50', '이성열', '한화', '내야수', '1984-07-13', '185cm,', '102kg', '순천북초-이수중-효천고-LG-두산-넥센'], ['48', '이승관', '한화', '투수', '1999-12-01', '182cm,', '95kg', '도신초-개군중-야탑고-한화-상무'], ['08', '이종완', '한화', '외야수', '1998-02-24', '170cm,', '70kg', '청주석교초-청주중-청주고-단국대'], ['02', '이준기', '한화', '투수', '2002-05-19', '181cm,', '84kg', '사당초-영남중-경기상고'], ['49', '이충호', '한화', '투수', '1994-09-20', '182cm,', '81kg', '인헌초-선린중-충암고'], ['27', '이해창', '한화', '포수', '1987-05-11', '184cm,', '85kg', '강남초-이수중-경기고-한양대-넥센-KT'], ['24', '임종찬', '한화', '외야수', '2001-09-28', '184cm,', '85kg', '청주우암초-청주중-북일고'], ['11', '임준섭', '한화', '투수', '1989-07-16', '181cm,', '88kg', '부산대연초-부산중-개성고-경성대-KIA'], ['62', '장규현', '한화', '포수', '2002-06-28', '183cm,', '96kg', '인성초(미추홀구리틀)-동인천중-인천고'], ['36', '장민재', '한화', '투수', '1990-03-19', '184cm,', '98kg', '광주화정초-무등중-광주제일고'], ['28', '장시환', '한화', '투수', '1987-11-01', '184cm,', '93kg', '태안초-태안중-북일고-현대-우리-히어로즈-상무-넥센-KT-롯데'], ['30', '장운호', '한화', '외야수', '1994-02-20', '183cm,', '85kg', '중대초-배명중-배재고-한화-상무'], ['46', '장웅정', '한화', '투수', '1997-04-11', '181cm,', '76kg', '수원신곡초-수원북중-유신고-동국대'], ['06', '장지승', '한화', '외야수', '1998-07-04', '185cm,', '90kg', '고잔초(인천남동구리틀)-동방중-동산고-성균관대'], ['98', '정경운', '한화', '내야수', '1993-08-09', '179cm,', '76kg', '광주서석초-충장중-광주제일고-성균관대'], ['44', '정기훈', '한화', '내야수', '1995-02-18', '184cm,', '78kg', '광주화정초-충장중-광주제일고']]\n",
            "[['64', '정민규', '한화', '내야수', '2003-01-10', '183cm,', '95kg', '광일초(부산서구리틀)-경남중-부산고'], ['57', '정우람', '한화', '투수', '1985-06-01', '181cm,', '82kg', '하단초-대동중-경남상고-SK'], ['43', '정은원', '한화', '내야수', '2000-01-17', '177cm,', '78kg', '상인천초-상인천중-인천고'], ['97', '정인욱', '한화', '투수', '1990-12-18', '186cm,', '85kg', '본리초-경운중-대구고-삼성-상무-삼성'], ['33', '정진호', '한화', '외야수', '1988-10-02', '185cm,', '78kg', '인헌초-선린중-유신고-중앙대-두산-상무-두산'], ['96', '조은', '한화', '투수', '2001-04-01', '186cm,', '80kg', '대전신흥초(대전동구리틀)-한밭중-대전고'], ['4', '조한민', '한화', '내야수', '2000-10-20', '182cm,', '77kg', '군산중앙초-군산중-대전고'], ['01', '조현진', '한화', '내야수', '2002-09-10', '182cm,', '73kg', '아라초(함안리틀)-창원신월중-마산고'], ['66', '주현상', '한화', '투수', '1992-08-10', '177cm,', '82kg', '청주우암초-청주중-청주고-동아대'], ['93', '최이경', '한화', '투수', '1996-03-12', '175cm,', '91kg', '역북초-수원북중-유신고-동국대'], ['34', '최인호', '한화', '외야수', '2000-01-30', '178cm,', '82kg', '송정동초-광주동성중-포철고'], ['13', '최재훈', '한화', '포수', '1989-08-27', '178cm,', '76kg', '화곡초-덕수중-덕수고-(방송통신대)-두산-경찰-두산'], ['22', '카펜터', '한화', '투수', '1990-08-22', '196cm,', '104kg', '미국', 'Gonzaga(대)'], ['20', '킹험', '한화', '투수', '1991-11-08', '196cm,', '106kg', '미국', 'Sierra', 'Vista(고)-SK'], ['16', '하주석', '한화', '내야수', '1994-02-25', '184cm,', '84kg', '강남초-덕수중-신일고-한화-상무'], ['59', '한승주', '한화', '투수', '2001-03-17', '184cm,', '82kg', '부산수영초-대천중-부산고'], ['26', '허관회', '한화', '포수', '1999-02-12', '176cm,', '83kg', '경동초(의정부리틀)-건대부중-경기고'], ['60', '황영국', '한화', '투수', '1995-12-26', '185cm,', '83kg', '청주우암초-청주중-청주고-한화-경찰'], ['25', '힐리', '한화', '내야수', '1992-01-10', '195cm,', '104kg', '미국', 'Oregon(대)']]\n"
          ],
          "name": "stdout"
        }
      ]
    },
    {
      "cell_type": "code",
      "metadata": {
        "id": "eikl_YxJdPAp"
      },
      "source": [
        "kbo_player = pd.concat([NC,OB,KT,LG,WO,HT,LT,SS,SK,HH])\n",
        "kbo_player['PlayerID'] = kbo_player['팀'] + '-' + kbo_player['number']\n",
        "kbo_player['debutYear'] = np.where(kbo_player['debut'].str.len() == 0, '','20'+kbo_player['debut'].str[:2])\n",
        "kbo_player['debutYear'] = np.where(kbo_player['debutYear'].str[2:] > '90', '19'+kbo_player['debut'].str[:2], kbo_player['debutYear'])\n",
        "kbo_player['debutTeam'] = kbo_player['debut'].str[2:]\n",
        "kbo_player = kbo_player.drop(['key','weight','url','debut'], axis=1)\n",
        "kbo_player.number = kbo_player.number.astype (\"str\")\n",
        "kbo_player.to_csv('kbo_player.csv',encoding='utf-8-sig', index = False)"
      ],
      "execution_count": 111,
      "outputs": []
    },
    {
      "cell_type": "code",
      "metadata": {
        "colab": {
          "base_uri": "https://localhost:8080/",
          "height": 402
        },
        "id": "xX1iKlYljGKA",
        "outputId": "ef10ea55-d60a-4ef6-946c-da80ea7af01a"
      },
      "source": [
        "#Result\n",
        "kbo_player"
      ],
      "execution_count": 112,
      "outputs": [
        {
          "output_type": "execute_result",
          "data": {
            "text/html": [
              "<div>\n",
              "<style scoped>\n",
              "    .dataframe tbody tr th:only-of-type {\n",
              "        vertical-align: middle;\n",
              "    }\n",
              "\n",
              "    .dataframe tbody tr th {\n",
              "        vertical-align: top;\n",
              "    }\n",
              "\n",
              "    .dataframe thead th {\n",
              "        text-align: right;\n",
              "    }\n",
              "</style>\n",
              "<table border=\"1\" class=\"dataframe\">\n",
              "  <thead>\n",
              "    <tr style=\"text-align: right;\">\n",
              "      <th></th>\n",
              "      <th>number</th>\n",
              "      <th>이름</th>\n",
              "      <th>팀</th>\n",
              "      <th>pos</th>\n",
              "      <th>birth</th>\n",
              "      <th>league</th>\n",
              "      <th>tuta_type</th>\n",
              "      <th>payment</th>\n",
              "      <th>salary</th>\n",
              "      <th>PlayerID</th>\n",
              "      <th>debutYear</th>\n",
              "      <th>debutTeam</th>\n",
              "    </tr>\n",
              "  </thead>\n",
              "  <tbody>\n",
              "    <tr>\n",
              "      <th>0</th>\n",
              "      <td>21</td>\n",
              "      <td>강동연</td>\n",
              "      <td>NC</td>\n",
              "      <td>투수</td>\n",
              "      <td>1992-12-18</td>\n",
              "      <td>1</td>\n",
              "      <td>우투우타</td>\n",
              "      <td></td>\n",
              "      <td>4400만원</td>\n",
              "      <td>NC-21</td>\n",
              "      <td>2012</td>\n",
              "      <td>두산</td>\n",
              "    </tr>\n",
              "    <tr>\n",
              "      <th>1</th>\n",
              "      <td>68</td>\n",
              "      <td>강윤구</td>\n",
              "      <td>NC</td>\n",
              "      <td>투수</td>\n",
              "      <td>1990-07-10</td>\n",
              "      <td>1</td>\n",
              "      <td>좌투좌타</td>\n",
              "      <td>12000만원</td>\n",
              "      <td>10000만원</td>\n",
              "      <td>NC-68</td>\n",
              "      <td>2009</td>\n",
              "      <td>히어로즈</td>\n",
              "    </tr>\n",
              "    <tr>\n",
              "      <th>2</th>\n",
              "      <td>49</td>\n",
              "      <td>강진성</td>\n",
              "      <td>NC</td>\n",
              "      <td>내야수</td>\n",
              "      <td>1993-10-19</td>\n",
              "      <td>1</td>\n",
              "      <td>우투우타</td>\n",
              "      <td>7000만원</td>\n",
              "      <td>12000만원</td>\n",
              "      <td>NC-49</td>\n",
              "      <td>2012</td>\n",
              "      <td>NC</td>\n",
              "    </tr>\n",
              "    <tr>\n",
              "      <th>3</th>\n",
              "      <td>78</td>\n",
              "      <td>강태경</td>\n",
              "      <td>NC</td>\n",
              "      <td>투수</td>\n",
              "      <td>2001-07-26</td>\n",
              "      <td>2</td>\n",
              "      <td>우투좌타</td>\n",
              "      <td>7000만원</td>\n",
              "      <td>3000만원</td>\n",
              "      <td>NC-78</td>\n",
              "      <td></td>\n",
              "      <td></td>\n",
              "    </tr>\n",
              "    <tr>\n",
              "      <th>4</th>\n",
              "      <td>59</td>\n",
              "      <td>구창모</td>\n",
              "      <td>NC</td>\n",
              "      <td>투수</td>\n",
              "      <td>1997-02-17</td>\n",
              "      <td>1</td>\n",
              "      <td>좌투좌타</td>\n",
              "      <td>15000만원</td>\n",
              "      <td>25000만원</td>\n",
              "      <td>NC-59</td>\n",
              "      <td>2015</td>\n",
              "      <td>NC</td>\n",
              "    </tr>\n",
              "    <tr>\n",
              "      <th>...</th>\n",
              "      <td>...</td>\n",
              "      <td>...</td>\n",
              "      <td>...</td>\n",
              "      <td>...</td>\n",
              "      <td>...</td>\n",
              "      <td>...</td>\n",
              "      <td>...</td>\n",
              "      <td>...</td>\n",
              "      <td>...</td>\n",
              "      <td>...</td>\n",
              "      <td>...</td>\n",
              "      <td>...</td>\n",
              "    </tr>\n",
              "    <tr>\n",
              "      <th>74</th>\n",
              "      <td>16</td>\n",
              "      <td>하주석</td>\n",
              "      <td>한화</td>\n",
              "      <td>내야수</td>\n",
              "      <td>1994-02-25</td>\n",
              "      <td>1</td>\n",
              "      <td>우투좌타</td>\n",
              "      <td>30000만원</td>\n",
              "      <td>13500만원</td>\n",
              "      <td>한화-16</td>\n",
              "      <td>2012</td>\n",
              "      <td>한화</td>\n",
              "    </tr>\n",
              "    <tr>\n",
              "      <th>75</th>\n",
              "      <td>59</td>\n",
              "      <td>한승주</td>\n",
              "      <td>한화</td>\n",
              "      <td>투수</td>\n",
              "      <td>2001-03-17</td>\n",
              "      <td>1</td>\n",
              "      <td>우투우타</td>\n",
              "      <td>11000만원</td>\n",
              "      <td>3000만원</td>\n",
              "      <td>한화-59</td>\n",
              "      <td>2020</td>\n",
              "      <td>한화</td>\n",
              "    </tr>\n",
              "    <tr>\n",
              "      <th>76</th>\n",
              "      <td>26</td>\n",
              "      <td>허관회</td>\n",
              "      <td>한화</td>\n",
              "      <td>포수</td>\n",
              "      <td>1999-02-12</td>\n",
              "      <td>1</td>\n",
              "      <td>우투우타</td>\n",
              "      <td>3000만원</td>\n",
              "      <td>3100만원</td>\n",
              "      <td>한화-26</td>\n",
              "      <td>2020</td>\n",
              "      <td>한화</td>\n",
              "    </tr>\n",
              "    <tr>\n",
              "      <th>77</th>\n",
              "      <td>60</td>\n",
              "      <td>황영국</td>\n",
              "      <td>한화</td>\n",
              "      <td>투수</td>\n",
              "      <td>1995-12-26</td>\n",
              "      <td>1</td>\n",
              "      <td>좌투좌타</td>\n",
              "      <td>20000만원</td>\n",
              "      <td>3300만원</td>\n",
              "      <td>한화-60</td>\n",
              "      <td>2014</td>\n",
              "      <td>한화</td>\n",
              "    </tr>\n",
              "    <tr>\n",
              "      <th>78</th>\n",
              "      <td>25</td>\n",
              "      <td>힐리</td>\n",
              "      <td>한화</td>\n",
              "      <td>내야수</td>\n",
              "      <td>1992-01-10</td>\n",
              "      <td>1</td>\n",
              "      <td>우투우타</td>\n",
              "      <td>300000달러</td>\n",
              "      <td>500000달러</td>\n",
              "      <td>한화-25</td>\n",
              "      <td>2021</td>\n",
              "      <td>한화</td>\n",
              "    </tr>\n",
              "  </tbody>\n",
              "</table>\n",
              "<p>801 rows × 12 columns</p>\n",
              "</div>"
            ],
            "text/plain": [
              "   number   이름   팀  pos  ...    salary  PlayerID debutYear debutTeam\n",
              "0      21  강동연  NC   투수  ...    4400만원     NC-21      2012        두산\n",
              "1      68  강윤구  NC   투수  ...   10000만원     NC-68      2009      히어로즈\n",
              "2      49  강진성  NC  내야수  ...   12000만원     NC-49      2012        NC\n",
              "3      78  강태경  NC   투수  ...    3000만원     NC-78                    \n",
              "4      59  구창모  NC   투수  ...   25000만원     NC-59      2015        NC\n",
              "..    ...  ...  ..  ...  ...       ...       ...       ...       ...\n",
              "74     16  하주석  한화  내야수  ...   13500만원     한화-16      2012        한화\n",
              "75     59  한승주  한화   투수  ...    3000만원     한화-59      2020        한화\n",
              "76     26  허관회  한화   포수  ...    3100만원     한화-26      2020        한화\n",
              "77     60  황영국  한화   투수  ...    3300만원     한화-60      2014        한화\n",
              "78     25   힐리  한화  내야수  ...  500000달러     한화-25      2021        한화\n",
              "\n",
              "[801 rows x 12 columns]"
            ]
          },
          "metadata": {
            "tags": []
          },
          "execution_count": 112
        }
      ]
    }
  ]
}