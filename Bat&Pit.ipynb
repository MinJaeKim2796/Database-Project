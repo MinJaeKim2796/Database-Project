{
  "nbformat": 4,
  "nbformat_minor": 0,
  "metadata": {
    "colab": {
      "name": "데이터베이스 0517-Bat&Pit.ipynb",
      "provenance": [],
      "collapsed_sections": []
    },
    "kernelspec": {
      "name": "python3",
      "display_name": "Python 3"
    },
    "language_info": {
      "name": "python"
    }
  },
  "cells": [
    {
      "cell_type": "code",
      "metadata": {
        "colab": {
          "base_uri": "https://localhost:8080/"
        },
        "id": "rjLXKi2_vPni",
        "outputId": "0cf8e2d2-548d-4553-b7ec-e92327a32d20"
      },
      "source": [
        "# 데이터 크롤링 모듈\n",
        "!pip install selenium\n",
        "from selenium import webdriver\n",
        "from bs4 import BeautifulSoup\n",
        "import re\n",
        "import time\n",
        "import pandas as pd\n",
        "import numpy as np\n",
        "from functools import reduce"
      ],
      "execution_count": 1,
      "outputs": [
        {
          "output_type": "stream",
          "text": [
            "Collecting selenium\n",
            "\u001b[?25l  Downloading https://files.pythonhosted.org/packages/80/d6/4294f0b4bce4de0abf13e17190289f9d0613b0a44e5dd6a7f5ca98459853/selenium-3.141.0-py2.py3-none-any.whl (904kB)\n",
            "\r\u001b[K     |▍                               | 10kB 10.9MB/s eta 0:00:01\r\u001b[K     |▊                               | 20kB 13.7MB/s eta 0:00:01\r\u001b[K     |█                               | 30kB 13.3MB/s eta 0:00:01\r\u001b[K     |█▌                              | 40kB 14.9MB/s eta 0:00:01\r\u001b[K     |█▉                              | 51kB 8.4MB/s eta 0:00:01\r\u001b[K     |██▏                             | 61kB 9.7MB/s eta 0:00:01\r\u001b[K     |██▌                             | 71kB 7.7MB/s eta 0:00:01\r\u001b[K     |███                             | 81kB 8.6MB/s eta 0:00:01\r\u001b[K     |███▎                            | 92kB 8.7MB/s eta 0:00:01\r\u001b[K     |███▋                            | 102kB 7.8MB/s eta 0:00:01\r\u001b[K     |████                            | 112kB 7.8MB/s eta 0:00:01\r\u001b[K     |████▍                           | 122kB 7.8MB/s eta 0:00:01\r\u001b[K     |████▊                           | 133kB 7.8MB/s eta 0:00:01\r\u001b[K     |█████                           | 143kB 7.8MB/s eta 0:00:01\r\u001b[K     |█████▍                          | 153kB 7.8MB/s eta 0:00:01\r\u001b[K     |█████▉                          | 163kB 7.8MB/s eta 0:00:01\r\u001b[K     |██████▏                         | 174kB 7.8MB/s eta 0:00:01\r\u001b[K     |██████▌                         | 184kB 7.8MB/s eta 0:00:01\r\u001b[K     |██████▉                         | 194kB 7.8MB/s eta 0:00:01\r\u001b[K     |███████▎                        | 204kB 7.8MB/s eta 0:00:01\r\u001b[K     |███████▋                        | 215kB 7.8MB/s eta 0:00:01\r\u001b[K     |████████                        | 225kB 7.8MB/s eta 0:00:01\r\u001b[K     |████████▎                       | 235kB 7.8MB/s eta 0:00:01\r\u001b[K     |████████▊                       | 245kB 7.8MB/s eta 0:00:01\r\u001b[K     |█████████                       | 256kB 7.8MB/s eta 0:00:01\r\u001b[K     |█████████▍                      | 266kB 7.8MB/s eta 0:00:01\r\u001b[K     |█████████▉                      | 276kB 7.8MB/s eta 0:00:01\r\u001b[K     |██████████▏                     | 286kB 7.8MB/s eta 0:00:01\r\u001b[K     |██████████▌                     | 296kB 7.8MB/s eta 0:00:01\r\u001b[K     |██████████▉                     | 307kB 7.8MB/s eta 0:00:01\r\u001b[K     |███████████▎                    | 317kB 7.8MB/s eta 0:00:01\r\u001b[K     |███████████▋                    | 327kB 7.8MB/s eta 0:00:01\r\u001b[K     |████████████                    | 337kB 7.8MB/s eta 0:00:01\r\u001b[K     |████████████▎                   | 348kB 7.8MB/s eta 0:00:01\r\u001b[K     |████████████▊                   | 358kB 7.8MB/s eta 0:00:01\r\u001b[K     |█████████████                   | 368kB 7.8MB/s eta 0:00:01\r\u001b[K     |█████████████▍                  | 378kB 7.8MB/s eta 0:00:01\r\u001b[K     |█████████████▊                  | 389kB 7.8MB/s eta 0:00:01\r\u001b[K     |██████████████▏                 | 399kB 7.8MB/s eta 0:00:01\r\u001b[K     |██████████████▌                 | 409kB 7.8MB/s eta 0:00:01\r\u001b[K     |██████████████▉                 | 419kB 7.8MB/s eta 0:00:01\r\u001b[K     |███████████████▏                | 430kB 7.8MB/s eta 0:00:01\r\u001b[K     |███████████████▋                | 440kB 7.8MB/s eta 0:00:01\r\u001b[K     |████████████████                | 450kB 7.8MB/s eta 0:00:01\r\u001b[K     |████████████████▎               | 460kB 7.8MB/s eta 0:00:01\r\u001b[K     |████████████████▋               | 471kB 7.8MB/s eta 0:00:01\r\u001b[K     |█████████████████               | 481kB 7.8MB/s eta 0:00:01\r\u001b[K     |█████████████████▍              | 491kB 7.8MB/s eta 0:00:01\r\u001b[K     |█████████████████▊              | 501kB 7.8MB/s eta 0:00:01\r\u001b[K     |██████████████████▏             | 512kB 7.8MB/s eta 0:00:01\r\u001b[K     |██████████████████▌             | 522kB 7.8MB/s eta 0:00:01\r\u001b[K     |██████████████████▉             | 532kB 7.8MB/s eta 0:00:01\r\u001b[K     |███████████████████▏            | 542kB 7.8MB/s eta 0:00:01\r\u001b[K     |███████████████████▋            | 552kB 7.8MB/s eta 0:00:01\r\u001b[K     |████████████████████            | 563kB 7.8MB/s eta 0:00:01\r\u001b[K     |████████████████████▎           | 573kB 7.8MB/s eta 0:00:01\r\u001b[K     |████████████████████▋           | 583kB 7.8MB/s eta 0:00:01\r\u001b[K     |█████████████████████           | 593kB 7.8MB/s eta 0:00:01\r\u001b[K     |█████████████████████▍          | 604kB 7.8MB/s eta 0:00:01\r\u001b[K     |█████████████████████▊          | 614kB 7.8MB/s eta 0:00:01\r\u001b[K     |██████████████████████          | 624kB 7.8MB/s eta 0:00:01\r\u001b[K     |██████████████████████▌         | 634kB 7.8MB/s eta 0:00:01\r\u001b[K     |██████████████████████▉         | 645kB 7.8MB/s eta 0:00:01\r\u001b[K     |███████████████████████▏        | 655kB 7.8MB/s eta 0:00:01\r\u001b[K     |███████████████████████▌        | 665kB 7.8MB/s eta 0:00:01\r\u001b[K     |████████████████████████        | 675kB 7.8MB/s eta 0:00:01\r\u001b[K     |████████████████████████▎       | 686kB 7.8MB/s eta 0:00:01\r\u001b[K     |████████████████████████▋       | 696kB 7.8MB/s eta 0:00:01\r\u001b[K     |█████████████████████████       | 706kB 7.8MB/s eta 0:00:01\r\u001b[K     |█████████████████████████▍      | 716kB 7.8MB/s eta 0:00:01\r\u001b[K     |█████████████████████████▊      | 727kB 7.8MB/s eta 0:00:01\r\u001b[K     |██████████████████████████      | 737kB 7.8MB/s eta 0:00:01\r\u001b[K     |██████████████████████████▍     | 747kB 7.8MB/s eta 0:00:01\r\u001b[K     |██████████████████████████▉     | 757kB 7.8MB/s eta 0:00:01\r\u001b[K     |███████████████████████████▏    | 768kB 7.8MB/s eta 0:00:01\r\u001b[K     |███████████████████████████▌    | 778kB 7.8MB/s eta 0:00:01\r\u001b[K     |████████████████████████████    | 788kB 7.8MB/s eta 0:00:01\r\u001b[K     |████████████████████████████▎   | 798kB 7.8MB/s eta 0:00:01\r\u001b[K     |████████████████████████████▋   | 808kB 7.8MB/s eta 0:00:01\r\u001b[K     |█████████████████████████████   | 819kB 7.8MB/s eta 0:00:01\r\u001b[K     |█████████████████████████████▍  | 829kB 7.8MB/s eta 0:00:01\r\u001b[K     |█████████████████████████████▊  | 839kB 7.8MB/s eta 0:00:01\r\u001b[K     |██████████████████████████████  | 849kB 7.8MB/s eta 0:00:01\r\u001b[K     |██████████████████████████████▍ | 860kB 7.8MB/s eta 0:00:01\r\u001b[K     |██████████████████████████████▉ | 870kB 7.8MB/s eta 0:00:01\r\u001b[K     |███████████████████████████████▏| 880kB 7.8MB/s eta 0:00:01\r\u001b[K     |███████████████████████████████▌| 890kB 7.8MB/s eta 0:00:01\r\u001b[K     |███████████████████████████████▉| 901kB 7.8MB/s eta 0:00:01\r\u001b[K     |████████████████████████████████| 911kB 7.8MB/s \n",
            "\u001b[?25hRequirement already satisfied: urllib3 in /usr/local/lib/python3.7/dist-packages (from selenium) (1.24.3)\n",
            "Installing collected packages: selenium\n",
            "Successfully installed selenium-3.141.0\n"
          ],
          "name": "stdout"
        }
      ]
    },
    {
      "cell_type": "code",
      "metadata": {
        "colab": {
          "base_uri": "https://localhost:8080/"
        },
        "id": "g6W1CraFvcEx",
        "outputId": "cd7e1702-39c3-4510-e7ed-81a6c1c169e2"
      },
      "source": [
        "!apt-get update\n",
        "!apt install chromium-chromedriver\n",
        "!cp /usr/lib/chromium-browser/chromedriver /usr/bin"
      ],
      "execution_count": 2,
      "outputs": [
        {
          "output_type": "stream",
          "text": [
            "\r0% [Working]\r            \rIgn:1 https://developer.download.nvidia.com/compute/cuda/repos/ubuntu1804/x86_64  InRelease\n",
            "\r0% [Connecting to archive.ubuntu.com] [Connecting to security.ubuntu.com] [Wait\r                                                                               \rIgn:2 https://developer.download.nvidia.com/compute/machine-learning/repos/ubuntu1804/x86_64  InRelease\n",
            "\r0% [Connecting to archive.ubuntu.com] [Connecting to security.ubuntu.com] [Wait\r                                                                               \rGet:3 https://cloud.r-project.org/bin/linux/ubuntu bionic-cran40/ InRelease [3,626 B]\n",
            "\r0% [Connecting to archive.ubuntu.com] [Connecting to security.ubuntu.com] [3 In\r0% [Connecting to archive.ubuntu.com] [Connecting to security.ubuntu.com] [Conn\r                                                                               \rGet:4 https://developer.download.nvidia.com/compute/cuda/repos/ubuntu1804/x86_64  Release [697 B]\n",
            "\r0% [Connecting to archive.ubuntu.com] [Connecting to security.ubuntu.com] [Conn\r0% [3 InRelease gpgv 3,626 B] [Connecting to archive.ubuntu.com] [Connecting to\r                                                                               \rHit:5 https://developer.download.nvidia.com/compute/machine-learning/repos/ubuntu1804/x86_64  Release\n",
            "Get:6 https://developer.download.nvidia.com/compute/cuda/repos/ubuntu1804/x86_64  Release.gpg [836 B]\n",
            "Get:7 http://security.ubuntu.com/ubuntu bionic-security InRelease [88.7 kB]\n",
            "Get:8 https://cloud.r-project.org/bin/linux/ubuntu bionic-cran40/ Packages [56.8 kB]\n",
            "Get:9 http://ppa.launchpad.net/c2d4u.team/c2d4u4.0+/ubuntu bionic InRelease [15.9 kB]\n",
            "Hit:10 http://archive.ubuntu.com/ubuntu bionic InRelease\n",
            "Get:12 http://archive.ubuntu.com/ubuntu bionic-updates InRelease [88.7 kB]\n",
            "Ign:13 https://developer.download.nvidia.com/compute/cuda/repos/ubuntu1804/x86_64  Packages\n",
            "Get:13 https://developer.download.nvidia.com/compute/cuda/repos/ubuntu1804/x86_64  Packages [772 kB]\n",
            "Hit:14 http://ppa.launchpad.net/cran/libgit2/ubuntu bionic InRelease\n",
            "Hit:15 http://ppa.launchpad.net/deadsnakes/ppa/ubuntu bionic InRelease\n",
            "Get:16 http://archive.ubuntu.com/ubuntu bionic-backports InRelease [74.6 kB]\n",
            "Get:17 http://security.ubuntu.com/ubuntu bionic-security/universe amd64 Packages [1,411 kB]\n",
            "Get:18 http://ppa.launchpad.net/graphics-drivers/ppa/ubuntu bionic InRelease [21.3 kB]\n",
            "Get:19 http://security.ubuntu.com/ubuntu bionic-security/restricted amd64 Packages [423 kB]\n",
            "Get:20 http://security.ubuntu.com/ubuntu bionic-security/main amd64 Packages [2,150 kB]\n",
            "Get:21 http://ppa.launchpad.net/c2d4u.team/c2d4u4.0+/ubuntu bionic/main Sources [1,767 kB]\n",
            "Get:22 http://archive.ubuntu.com/ubuntu bionic-updates/restricted amd64 Packages [452 kB]\n",
            "Get:23 http://archive.ubuntu.com/ubuntu bionic-updates/universe amd64 Packages [2,183 kB]\n",
            "Get:24 http://archive.ubuntu.com/ubuntu bionic-updates/main amd64 Packages [2,582 kB]\n",
            "Get:25 http://ppa.launchpad.net/c2d4u.team/c2d4u4.0+/ubuntu bionic/main amd64 Packages [904 kB]\n",
            "Get:26 http://ppa.launchpad.net/graphics-drivers/ppa/ubuntu bionic/main amd64 Packages [41.5 kB]\n",
            "Fetched 13.0 MB in 4s (3,085 kB/s)\n",
            "Reading package lists... Done\n",
            "Reading package lists... Done\n",
            "Building dependency tree       \n",
            "Reading state information... Done\n",
            "The following package was automatically installed and is no longer required:\n",
            "  libnvidia-common-460\n",
            "Use 'apt autoremove' to remove it.\n",
            "The following additional packages will be installed:\n",
            "  chromium-browser chromium-browser-l10n chromium-codecs-ffmpeg-extra\n",
            "Suggested packages:\n",
            "  webaccounts-chromium-extension unity-chromium-extension\n",
            "The following NEW packages will be installed:\n",
            "  chromium-browser chromium-browser-l10n chromium-chromedriver\n",
            "  chromium-codecs-ffmpeg-extra\n",
            "0 upgraded, 4 newly installed, 0 to remove and 64 not upgraded.\n",
            "Need to get 86.6 MB of archives.\n",
            "After this operation, 300 MB of additional disk space will be used.\n",
            "Get:1 http://archive.ubuntu.com/ubuntu bionic-updates/universe amd64 chromium-codecs-ffmpeg-extra amd64 90.0.4430.93-0ubuntu0.18.04.1 [1,128 kB]\n",
            "Get:2 http://archive.ubuntu.com/ubuntu bionic-updates/universe amd64 chromium-browser amd64 90.0.4430.93-0ubuntu0.18.04.1 [76.9 MB]\n",
            "Get:3 http://archive.ubuntu.com/ubuntu bionic-updates/universe amd64 chromium-browser-l10n all 90.0.4430.93-0ubuntu0.18.04.1 [3,853 kB]\n",
            "Get:4 http://archive.ubuntu.com/ubuntu bionic-updates/universe amd64 chromium-chromedriver amd64 90.0.4430.93-0ubuntu0.18.04.1 [4,743 kB]\n",
            "Fetched 86.6 MB in 6s (15.2 MB/s)\n",
            "Selecting previously unselected package chromium-codecs-ffmpeg-extra.\n",
            "(Reading database ... 160706 files and directories currently installed.)\n",
            "Preparing to unpack .../chromium-codecs-ffmpeg-extra_90.0.4430.93-0ubuntu0.18.04.1_amd64.deb ...\n",
            "Unpacking chromium-codecs-ffmpeg-extra (90.0.4430.93-0ubuntu0.18.04.1) ...\n",
            "Selecting previously unselected package chromium-browser.\n",
            "Preparing to unpack .../chromium-browser_90.0.4430.93-0ubuntu0.18.04.1_amd64.deb ...\n",
            "Unpacking chromium-browser (90.0.4430.93-0ubuntu0.18.04.1) ...\n",
            "Selecting previously unselected package chromium-browser-l10n.\n",
            "Preparing to unpack .../chromium-browser-l10n_90.0.4430.93-0ubuntu0.18.04.1_all.deb ...\n",
            "Unpacking chromium-browser-l10n (90.0.4430.93-0ubuntu0.18.04.1) ...\n",
            "Selecting previously unselected package chromium-chromedriver.\n",
            "Preparing to unpack .../chromium-chromedriver_90.0.4430.93-0ubuntu0.18.04.1_amd64.deb ...\n",
            "Unpacking chromium-chromedriver (90.0.4430.93-0ubuntu0.18.04.1) ...\n",
            "Setting up chromium-codecs-ffmpeg-extra (90.0.4430.93-0ubuntu0.18.04.1) ...\n",
            "Setting up chromium-browser (90.0.4430.93-0ubuntu0.18.04.1) ...\n",
            "update-alternatives: using /usr/bin/chromium-browser to provide /usr/bin/x-www-browser (x-www-browser) in auto mode\n",
            "update-alternatives: using /usr/bin/chromium-browser to provide /usr/bin/gnome-www-browser (gnome-www-browser) in auto mode\n",
            "Setting up chromium-chromedriver (90.0.4430.93-0ubuntu0.18.04.1) ...\n",
            "Setting up chromium-browser-l10n (90.0.4430.93-0ubuntu0.18.04.1) ...\n",
            "Processing triggers for man-db (2.8.3-2ubuntu0.1) ...\n",
            "Processing triggers for hicolor-icon-theme (0.17-2) ...\n",
            "Processing triggers for mime-support (3.60ubuntu1) ...\n",
            "Processing triggers for libc-bin (2.27-3ubuntu1.2) ...\n",
            "/sbin/ldconfig.real: /usr/local/lib/python3.7/dist-packages/ideep4py/lib/libmkldnn.so.0 is not a symbolic link\n",
            "\n",
            "cp: '/usr/lib/chromium-browser/chromedriver' and '/usr/bin/chromedriver' are the same file\n"
          ],
          "name": "stdout"
        }
      ]
    },
    {
      "cell_type": "code",
      "metadata": {
        "id": "lMJHfSHgvezh"
      },
      "source": [
        "\n",
        "chrome_options = webdriver.ChromeOptions()\n",
        "\n",
        "chrome_options.add_argument('--headless') #내부 창을 띄울 수 없으므로 설정\n",
        "\n",
        "chrome_options.add_argument('--no-sandbox')\n",
        "\n",
        "chrome_options.add_argument('--disable-dev-shm-usage')\n",
        "\n",
        "driver = webdriver.Chrome('chromedriver',options=chrome_options)"
      ],
      "execution_count": 3,
      "outputs": []
    },
    {
      "cell_type": "code",
      "metadata": {
        "id": "PnFktdo6vnEb"
      },
      "source": [
        "def create_table(column):\n",
        "    df = []\n",
        "    df = pd.DataFrame(columns=column)\n",
        "    html = driver.page_source\n",
        "    bsObject = BeautifulSoup(html, 'html.parser')\n",
        "    temp = bsObject.find_all(\"table\")[1]\n",
        "    templen = len(temp.find_all(\"tr\"))\n",
        "    \n",
        "    for i in range(2, templen):\n",
        "        tempTr = temp.find_all(\"tr\")[i]\n",
        "        if(tempTr.find(\"th\") is not None):\n",
        "            continue\n",
        "        row = {}\n",
        "        column_idx = 0\n",
        "        for j in range(len(column)):\n",
        "            tempTd = tempTr.find_all(\"td\")[j].text\n",
        "            if(tempTd == \"\" and j > 0):\n",
        "                continue\n",
        "            row[column[column_idx]] = tempTd\n",
        "            column_idx += 1\n",
        "        df = df.append(row,ignore_index=True)\n",
        "\n",
        "    html = driver.find_element_by_xpath('//*[@id=\"mytable\"]/tbody').get_attribute(\"innerHTML\") #기록 table을 str형태로 저장\n",
        "    soup = BeautifulSoup(html, 'html.parser') \n",
        "    \n",
        "    href = [i.find(\"a\") for i in soup.findAll('tr') if 'birth' in i.find('a').attrs['href']]\n",
        "    p = re.compile(\"\\d{4}\\-\\d{2}\\-\\d{2}\")\n",
        "    birth = [p.findall(i.attrs['href'])[0] for i in href]\n",
        "    birth = pd.DataFrame(birth, columns = [\"birth\"])\n",
        "    tag = pd.DataFrame(columns = ['tag'])\n",
        "    tag[\"tag\"] = df[\"이름\"] + birth[\"birth\"]\n",
        "    df = df.replace('  ',0)\n",
        "    return pd.concat([df, tag], axis=1)"
      ],
      "execution_count": 105,
      "outputs": []
    },
    {
      "cell_type": "code",
      "metadata": {
        "id": "ywo4OTREvqvx"
      },
      "source": [
        "#Bat base\n",
        "driver.get(\"http://www.statiz.co.kr/stat.php?opt=0&sopt=0&re=0&ys=2021&ye=2021&se=0&te=&tm=&ty=0&qu=auto&po=0&as=&ae=&hi=&un=&pl=&da=1&o1=WAR_ALL_ADJ&o2=TPA&de=1&lr=0&tr=&cv=&ml=1&sn=234\")\n",
        "\n",
        "column = [\"순\",\"이름\",\"팀\",\"WAR\",\"G\",\"타석\",\"타수\",\"득점\",\"안타\",\"2타\",\"3타\",\"홈런\",\"루타\",\"타점\",\"도루\",\"도실\",\"볼넷\",\"사구\",\"삼진\",\"병살\",\"희타\",\"희비\",\n",
        "          \"WAR+\",\"타율\",\"출루\",\"장타\",\"OPS\",\"wOBA\",\"wRC+\",\"WAR2\",\"WPA\"]"
      ],
      "execution_count": 60,
      "outputs": []
    },
    {
      "cell_type": "code",
      "metadata": {
        "id": "sUSCnz8HvskC"
      },
      "source": [
        "bat_base = create_table(column)\n",
        "bat_base = bat_base[['이름', '팀','WAR','G','OPS','wOBA', 'wRC+', 'WPA','tag']]"
      ],
      "execution_count": 83,
      "outputs": []
    },
    {
      "cell_type": "code",
      "metadata": {
        "id": "O8Jrw0yuvxKD"
      },
      "source": [
        "driver.get('http://www.statiz.co.kr/stat.php?opt=0&sopt=0&re=0&ys=2021&ye=2021&se=0&te=&tm=&ty=0&qu=all&po=0&as=&ae=&hi=&un=&pl=&da=2&o1=WRCPLUS&de=1&o2=WAR_ALL&lr=0&tr=&cv=&ml=1&sn=234')\n",
        "\n",
        "column = [\"순\",\"이름\",\"팀\",\"wRC+\",\"타석\",\"HR%\",\"BB%\",\"K%\",\"BB/K\",\"IsoP\",\"IsoD\",\"BABIP\",\"Spd\",\"PSN\",\"wOBA\",\n",
        "          \"wRC\",\"wRC/27\",\"wRAA\",\"wOBA2\",\"wRC2\",\"wRC/272\",\"wRAA\",\"wRC+2\"]\n",
        "bat_plus = create_table(column)"
      ],
      "execution_count": 84,
      "outputs": []
    },
    {
      "cell_type": "code",
      "metadata": {
        "id": "Atzf_YGGv0j1"
      },
      "source": [
        "bat_plus = bat_plus[['BB/K','IsoP','IsoD','BABIP','Spd','tag']]"
      ],
      "execution_count": 85,
      "outputs": []
    },
    {
      "cell_type": "code",
      "metadata": {
        "id": "vWbj0M8Rw5UT"
      },
      "source": [
        "driver.get('http://www.statiz.co.kr/stat.php?opt=0&sopt=0&re=0&ys=2021&ye=2021&se=0&te=&tm=&ty=0&qu=all&po=0&as=&ae=&hi=&un=&pl=&da=4&o1=WPA&de=1&o2=WAR_ALL&lr=0&tr=&cv=&ml=1&sn=234')\n",
        "\n",
        "column = [\"순\",\"이름\",\"팀\",\"WPA\",\"PA\",\"PA%\",\"PA타율\",\"타점\",\"순수\",\"주자\",\"타점%\",\"RE타격\",\"RE주루\",\"RE24\",\"REW\",\n",
        "          \"WPA타격\",\"WPA주루\",\"WPA+\",\"WPA-\",\"WPA2\",\"pLI\",\"WPA/LI\",\"Clutch\",\"ph\",\"phLI\"]\n",
        "bat_clutch = create_table(column)"
      ],
      "execution_count": 86,
      "outputs": []
    },
    {
      "cell_type": "code",
      "metadata": {
        "id": "zcci1QF-yY2I"
      },
      "source": [
        "bat_clutch = bat_clutch[['pLI','Clutch','tag']]"
      ],
      "execution_count": 87,
      "outputs": []
    },
    {
      "cell_type": "code",
      "metadata": {
        "id": "gZBP3cvPyhBc"
      },
      "source": [
        "driver.get('http://www.statiz.co.kr/stat.php?opt=0&sopt=0&re=0&ys=2021&ye=2021&se=0&te=&tm=&ty=0&qu=all&po=0&as=&ae=&hi=&un=&pl=&da=5&o1=PPA&de=1&o2=WAR_ALL&lr=0&tr=&cv=&ml=1&sn=234')\n",
        "\n",
        "column = [\"순\",\"이름\",\"팀\",\"P/PA\",\"타석\",\"투구\",\"P/PA2\",\"루킹\",\"헛스윙\",\"파울\",\"타격\",\"S%\",\"B%\",\"배트 전체\",\"초구\",\n",
        "          \"컨택%\",\"2S후C&\",\"2S후선구%\",\"스윙삼진\",\"루킹삼진\",\"LSO%\",\"N\",\"스윙\",\"W%\"]\n",
        "bat_atbat = create_table(column)"
      ],
      "execution_count": 88,
      "outputs": []
    },
    {
      "cell_type": "code",
      "metadata": {
        "id": "Zs67KR0nzUBN"
      },
      "source": [
        "bat_atbat = bat_atbat[['P/PA','tag']]"
      ],
      "execution_count": 89,
      "outputs": []
    },
    {
      "cell_type": "code",
      "metadata": {
        "id": "Wo__r2QU2iPZ"
      },
      "source": [
        "dfs = [bat_base, bat_plus, bat_clutch, bat_atbat]\n",
        "batter = reduce(lambda left, right: pd.merge(left, right, on='tag'), dfs)"
      ],
      "execution_count": 99,
      "outputs": []
    },
    {
      "cell_type": "code",
      "metadata": {
        "id": "cLILvOvj3KCt"
      },
      "source": [
        "batter['팀'] = np.where(batter['팀'].str[2] == 'N', 'NC', batter['팀'])\n",
        "batter['팀'] = np.where(batter['팀'].str[2] == '두', '두산', batter['팀'])\n",
        "batter['팀'] = np.where(batter['팀'].str[2] == '키', '키움', batter['팀'])\n",
        "batter['팀'] = np.where(batter['팀'].str[2] == 'L', 'LG', batter['팀'])\n",
        "batter['팀'] = np.where(batter['팀'].str[2] == 'K', 'K', batter['팀'])\n",
        "batter['팀'] = np.where(batter['팀'].str[2] == '롯', 'NC', batter['팀'])\n",
        "batter['팀'] = np.where(batter['팀'].str[2] == '삼', '삼성', batter['팀'])\n",
        "batter['팀'] = np.where(batter['팀'].str[2] == 'S', 'SSG', batter['팀'])\n",
        "batter['팀'] = np.where(batter['팀'].str[2] == '한', '한화', batter['팀'])"
      ],
      "execution_count": 100,
      "outputs": []
    },
    {
      "cell_type": "code",
      "metadata": {
        "id": "jPFvPwdnGUgX"
      },
      "source": [
        "batter = batter.drop(['tag'], axis=1)"
      ],
      "execution_count": 102,
      "outputs": []
    },
    {
      "cell_type": "code",
      "metadata": {
        "colab": {
          "base_uri": "https://localhost:8080/",
          "height": 402
        },
        "id": "ozJpbpw53GLM",
        "outputId": "2f2d467b-51bc-4663-cd35-1173e94d0725"
      },
      "source": [
        "# Result\n",
        "batter"
      ],
      "execution_count": 103,
      "outputs": [
        {
          "output_type": "execute_result",
          "data": {
            "text/html": [
              "<div>\n",
              "<style scoped>\n",
              "    .dataframe tbody tr th:only-of-type {\n",
              "        vertical-align: middle;\n",
              "    }\n",
              "\n",
              "    .dataframe tbody tr th {\n",
              "        vertical-align: top;\n",
              "    }\n",
              "\n",
              "    .dataframe thead th {\n",
              "        text-align: right;\n",
              "    }\n",
              "</style>\n",
              "<table border=\"1\" class=\"dataframe\">\n",
              "  <thead>\n",
              "    <tr style=\"text-align: right;\">\n",
              "      <th></th>\n",
              "      <th>이름</th>\n",
              "      <th>팀</th>\n",
              "      <th>WAR</th>\n",
              "      <th>G</th>\n",
              "      <th>OPS</th>\n",
              "      <th>wOBA</th>\n",
              "      <th>wRC+</th>\n",
              "      <th>WPA</th>\n",
              "      <th>BB/K</th>\n",
              "      <th>IsoP</th>\n",
              "      <th>IsoD</th>\n",
              "      <th>BABIP</th>\n",
              "      <th>Spd</th>\n",
              "      <th>pLI</th>\n",
              "      <th>Clutch</th>\n",
              "      <th>P/PA</th>\n",
              "    </tr>\n",
              "  </thead>\n",
              "  <tbody>\n",
              "    <tr>\n",
              "      <th>0</th>\n",
              "      <td>알테어</td>\n",
              "      <td>NC</td>\n",
              "      <td>1.99</td>\n",
              "      <td>35</td>\n",
              "      <td>1.101</td>\n",
              "      <td>.481</td>\n",
              "      <td>178.8</td>\n",
              "      <td>1.10</td>\n",
              "      <td>0.31</td>\n",
              "      <td>.355</td>\n",
              "      <td>.068</td>\n",
              "      <td>.385</td>\n",
              "      <td>4.1</td>\n",
              "      <td>1.10</td>\n",
              "      <td>1.51</td>\n",
              "      <td>3.72</td>\n",
              "    </tr>\n",
              "    <tr>\n",
              "      <th>1</th>\n",
              "      <td>이정후</td>\n",
              "      <td>키움</td>\n",
              "      <td>1.92</td>\n",
              "      <td>37</td>\n",
              "      <td>.939</td>\n",
              "      <td>.442</td>\n",
              "      <td>159.0</td>\n",
              "      <td>0.34</td>\n",
              "      <td>1.85</td>\n",
              "      <td>.134</td>\n",
              "      <td>.101</td>\n",
              "      <td>.385</td>\n",
              "      <td>5.9</td>\n",
              "      <td>0.34</td>\n",
              "      <td>1.10</td>\n",
              "      <td>4.02</td>\n",
              "    </tr>\n",
              "    <tr>\n",
              "      <th>2</th>\n",
              "      <td>피렐라</td>\n",
              "      <td>삼성</td>\n",
              "      <td>1.81</td>\n",
              "      <td>36</td>\n",
              "      <td>1.057</td>\n",
              "      <td>.468</td>\n",
              "      <td>171.5</td>\n",
              "      <td>1.74</td>\n",
              "      <td>0.65</td>\n",
              "      <td>.290</td>\n",
              "      <td>.050</td>\n",
              "      <td>.348</td>\n",
              "      <td>4.9</td>\n",
              "      <td>1.74</td>\n",
              "      <td>1.64</td>\n",
              "      <td>3.72</td>\n",
              "    </tr>\n",
              "    <tr>\n",
              "      <th>3</th>\n",
              "      <td>강백호</td>\n",
              "      <td>K</td>\n",
              "      <td>1.81</td>\n",
              "      <td>35</td>\n",
              "      <td>1.049</td>\n",
              "      <td>.475</td>\n",
              "      <td>178.8</td>\n",
              "      <td>1.63</td>\n",
              "      <td>1.12</td>\n",
              "      <td>.183</td>\n",
              "      <td>.064</td>\n",
              "      <td>.424</td>\n",
              "      <td>3.7</td>\n",
              "      <td>1.63</td>\n",
              "      <td>1.55</td>\n",
              "      <td>4.07</td>\n",
              "    </tr>\n",
              "    <tr>\n",
              "      <th>4</th>\n",
              "      <td>양의지</td>\n",
              "      <td>NC</td>\n",
              "      <td>1.73</td>\n",
              "      <td>34</td>\n",
              "      <td>1.070</td>\n",
              "      <td>.477</td>\n",
              "      <td>178.2</td>\n",
              "      <td>1.59</td>\n",
              "      <td>1.54</td>\n",
              "      <td>.282</td>\n",
              "      <td>.115</td>\n",
              "      <td>.330</td>\n",
              "      <td>4.4</td>\n",
              "      <td>1.59</td>\n",
              "      <td>1.19</td>\n",
              "      <td>3.62</td>\n",
              "    </tr>\n",
              "    <tr>\n",
              "      <th>...</th>\n",
              "      <td>...</td>\n",
              "      <td>...</td>\n",
              "      <td>...</td>\n",
              "      <td>...</td>\n",
              "      <td>...</td>\n",
              "      <td>...</td>\n",
              "      <td>...</td>\n",
              "      <td>...</td>\n",
              "      <td>...</td>\n",
              "      <td>...</td>\n",
              "      <td>...</td>\n",
              "      <td>...</td>\n",
              "      <td>...</td>\n",
              "      <td>...</td>\n",
              "      <td>...</td>\n",
              "      <td>...</td>\n",
              "    </tr>\n",
              "    <tr>\n",
              "      <th>229</th>\n",
              "      <td>김동엽</td>\n",
              "      <td>삼성</td>\n",
              "      <td>-0.47</td>\n",
              "      <td>11</td>\n",
              "      <td>.330</td>\n",
              "      <td>.176</td>\n",
              "      <td>-15.1</td>\n",
              "      <td>-0.34</td>\n",
              "      <td>0.30</td>\n",
              "      <td>.000</td>\n",
              "      <td>.080</td>\n",
              "      <td>.160</td>\n",
              "      <td>3.3</td>\n",
              "      <td>-0.34</td>\n",
              "      <td>-0.45</td>\n",
              "      <td>4.10</td>\n",
              "    </tr>\n",
              "    <tr>\n",
              "      <th>230</th>\n",
              "      <td>박정현</td>\n",
              "      <td>한화</td>\n",
              "      <td>-0.49</td>\n",
              "      <td>27</td>\n",
              "      <td>.494</td>\n",
              "      <td>.237</td>\n",
              "      <td>25.1</td>\n",
              "      <td>-0.43</td>\n",
              "      <td>0.25</td>\n",
              "      <td>.032</td>\n",
              "      <td>.053</td>\n",
              "      <td>.288</td>\n",
              "      <td>2.7</td>\n",
              "      <td>-0.43</td>\n",
              "      <td>-0.57</td>\n",
              "      <td>3.64</td>\n",
              "    </tr>\n",
              "    <tr>\n",
              "      <th>231</th>\n",
              "      <td>도태훈</td>\n",
              "      <td>NC</td>\n",
              "      <td>-0.50</td>\n",
              "      <td>16</td>\n",
              "      <td>.192</td>\n",
              "      <td>.108</td>\n",
              "      <td>-60.4</td>\n",
              "      <td>-0.51</td>\n",
              "      <td>0.17</td>\n",
              "      <td>.000</td>\n",
              "      <td>.058</td>\n",
              "      <td>.083</td>\n",
              "      <td>2.7</td>\n",
              "      <td>-0.51</td>\n",
              "      <td>-0.55</td>\n",
              "      <td>3.94</td>\n",
              "    </tr>\n",
              "    <tr>\n",
              "      <th>232</th>\n",
              "      <td>이성열</td>\n",
              "      <td>한화</td>\n",
              "      <td>-0.50</td>\n",
              "      <td>21</td>\n",
              "      <td>.466</td>\n",
              "      <td>.246</td>\n",
              "      <td>31.2</td>\n",
              "      <td>0.01</td>\n",
              "      <td>0.53</td>\n",
              "      <td>.019</td>\n",
              "      <td>.115</td>\n",
              "      <td>.237</td>\n",
              "      <td>3.1</td>\n",
              "      <td>0.01</td>\n",
              "      <td>-0.33</td>\n",
              "      <td>3.92</td>\n",
              "    </tr>\n",
              "    <tr>\n",
              "      <th>233</th>\n",
              "      <td>임종찬</td>\n",
              "      <td>한화</td>\n",
              "      <td>-0.87</td>\n",
              "      <td>27</td>\n",
              "      <td>.440</td>\n",
              "      <td>.212</td>\n",
              "      <td>8.5</td>\n",
              "      <td>-0.75</td>\n",
              "      <td>0.17</td>\n",
              "      <td>.076</td>\n",
              "      <td>.060</td>\n",
              "      <td>.232</td>\n",
              "      <td>2.7</td>\n",
              "      <td>-0.75</td>\n",
              "      <td>-0.84</td>\n",
              "      <td>3.77</td>\n",
              "    </tr>\n",
              "  </tbody>\n",
              "</table>\n",
              "<p>234 rows × 16 columns</p>\n",
              "</div>"
            ],
            "text/plain": [
              "      이름   팀      WAR     G      OPS  ...   BABIP    Spd      pLI   Clutch    P/PA\n",
              "0    알테어  NC    1.99    35    1.101   ...   .385    4.1     1.10     1.51    3.72 \n",
              "1    이정후  키움    1.92    37     .939   ...   .385    5.9     0.34     1.10    4.02 \n",
              "2    피렐라  삼성    1.81    36    1.057   ...   .348    4.9     1.74     1.64    3.72 \n",
              "3    강백호   K    1.81    35    1.049   ...   .424    3.7     1.63     1.55    4.07 \n",
              "4    양의지  NC    1.73    34    1.070   ...   .330    4.4     1.59     1.19    3.62 \n",
              "..   ...  ..      ...   ...      ...  ...     ...    ...      ...      ...     ...\n",
              "229  김동엽  삼성   -0.47    11     .330   ...   .160    3.3    -0.34    -0.45    4.10 \n",
              "230  박정현  한화   -0.49    27     .494   ...   .288    2.7    -0.43    -0.57    3.64 \n",
              "231  도태훈  NC   -0.50    16     .192   ...   .083    2.7    -0.51    -0.55    3.94 \n",
              "232  이성열  한화   -0.50    21     .466   ...   .237    3.1     0.01    -0.33    3.92 \n",
              "233  임종찬  한화   -0.87    27     .440   ...   .232    2.7    -0.75    -0.84    3.77 \n",
              "\n",
              "[234 rows x 16 columns]"
            ]
          },
          "metadata": {
            "tags": []
          },
          "execution_count": 103
        }
      ]
    },
    {
      "cell_type": "code",
      "metadata": {
        "id": "mgKD7Mz_3Olq"
      },
      "source": [
        "batter.to_csv('batter.csv',encoding='utf-8-sig', index = False)"
      ],
      "execution_count": 122,
      "outputs": []
    },
    {
      "cell_type": "code",
      "metadata": {
        "id": "0ckjefh5GzHC"
      },
      "source": [
        "#Pit base\n",
        "driver.get(\"http://www.statiz.co.kr/stat.php?opt=0&sopt=0&re=1&ys=2021&ye=2021&se=0&te=&tm=&ty=0&qu=all&po=0&as=&ae=&hi=&un=&pl=&da=1&o1=WAR&o2=OutCount&de=1&lr=0&tr=&cv=&ml=1&sn=216\")\n",
        "\n",
        "column = [\"순\",\"이름\",\"팀\",\"WAR\",\"출장\",\"완투\",\"완봉\",\"선발\",\"승\",\"패\",\"세\",\"홀드\",\"이닝\",\"실점\",\"자책\",\"타자\",\"안타\",\"2타\",\"3타\",\"홈런\",\"볼넷\",\"고4\",\n",
        "          \"사구\",\"삼진\",\"보크\",\"폭투\",\"ERA\",\"FIP\",\"WHIP\",\"ERA+\",\"FIP+\",\"WAR2\",\"WPA\"]\n",
        "pit_base = create_table(column)"
      ],
      "execution_count": 108,
      "outputs": []
    },
    {
      "cell_type": "code",
      "metadata": {
        "id": "OrT2VJBUHwzs"
      },
      "source": [
        "pit_base = pit_base[['이름', '팀','WAR','ERA','WHIP', 'WPA','tag']]"
      ],
      "execution_count": 109,
      "outputs": []
    },
    {
      "cell_type": "code",
      "metadata": {
        "id": "BGod317THpVN"
      },
      "source": [
        "driver.get(\"http://www.statiz.co.kr/stat.php?opt=0&sopt=0&re=1&ys=2021&ye=2021&se=0&te=&tm=&ty=0&qu=all&po=0&as=&ae=&hi=&un=&pl=&da=2&o1=FIP&de=0&o2=WAR&lr=0&tr=&cv=&ml=1&sn=216\")\n",
        "\n",
        "column = [\"순\",\"이름\",\"팀\",\"FIP\",\"출장\",\"이닝\",\"ERA\",\"FIP2\",\"K/9\",\"BB/9\",\"K/BB\",\"HR/9\",\"K%\",\"BB%\",\"K-BB%\",\"PFR\",\"BABIP\",\"LOB%\",\"타율\",\"출루율\",\"장타율\",\"OPS\",\n",
        "          \"WHIP\",\"WHIP+\",\"투구\",\"IP/G\",\"P/G\",\"P/IP\",\"P/PA\",\"CYP\"]\n",
        "pit_plus = create_table(column)"
      ],
      "execution_count": 110,
      "outputs": []
    },
    {
      "cell_type": "code",
      "metadata": {
        "id": "mwltXp3AJEAO"
      },
      "source": [
        "pit_plus = pit_plus[['K-BB%','BABIP','LOB%','IP/G', 'P/PA','tag']]"
      ],
      "execution_count": 111,
      "outputs": []
    },
    {
      "cell_type": "code",
      "metadata": {
        "id": "EdXLJ675KLAJ"
      },
      "source": [
        "driver.get(\"http://www.statiz.co.kr/stat.php?opt=0&sopt=0&re=1&ys=2021&ye=2021&se=0&te=&tm=&ty=0&qu=all&po=0&as=&ae=&hi=&un=&pl=&da=4&o1=WAR_ALL&de=1&o2=WAR_ALL&lr=0&tr=&cv=&ml=1&sn=216&\")\n",
        "\n",
        "column = [\"순\",\"이름\",\"팀\",\"WAR\",\"출장\",\"이닝\",\"RAA선발\",\"RAA구원\",\"RAA\",\"대체선발\",\"대체구원\",\"대체종합\",\"RAR선발\",\"RAR구원\",\"RAR\",\"WAA선발\",\"WAA구원\",\"WAA\",\"WAR선발\",\"WAR구원\",\"WAR2\",\"fWAR\",\n",
        "          \"RA9-WAR\"]\n",
        "pit_worth = create_table(column)"
      ],
      "execution_count": 112,
      "outputs": []
    },
    {
      "cell_type": "code",
      "metadata": {
        "id": "-qZBLfs2KwW4"
      },
      "source": [
        "pit_worth = pit_worth[['RAA','RAR','WAA','tag']]"
      ],
      "execution_count": 113,
      "outputs": []
    },
    {
      "cell_type": "code",
      "metadata": {
        "id": "U-hD4bp3LdpQ"
      },
      "source": [
        "driver.get(\"http://www.statiz.co.kr/stat.php?opt=0&sopt=0&re=1&ys=2021&ye=2021&se=0&te=&tm=&ty=0&qu=all&po=0&as=&ae=&hi=&un=&pl=&da=13&o1=wFB&de=1&o2=WAR&lr=0&tr=&cv=&ml=1&sn=216\")\n",
        "\n",
        "column = [\"순\",\"이름\",\"팀\",\"가치\",\"출장\",\"이닝\",\"직구\",\"슬라이더\",\"커브\",\"체인지업\",\"스플리터\",\"싱커\",\"너클\",\"기타\",\"직\",\"슬\",\"커\",\"체\",\"스\",\"싱\",\"너\",\"기\"]\n",
        "pit_value = create_table(column)"
      ],
      "execution_count": 114,
      "outputs": []
    },
    {
      "cell_type": "code",
      "metadata": {
        "id": "uI2dXfTIL_LJ"
      },
      "source": [
        "pit_value = pit_value[['직구','슬라이더', '커브', '체인지업','스플리터','싱커','너클','tag']]"
      ],
      "execution_count": 115,
      "outputs": []
    },
    {
      "cell_type": "code",
      "metadata": {
        "id": "zaY6vE25MOPQ"
      },
      "source": [
        "dfs = [pit_base, pit_plus, pit_worth, pit_value]\n",
        "pitcher = reduce(lambda left, right: pd.merge(left, right, on='tag'), dfs)"
      ],
      "execution_count": 116,
      "outputs": []
    },
    {
      "cell_type": "code",
      "metadata": {
        "id": "2IQ8WboUMbaw"
      },
      "source": [
        "pitcher['팀'] = np.where(pitcher['팀'].str[2] == 'N', 'NC', pitcher['팀'])\n",
        "pitcher['팀'] = np.where(pitcher['팀'].str[2] == '두', '두산', pitcher['팀'])\n",
        "pitcher['팀'] = np.where(pitcher['팀'].str[2] == '키', '키움', pitcher['팀'])\n",
        "pitcher['팀'] = np.where(pitcher['팀'].str[2] == 'L', 'LG', pitcher['팀'])\n",
        "pitcher['팀'] = np.where(pitcher['팀'].str[2] == 'K', 'K', pitcher['팀'])\n",
        "pitcher['팀'] = np.where(pitcher['팀'].str[2] == '롯', 'NC', pitcher['팀'])\n",
        "pitcher['팀'] = np.where(pitcher['팀'].str[2] == '삼', '삼성', pitcher['팀'])\n",
        "pitcher['팀'] = np.where(pitcher['팀'].str[2] == 'S', 'SSG', pitcher['팀'])\n",
        "pitcher['팀'] = np.where(pitcher['팀'].str[2] == '한', '한화', pitcher['팀'])"
      ],
      "execution_count": 117,
      "outputs": []
    },
    {
      "cell_type": "code",
      "metadata": {
        "id": "OMDufdjfM_nl"
      },
      "source": [
        "pitcher = pitcher.drop(['tag'], axis=1)"
      ],
      "execution_count": 119,
      "outputs": []
    },
    {
      "cell_type": "code",
      "metadata": {
        "colab": {
          "base_uri": "https://localhost:8080/",
          "height": 536
        },
        "id": "7nJHLQWUMizm",
        "outputId": "81c4d900-5f31-4f46-b8b7-98ece1a21634"
      },
      "source": [
        "# Result\n",
        "pitcher"
      ],
      "execution_count": 120,
      "outputs": [
        {
          "output_type": "execute_result",
          "data": {
            "text/html": [
              "<div>\n",
              "<style scoped>\n",
              "    .dataframe tbody tr th:only-of-type {\n",
              "        vertical-align: middle;\n",
              "    }\n",
              "\n",
              "    .dataframe tbody tr th {\n",
              "        vertical-align: top;\n",
              "    }\n",
              "\n",
              "    .dataframe thead th {\n",
              "        text-align: right;\n",
              "    }\n",
              "</style>\n",
              "<table border=\"1\" class=\"dataframe\">\n",
              "  <thead>\n",
              "    <tr style=\"text-align: right;\">\n",
              "      <th></th>\n",
              "      <th>이름</th>\n",
              "      <th>팀</th>\n",
              "      <th>WAR</th>\n",
              "      <th>ERA</th>\n",
              "      <th>WHIP</th>\n",
              "      <th>WPA</th>\n",
              "      <th>K-BB%</th>\n",
              "      <th>BABIP</th>\n",
              "      <th>LOB%</th>\n",
              "      <th>IP/G</th>\n",
              "      <th>P/PA</th>\n",
              "      <th>RAA</th>\n",
              "      <th>RAR</th>\n",
              "      <th>WAA</th>\n",
              "      <th>직구</th>\n",
              "      <th>슬라이더</th>\n",
              "      <th>커브</th>\n",
              "      <th>체인지업</th>\n",
              "      <th>스플리터</th>\n",
              "      <th>싱커</th>\n",
              "      <th>너클</th>\n",
              "    </tr>\n",
              "  </thead>\n",
              "  <tbody>\n",
              "    <tr>\n",
              "      <th>0</th>\n",
              "      <td>원태인</td>\n",
              "      <td>삼성</td>\n",
              "      <td>3.16</td>\n",
              "      <td>1.00</td>\n",
              "      <td>1.00</td>\n",
              "      <td>2.00</td>\n",
              "      <td>19.7</td>\n",
              "      <td>.282</td>\n",
              "      <td>89.1</td>\n",
              "      <td>6.4</td>\n",
              "      <td>3.80</td>\n",
              "      <td>21.85</td>\n",
              "      <td>27.93</td>\n",
              "      <td>2.56</td>\n",
              "      <td>0.8</td>\n",
              "      <td>5.7</td>\n",
              "      <td>2.4</td>\n",
              "      <td>11.6</td>\n",
              "      <td>0.0</td>\n",
              "      <td>0.0</td>\n",
              "      <td>0.0</td>\n",
              "    </tr>\n",
              "    <tr>\n",
              "      <th>1</th>\n",
              "      <td>뷰캐넌</td>\n",
              "      <td>삼성</td>\n",
              "      <td>2.08</td>\n",
              "      <td>2.17</td>\n",
              "      <td>1.15</td>\n",
              "      <td>0.81</td>\n",
              "      <td>15.8</td>\n",
              "      <td>.287</td>\n",
              "      <td>77.5</td>\n",
              "      <td>6.2</td>\n",
              "      <td>3.95</td>\n",
              "      <td>14.26</td>\n",
              "      <td>21.85</td>\n",
              "      <td>1.42</td>\n",
              "      <td>2.5</td>\n",
              "      <td>4.3</td>\n",
              "      <td>0.6</td>\n",
              "      <td>4.0</td>\n",
              "      <td>0.0</td>\n",
              "      <td>1.1</td>\n",
              "      <td>0.0</td>\n",
              "    </tr>\n",
              "    <tr>\n",
              "      <th>2</th>\n",
              "      <td>로켓</td>\n",
              "      <td>두산</td>\n",
              "      <td>1.76</td>\n",
              "      <td>2.34</td>\n",
              "      <td>1.37</td>\n",
              "      <td>0.70</td>\n",
              "      <td>6.5</td>\n",
              "      <td>.309</td>\n",
              "      <td>84.2</td>\n",
              "      <td>6.1</td>\n",
              "      <td>3.88</td>\n",
              "      <td>12.12</td>\n",
              "      <td>18.62</td>\n",
              "      <td>1.20</td>\n",
              "      <td>0.6</td>\n",
              "      <td>0.1</td>\n",
              "      <td>0.2</td>\n",
              "      <td>5.1</td>\n",
              "      <td>0.0</td>\n",
              "      <td>6.4</td>\n",
              "      <td>0.0</td>\n",
              "    </tr>\n",
              "    <tr>\n",
              "      <th>3</th>\n",
              "      <td>박종훈</td>\n",
              "      <td>SSG</td>\n",
              "      <td>1.62</td>\n",
              "      <td>2.68</td>\n",
              "      <td>1.10</td>\n",
              "      <td>0.80</td>\n",
              "      <td>10.6</td>\n",
              "      <td>.256</td>\n",
              "      <td>73.1</td>\n",
              "      <td>6.2</td>\n",
              "      <td>3.98</td>\n",
              "      <td>10.82</td>\n",
              "      <td>17.63</td>\n",
              "      <td>1.04</td>\n",
              "      <td>1.2</td>\n",
              "      <td>0.0</td>\n",
              "      <td>4.7</td>\n",
              "      <td>0.9</td>\n",
              "      <td>0.0</td>\n",
              "      <td>2.2</td>\n",
              "      <td>0.0</td>\n",
              "    </tr>\n",
              "    <tr>\n",
              "      <th>4</th>\n",
              "      <td>수아레즈</td>\n",
              "      <td>LG</td>\n",
              "      <td>1.54</td>\n",
              "      <td>1.96</td>\n",
              "      <td>1.11</td>\n",
              "      <td>1.18</td>\n",
              "      <td>20.4</td>\n",
              "      <td>.292</td>\n",
              "      <td>81.1</td>\n",
              "      <td>5.9</td>\n",
              "      <td>3.96</td>\n",
              "      <td>10.37</td>\n",
              "      <td>16.85</td>\n",
              "      <td>0.99</td>\n",
              "      <td>3.9</td>\n",
              "      <td>4.6</td>\n",
              "      <td>-0.6</td>\n",
              "      <td>0.1</td>\n",
              "      <td>0.0</td>\n",
              "      <td>3.3</td>\n",
              "      <td>0.0</td>\n",
              "    </tr>\n",
              "    <tr>\n",
              "      <th>...</th>\n",
              "      <td>...</td>\n",
              "      <td>...</td>\n",
              "      <td>...</td>\n",
              "      <td>...</td>\n",
              "      <td>...</td>\n",
              "      <td>...</td>\n",
              "      <td>...</td>\n",
              "      <td>...</td>\n",
              "      <td>...</td>\n",
              "      <td>...</td>\n",
              "      <td>...</td>\n",
              "      <td>...</td>\n",
              "      <td>...</td>\n",
              "      <td>...</td>\n",
              "      <td>...</td>\n",
              "      <td>...</td>\n",
              "      <td>...</td>\n",
              "      <td>...</td>\n",
              "      <td>...</td>\n",
              "      <td>...</td>\n",
              "      <td>...</td>\n",
              "    </tr>\n",
              "    <tr>\n",
              "      <th>211</th>\n",
              "      <td>쿠에바스</td>\n",
              "      <td>K</td>\n",
              "      <td>-0.64</td>\n",
              "      <td>7.04</td>\n",
              "      <td>1.91</td>\n",
              "      <td>-1.01</td>\n",
              "      <td>6.0</td>\n",
              "      <td>.349</td>\n",
              "      <td>52.8</td>\n",
              "      <td>4.6</td>\n",
              "      <td>3.85</td>\n",
              "      <td>-10.79</td>\n",
              "      <td>-6.16</td>\n",
              "      <td>-0.94</td>\n",
              "      <td>-0.2</td>\n",
              "      <td>-2.9</td>\n",
              "      <td>-1.1</td>\n",
              "      <td>-6.9</td>\n",
              "      <td>0.0</td>\n",
              "      <td>0.1</td>\n",
              "      <td>0.0</td>\n",
              "    </tr>\n",
              "    <tr>\n",
              "      <th>212</th>\n",
              "      <td>장재영</td>\n",
              "      <td>키움</td>\n",
              "      <td>-0.64</td>\n",
              "      <td>16.50</td>\n",
              "      <td>2.33</td>\n",
              "      <td>-0.50</td>\n",
              "      <td>-11.8</td>\n",
              "      <td>.278</td>\n",
              "      <td>31.3</td>\n",
              "      <td>0.9</td>\n",
              "      <td>4.82</td>\n",
              "      <td>-8.03</td>\n",
              "      <td>-7.28</td>\n",
              "      <td>-0.72</td>\n",
              "      <td>-3.0</td>\n",
              "      <td>-0.5</td>\n",
              "      <td>-1.1</td>\n",
              "      <td>-0.1</td>\n",
              "      <td>0.0</td>\n",
              "      <td>0.0</td>\n",
              "      <td>0.0</td>\n",
              "    </tr>\n",
              "    <tr>\n",
              "      <th>213</th>\n",
              "      <td>임찬규</td>\n",
              "      <td>LG</td>\n",
              "      <td>-0.67</td>\n",
              "      <td>21.21</td>\n",
              "      <td>3.86</td>\n",
              "      <td>-0.75</td>\n",
              "      <td>-19.4</td>\n",
              "      <td>.526</td>\n",
              "      <td>33.3</td>\n",
              "      <td>2.3</td>\n",
              "      <td>4.26</td>\n",
              "      <td>-10.16</td>\n",
              "      <td>-9.07</td>\n",
              "      <td>-0.73</td>\n",
              "      <td>-6.1</td>\n",
              "      <td>0.0</td>\n",
              "      <td>0.8</td>\n",
              "      <td>-1.6</td>\n",
              "      <td>0.0</td>\n",
              "      <td>0.0</td>\n",
              "      <td>0.0</td>\n",
              "    </tr>\n",
              "    <tr>\n",
              "      <th>214</th>\n",
              "      <td>이준영</td>\n",
              "      <td>K</td>\n",
              "      <td>-0.72</td>\n",
              "      <td>13.50</td>\n",
              "      <td>2.18</td>\n",
              "      <td>-0.33</td>\n",
              "      <td>-7.9</td>\n",
              "      <td>.292</td>\n",
              "      <td>37.9</td>\n",
              "      <td>0.4</td>\n",
              "      <td>4.03</td>\n",
              "      <td>-6.55</td>\n",
              "      <td>-6.66</td>\n",
              "      <td>-0.81</td>\n",
              "      <td>-3.1</td>\n",
              "      <td>1.2</td>\n",
              "      <td>-2.7</td>\n",
              "      <td>0.0</td>\n",
              "      <td>0.0</td>\n",
              "      <td>0.0</td>\n",
              "      <td>0.0</td>\n",
              "    </tr>\n",
              "    <tr>\n",
              "      <th>215</th>\n",
              "      <td>이영하</td>\n",
              "      <td>두산</td>\n",
              "      <td>-0.79</td>\n",
              "      <td>11.40</td>\n",
              "      <td>2.40</td>\n",
              "      <td>-0.83</td>\n",
              "      <td>-3.8</td>\n",
              "      <td>.393</td>\n",
              "      <td>54.1</td>\n",
              "      <td>3.8</td>\n",
              "      <td>3.74</td>\n",
              "      <td>-12.23</td>\n",
              "      <td>-9.05</td>\n",
              "      <td>-0.99</td>\n",
              "      <td>-5.3</td>\n",
              "      <td>-5.3</td>\n",
              "      <td>-0.0</td>\n",
              "      <td>0.0</td>\n",
              "      <td>-0.1</td>\n",
              "      <td>0.0</td>\n",
              "      <td>0.0</td>\n",
              "    </tr>\n",
              "  </tbody>\n",
              "</table>\n",
              "<p>216 rows × 21 columns</p>\n",
              "</div>"
            ],
            "text/plain": [
              "       이름    팀      WAR      ERA    WHIP  ...      커브    체인지업    스플리터     싱커     너클\n",
              "0     원태인   삼성    3.16     1.00    1.00   ...    2.4    11.6     0.0    0.0    0.0 \n",
              "1     뷰캐넌   삼성    2.08     2.17    1.15   ...    0.6     4.0     0.0    1.1    0.0 \n",
              "2      로켓   두산    1.76     2.34    1.37   ...    0.2     5.1     0.0    6.4    0.0 \n",
              "3     박종훈  SSG    1.62     2.68    1.10   ...    4.7     0.9     0.0    2.2    0.0 \n",
              "4    수아레즈   LG    1.54     1.96    1.11   ...   -0.6     0.1     0.0    3.3    0.0 \n",
              "..    ...  ...      ...      ...     ...  ...     ...     ...     ...    ...    ...\n",
              "211  쿠에바스    K   -0.64     7.04    1.91   ...   -1.1    -6.9     0.0    0.1    0.0 \n",
              "212   장재영   키움   -0.64    16.50    2.33   ...   -1.1    -0.1     0.0    0.0    0.0 \n",
              "213   임찬규   LG   -0.67    21.21    3.86   ...    0.8    -1.6     0.0    0.0    0.0 \n",
              "214   이준영    K   -0.72    13.50    2.18   ...   -2.7     0.0     0.0    0.0    0.0 \n",
              "215   이영하   두산   -0.79    11.40    2.40   ...   -0.0     0.0    -0.1    0.0    0.0 \n",
              "\n",
              "[216 rows x 21 columns]"
            ]
          },
          "metadata": {
            "tags": []
          },
          "execution_count": 120
        }
      ]
    },
    {
      "cell_type": "code",
      "metadata": {
        "id": "Tf7SPzF6NE2X"
      },
      "source": [
        "pitcher.to_csv('pitcher.csv',encoding='utf-8-sig', index = False)"
      ],
      "execution_count": 123,
      "outputs": []
    }
  ]
}